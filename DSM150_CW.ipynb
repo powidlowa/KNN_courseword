{
 "cells": [
  {
   "cell_type": "markdown",
   "metadata": {},
   "source": [
    "# DSM 150 NEURAL NETWORK COURSEWORK"
   ]
  },
  {
   "cell_type": "markdown",
   "metadata": {},
   "source": [
    "# Introduction"
   ]
  },
  {
   "cell_type": "markdown",
   "metadata": {},
   "source": [
    "`Intro`\n",
    "\n",
    "The usage of the neural networks, and deep neural networks in particular, is extremely high nowdays. Is is actually hard to say where they are not used:\n",
    "- healthcare:\n",
    "    - image data recognition for diagnosys (tumors, pneumonia) \n",
    "- security:\n",
    "    - passport control at airports\n",
    "    - road signs management\n",
    "    - street surveillance \n",
    "- bussiness:\n",
    "    - production control\n",
    "    - autonomous vehicles\n",
    "    - on-line stores and streaming/video services\n",
    "- entertainment\n",
    "    - social networks\n",
    "    - deepfake applications\n",
    "\n",
    "and many more.\n",
    "\n",
    "Of course, for each particular task there is a suitable category of the network. In this coursework will be used Artificial Neural Network (ANN) with several dense layers - Deep Neural Network (DNN) - for the problem of products image recognition. The chosen dataset was kindly assembled by the e-commerce fashion German giant Zalando and provided through the library interface by TensorFlow. The name of the dataset is FashionMNIST, it contains 70000 fashion products of 10 categories in the form of image.  In more details dataset will be discussed below.\n",
    "\n",
    "`Objectives`\n",
    "\n",
    "With this courseworks I aim to learn how to:\n",
    "1. preform various operations on high rank tensors\n",
    "2. udestand dependecies and influence of hyperparametrs and features on model performance\n",
    "3. build deep neural network models with dense layers with the use of interface provided by Keras from TesnsorFlow\n",
    "4. reach performance of meaningful confidence (higher than 85%)\n",
    "5. interpret results and find weak sides that can be improved\n",
    "6. write suggestions on model's preformance improvement\n",
    "\n",
    "`Baseline performance`\n",
    "\n",
    "Speaking of the baseline accuracy, I would like to be realistic and set it up on 85% for the whole dataset and 70% the lowest for each category. I do understand that this is unacceptable low confidence for real-life applications and they are likely to aim to reach accuracy higher than 95% and 85% respectively. But in the same time:\n",
    "1. This course work is restricted to use exactely Dense Layers, whlist Convolutional Neural Networks (CNN) is more reasonable choice for the image recognition problem. \n",
    "2. Dataset might be quite variegated and model for some of the classes might outperfrom, whlist for some predict fairly poor. \n",
    "\n",
    "`Evauation techniques`\n",
    "\n",
    "Adding to the mentioned above, in my opinion evaluation of the model is alson reasonable to perform separately for each class. I will calculate the follwoing metrics:\n",
    "- accuracy per model and per class\n",
    "- precision and recall per calss\n",
    "\n",
    "As visulization, I will use confusion matrix and plot images along with predicted label, probability value of the prediction and true value. Confusion matrix is a great technique to show weak sides and bottlenecks of the model, and also can serve as a visual confirmation of precision/recall metrics calculation."
   ]
  },
  {
   "cell_type": "markdown",
   "metadata": {},
   "source": [
    "`Preparation steps`\n",
    "\n",
    "1. Import libraries:"
   ]
  },
  {
   "cell_type": "code",
   "execution_count": 1,
   "metadata": {},
   "outputs": [],
   "source": [
    "#ML library and data load\n",
    "\n",
    "#%pip install tensorflow\n",
    "#%pip install tensorflow_addons\n",
    "import tensorflow as tf\n",
    "from tensorflow import keras\n",
    "from tensorflow.keras.datasets import fashion_mnist\n",
    "from tensorflow.keras import models\n",
    "from tensorflow.keras import layers\n",
    "from tensorflow.keras import regularizers\n",
    "from tensorflow_addons import metrics\n",
    "\n",
    "\n",
    "#supportive libraries\n",
    "import matplotlib.pyplot as plt\n",
    "import numpy as np\n",
    "import pandas as pd\n",
    "import seaborn as sns\n",
    "import time"
   ]
  },
  {
   "cell_type": "markdown",
   "metadata": {},
   "source": [
    "2. Load and presentation of the dataset:"
   ]
  },
  {
   "cell_type": "markdown",
   "metadata": {},
   "source": [
    "Loading dataset from the TensorFlow (TF) library, which also provides the possibility of splitting dataset into train and test sets simultaneously."
   ]
  },
  {
   "cell_type": "code",
   "execution_count": 2,
   "metadata": {},
   "outputs": [],
   "source": [
    "#load data\n",
    "(x_train, y_train),(x_test, y_test) = fashion_mnist.load_data() "
   ]
  },
  {
   "cell_type": "markdown",
   "metadata": {},
   "source": [
    "`Dataset presentation`"
   ]
  },
  {
   "cell_type": "markdown",
   "metadata": {},
   "source": [
    "As mentioned before, for this coursework image dataset of products was chosen, namely - clothes items of 10 categories. For the the purpose of visual and further use, here is the dictionary with mapped class on product name:"
   ]
  },
  {
   "cell_type": "code",
   "execution_count": 3,
   "metadata": {},
   "outputs": [
    {
     "name": "stdout",
     "output_type": "stream",
     "text": [
      "Class 0  -  T-shirt/top\n",
      "Class 1  -  Trousers\n",
      "Class 2  -  Pullover\n",
      "Class 3  -  Dress\n",
      "Class 4  -  Coat\n",
      "Class 5  -  Sandal\n",
      "Class 6  -  Shirt\n",
      "Class 7  -  Sneaker\n",
      "Class 8  -  Bag\n",
      "Class 9  -  Ankle boot\n"
     ]
    }
   ],
   "source": [
    "#mapping dictionary\n",
    "clothes = {0:\"T-shirt/top\", \n",
    "           1:\"Trousers\",\n",
    "           2:\"Pullover\",\n",
    "           3:\"Dress\",\n",
    "           4:\"Coat\",\n",
    "           5:\"Sandal\",\n",
    "           6:\"Shirt\",\n",
    "           7:\"Sneaker\",\n",
    "           8:\"Bag\",\n",
    "           9:\"Ankle boot\"}\n",
    "\n",
    "for i in clothes:\n",
    "    print(\"Class\", i, ' - ', clothes[i])"
   ]
  },
  {
   "cell_type": "markdown",
   "metadata": {},
   "source": [
    "source of the labels for mapping dictionary: https://www.tensorflow.org/datasets/catalog/fashion_mnist"
   ]
  },
  {
   "cell_type": "markdown",
   "metadata": {},
   "source": [
    "The dataset consists of 70000 images (X) of 28x28 pixel size and 70000 labeles (Y) in the form of figure [0-9] that belongs to one of 10 classes:"
   ]
  },
  {
   "cell_type": "code",
   "execution_count": 4,
   "metadata": {},
   "outputs": [
    {
     "name": "stdout",
     "output_type": "stream",
     "text": [
      "Train data is a tensor of shape: (60000, 28, 28) , and rank of 3\n",
      "Train lables is a tensor of shape: (60000,) , and rank of 1\n",
      "\n",
      "\n",
      "Test data shape: (10000, 28, 28) , and rank of 3\n",
      "Test lables is a tensor of shape: (10000,) , and rank of 1\n"
     ]
    }
   ],
   "source": [
    "#shapes\n",
    "print(\"Train data is a tensor of shape:\", x_train.shape, \", and rank of\", tf.shape(x_train).shape[0])\n",
    "print(\"Train lables is a tensor of shape:\", y_train.shape, \", and rank of\", tf.shape(y_train).shape[0])\n",
    "print(\"\\n\")\n",
    "print(\"Test data shape:\", x_test.shape, \", and rank of\", tf.shape(x_test).shape[0])\n",
    "print(\"Test lables is a tensor of shape:\", y_test.shape, \", and rank of\", tf.shape(y_test).shape[0])"
   ]
  },
  {
   "cell_type": "code",
   "execution_count": 5,
   "metadata": {},
   "outputs": [],
   "source": [
    "# supporting custom function that plots 3x3 subplots\n",
    "def plot_fashion(x, y, bias):\n",
    "    \n",
    "    fig, axs = plt.subplots(3,3,figsize=(7, 7))\n",
    "    assert x.ndim == 3, \"x has to be rank 3 tensor\"\n",
    "    \n",
    "    for i in range(3):\n",
    "        for j in range(3):\n",
    "            axs[i,j].imshow(x[i+j+bias], cmap = plt.cm.binary)\n",
    "            axs[i,j].set_title(str(y[i+j+bias]) + \": \" + str(clothes[y[i+j+bias]]))\n",
    "            axs[i,j].axis('off')\n",
    "            \n",
    "    fig.tight_layout()\n",
    "    plt.show()"
   ]
  },
  {
   "cell_type": "markdown",
   "metadata": {},
   "source": [
    "Here are several examples of how the dataset images look like:"
   ]
  },
  {
   "cell_type": "code",
   "execution_count": 6,
   "metadata": {
    "scrolled": false
   },
   "outputs": [
    {
     "data": {
      "image/png": "[encoded data removed]",
      "text/plain": [
       "<Figure size 504x504 with 9 Axes>"
      ]
     },
     "metadata": {
      "needs_background": "light"
     },
     "output_type": "display_data"
    }
   ],
   "source": [
    "#training data\n",
    "plot_fashion(x_train, y_train, 20)"
   ]
  },
  {
   "cell_type": "code",
   "execution_count": 7,
   "metadata": {
    "scrolled": false
   },
   "outputs": [
    {
     "data": {
      "image/png": "[encoded data removed]",
      "text/plain": [
       "<Figure size 504x504 with 9 Axes>"
      ]
     },
     "metadata": {
      "needs_background": "light"
     },
     "output_type": "display_data"
    }
   ],
   "source": [
    "#test data\n",
    "plot_fashion(x_test, y_test, 20)"
   ]
  },
  {
   "cell_type": "markdown",
   "metadata": {},
   "source": [
    "Both visulazations present very modest quality. The first prominent thing one can see is the similarity between pullover and coat. Even for me, human being, it would be such a task to distinguish between those. Coat in the down right corner of the training set visualization looks like a sweartshirt (Pullover) to me. I assume that poor quality of images and obvious similarity of data samples belonging to dofferent classes might be quite challanging for the model, whil will definitely have impact on the performance."
   ]
  },
  {
   "cell_type": "markdown",
   "metadata": {},
   "source": [
    "The last important step before jumping into data pre-processing is to verify if the dataset is balanced - meaning that it contains approximately equal quantity of dat samples of each category."
   ]
  },
  {
   "cell_type": "code",
   "execution_count": 8,
   "metadata": {},
   "outputs": [
    {
     "data": {
      "text/plain": [
       "array([6000, 6000, 6000, 6000, 6000, 6000, 6000, 6000, 6000, 6000],\n",
       "      dtype=int64)"
      ]
     },
     "execution_count": 8,
     "metadata": {},
     "output_type": "execute_result"
    }
   ],
   "source": [
    "unique, counts = np.unique(y_train, return_counts = True)\n",
    "counts"
   ]
  },
  {
   "cell_type": "markdown",
   "metadata": {},
   "source": [
    "Result: Dataset is 100% balanced - each class has the same quantity of samples."
   ]
  },
  {
   "cell_type": "markdown",
   "metadata": {},
   "source": [
    "# Methodology"
   ]
  },
  {
   "cell_type": "markdown",
   "metadata": {},
   "source": [
    "Overall the process includes the follwoing 3 steps:\n",
    "1. Data preparation\n",
    "2. Building and Training Neural Network model\n",
    "3. Test model on unseen data\n",
    "\n",
    "Detailed methodology is described below."
   ]
  },
  {
   "cell_type": "markdown",
   "metadata": {},
   "source": [
    "#### 1. Data preparation a.k.a.  Data pre-processing"
   ]
  },
  {
   "cell_type": "markdown",
   "metadata": {},
   "source": [
    "`Step 1` Go from rank 3 tensor to rank 2.\n",
    "\n",
    "Before flattering:\n",
    "- dim 1: intensity\n",
    "- dim 2: coordinate for axis X (0-28)\n",
    "- dim 3: coordinate for axis Y (0-28)\n",
    "\n",
    "After flattering:\n",
    "- dim 1: intensity\n",
    "- dim 2: coordinate for axis X (0-784)\n"
   ]
  },
  {
   "cell_type": "code",
   "execution_count": 9,
   "metadata": {},
   "outputs": [],
   "source": [
    "#save x_test in original format for conclusions\n",
    "x_test_orig = x_test\n",
    "\n",
    "#flattened pixel map\n",
    "x_train = x_train.reshape((60000, 28 * 28))\n",
    "x_test = x_test.reshape((10000, 28 * 28))\n"
   ]
  },
  {
   "cell_type": "code",
   "execution_count": 10,
   "metadata": {},
   "outputs": [
    {
     "name": "stdout",
     "output_type": "stream",
     "text": [
      "After flattering:\n",
      "\n",
      "Train data shape:  (60000, 784)\n",
      "Test data shape:  (10000, 784)\n"
     ]
    }
   ],
   "source": [
    "print(\"After flattering:\")\n",
    "print(\"\\nTrain data shape: \", x_train.shape)\n",
    "print(\"Test data shape: \", x_test.shape)\n"
   ]
  },
  {
   "cell_type": "markdown",
   "metadata": {},
   "source": [
    "`Step 2` Data normalization.\n",
    "\n",
    "It refers to scaling values to the value between 0 and 1. This step will balance data set and hence boost performance."
   ]
  },
  {
   "cell_type": "code",
   "execution_count": 11,
   "metadata": {},
   "outputs": [],
   "source": [
    "#convert integer to float and scale (make value between 0 and 1)\n",
    "x_train = x_train.astype('float32') / 255\n",
    "x_test = x_test.astype('float32') / 255"
   ]
  },
  {
   "cell_type": "markdown",
   "metadata": {},
   "source": [
    "`Step 3` Hot encoding\n",
    "\n",
    "One of the network engineering strategy (discussed later on) requires encoding lables in accordance with one-hot encoding logic.\n",
    "\n",
    "Example of one-hot encoding:\n",
    "- 5 -> [0,0,0,0,0,1,0,0,0,0]\n",
    "- 2 -> [0,0,1,0,0,0,0,0,0,0]"
   ]
  },
  {
   "cell_type": "code",
   "execution_count": 12,
   "metadata": {},
   "outputs": [],
   "source": [
    "#one-hot encoding\n",
    "def one_hot_encoding(y):\n",
    "    encoded = np.zeros((len(y),10))\n",
    "    for i in range(len(y)):\n",
    "        assert y[i]<10, \"Check vector values, they should be between 0 and 9\"\n",
    "        encoded[i,y[i]] = 1 \n",
    "    \n",
    "    return encoded   \n",
    "        "
   ]
  },
  {
   "cell_type": "code",
   "execution_count": 13,
   "metadata": {},
   "outputs": [],
   "source": [
    "#encode labels\n",
    "y_train_hot = one_hot_encoding(y_train)\n",
    "y_test_hot = one_hot_encoding(y_test)"
   ]
  },
  {
   "cell_type": "code",
   "execution_count": 14,
   "metadata": {},
   "outputs": [
    {
     "name": "stdout",
     "output_type": "stream",
     "text": [
      "One-hot encoded labels' shape:\n",
      "\n",
      "Train lables:  (60000, 10)\n",
      "Test lables:  (10000, 10)\n"
     ]
    }
   ],
   "source": [
    "print(\"One-hot encoded labels' shape:\")\n",
    "print(\"\\nTrain lables: \", y_train_hot.shape)\n",
    "print(\"Test lables: \", y_test_hot.shape)"
   ]
  },
  {
   "cell_type": "markdown",
   "metadata": {},
   "source": [
    "`Step 4` Validation set"
   ]
  },
  {
   "cell_type": "markdown",
   "metadata": {},
   "source": [
    "Here I put aside part of the training set as a validation set (separatly for hot-encoded labels and integer labels) in order to use its performance for hyperparametrs tunning:"
   ]
  },
  {
   "cell_type": "code",
   "execution_count": 15,
   "metadata": {},
   "outputs": [
    {
     "name": "stdout",
     "output_type": "stream",
     "text": [
      "Shapes after validation set creation:\n",
      "\n",
      "Data validation set:  (10000, 784)\n",
      "\n",
      "Data training set:  (50000, 784)\n",
      "\n",
      "Labels validation set:  (10000,)\n",
      "\n",
      "Labels training set:  (50000,)\n",
      "\n",
      "Labels validation set hot-encoded:  (10000, 10)\n",
      "\n",
      "Lables training set hot-encoded:  (50000, 10)\n"
     ]
    }
   ],
   "source": [
    "x_train_val = x_train[:len(x_test),:]\n",
    "x_train_part = x_train[len(x_test):,:]\n",
    "\n",
    "y_train_val = y_train[:len(x_test)]\n",
    "y_train_part = y_train[len(x_test):]\n",
    "\n",
    "y_train_hot_val = y_train_hot[:len(x_test),:]\n",
    "y_train_hot_part = y_train_hot[len(x_test):,:]\n",
    "\n",
    "print(\"Shapes after validation set creation:\")\n",
    "print(\"\\nData validation set: \", x_train_val.shape)\n",
    "print(\"\\nData training set: \", x_train_part.shape)\n",
    "print(\"\\nLabels validation set: \", y_train_val.shape)\n",
    "print(\"\\nLabels training set: \", y_train_part.shape)\n",
    "print(\"\\nLabels validation set hot-encoded: \", y_train_hot_val.shape)\n",
    "print(\"\\nLables training set hot-encoded: \", y_train_hot_part.shape)\n",
    "\n"
   ]
  },
  {
   "cell_type": "markdown",
   "metadata": {},
   "source": [
    "Data is ready for training Neural Network. But firstly it has to be built. "
   ]
  },
  {
   "cell_type": "markdown",
   "metadata": {},
   "source": [
    "#### 2. Building and Training Neural Network"
   ]
  },
  {
   "cell_type": "markdown",
   "metadata": {},
   "source": [
    "Im order to build and compile Neural Network the following is required:\n",
    "\n",
    "|     |                  |   |  Stage      |     |                    |\n",
    "|-----|:-----------------|---|:------------|:----|:-------------------|\n",
    "|**1**|**parameters**    | \\|| building   | \\|  | initialized by engineer and tuned with the help of optimmizer|\n",
    "|**2**|**hyperparametrs**| \\|| building, compilation, trainnig   | \\|  | tuned by engineer  |\n",
    "|**3**|**strategy**      | \\|| compilation| \\|  | defined by engineer|\n",
    "\n",
    "\n",
    "***For Neural Networks***\n",
    "\n",
    "\n",
    "`parametrs` are:\n",
    "- weihgts\n",
    "- biases\n",
    "\n",
    "`hyperparametrs` generally  may include:\n",
    "- Network level:\n",
    "    - quantity of hidden layers\n",
    "- Layer level:\n",
    "    - quantity of hidden units\n",
    "    - activation function\n",
    "    - regularization term\n",
    "- Compilation stage*:\n",
    "    - learning rate\n",
    "    - momentum\n",
    "    \n",
    "Some aources also reffers to the following as hyperparameters:\n",
    "- Training stage:   \n",
    "    - minibatch size \n",
    "    - epochs\n",
    "\n",
    "\\* *list depends on the chosen optimizer*\n",
    "\n",
    "\n",
    "`strategy` reffers to the choice of:\n",
    "- loss function\n",
    "- optimization function\n",
    "\n",
    "***\n",
    "\n",
    "**source**: Towards Data Science - https://towardsdatascience.com/neural-networks-parameters-hyperparameters-and-optimization-strategies-3f0842fac0a5"
   ]
  },
  {
   "cell_type": "markdown",
   "metadata": {},
   "source": [
    "Since the parametrs are initilized in the moment of calling function and tuned by the optimizer, here will be only 2 steps:\n",
    "\n",
    "1. Defining strategy\n",
    "2. Defining a set of hyperparametrs to start"
   ]
  },
  {
   "cell_type": "markdown",
   "metadata": {},
   "source": [
    "##### Implementation:"
   ]
  },
  {
   "cell_type": "markdown",
   "metadata": {},
   "source": [
    "**`Step 1` Defining strategy**\n",
    "\n",
    "Strategy fully depends on the type of problem we need to solve. As it mention before, here we face a single-lable multiclass problem. \n",
    "\n",
    "Hence, the best candidate for `loss-function` would  be:\n",
    "\n",
    "| |                                |Note               |\n",
    "|-|:-------------------------------|-------------------|\n",
    "|1|Multi-class cross-entropy       | hot-encoded lables|\n",
    "|2|Sparse categorical cross-entropy| integer labels    |\n",
    "\n",
    "Even though both candidates are said to perform similarly good, the source emphasizes that for the problem where each data sample belongs only to 1 class, `sparse categorical cross-entropy` would be a better choice - it helps to save time and memory. The reason for this lays in the way these losses are calculated. `categorical cross-entropy` anticipates one-hot encoded labels and hence more diamensions are involed into mathematical operations, whlist `sparse categorical cross-entropy` requires integer label and. This problem has only 10 classes, so difference might be small. Both of them will be tested on 1 example just in sake of timing comparing.\n",
    "\n",
    "**The source**: Stack Exchange (Data Science) - https://datascience.stackexchange.com/questions/41921/sparse-categorical-crossentropy-vs-categorical-crossentropy-keras-accuracy\n",
    "\n",
    "There are 8 `optimizers` available in Keras in total. For this problem I will use one of the most popular of them:\n",
    "\n",
    "\n",
    "| |                                |\n",
    "|-|:-------------------------------|\n",
    "|1|RMSprop                         |\n",
    "\n"
   ]
  },
  {
   "cell_type": "markdown",
   "metadata": {},
   "source": [
    "Before moving forward, let me introduce a function to automate the building process:"
   ]
  },
  {
   "cell_type": "code",
   "execution_count": 16,
   "metadata": {},
   "outputs": [],
   "source": [
    "\n",
    "def experiment (activation, hidden_units, hidden_layers, loss, learning_rate = 0, momentum = 0, \n",
    "                optimizer = 'RMSprop', l2 = 0):\n",
    "\n",
    "    model = models.Sequential()\n",
    "    \n",
    "    if l2 == 0:\n",
    "        model.add(layers.Dense(hidden_units, activation = activation[0], \n",
    "                               input_shape = (28*28,),\n",
    "                              kernel_regularizer=regularizers.l2(l2))) #visible input\n",
    "        \n",
    "        for i in range(1, hidden_layers+1):\n",
    "            model.add(layers.Dense(hidden_units, activation = activation[0])) #hidden layers\n",
    "    \n",
    "    else:\n",
    "        model.add(layers.Dense(hidden_units, activation = activation[0], input_shape = (28*28,))) #visible input\n",
    "        \n",
    "        for i in range(1, hidden_layers+1):\n",
    "            model.add(layers.Dense(hidden_units, activation = activation[0], \n",
    "                                   kernel_regularizer=regularizers.l2(l2))) #hidden layers\n",
    "    \n",
    "    model.add(layers.Dense(10, activation = activation[1]))#visible output\n",
    "    \n",
    "    if optimizer == 'RMSprop':\n",
    "        if learning_rate == 0 and momentum == 0:\n",
    "            from tensorflow.keras import optimizers\n",
    "            model.compile(optimizer = optimizers.RMSprop(),\n",
    "                     loss=loss,\n",
    "                     metrics=['accuracy', metrics.MultiLabelConfusionMatrix(num_classes = 10)])\n",
    "        if learning_rate != 0 and momentum == 0:\n",
    "            from tensorflow.keras import optimizers\n",
    "            model.compile(optimizer = optimizers.RMSprop(learning_rate = learning_rate),\n",
    "                     loss=loss,\n",
    "                     metrics=['accuracy', metrics.MultiLabelConfusionMatrix(num_classes = 10)])\n",
    "        if learning_rate == 0 and momentum != 0:\n",
    "            from tensorflow.keras import optimizers\n",
    "            model.compile(optimizer = optimizers.RMSprop(momentum = momentum),\n",
    "                     loss=loss,\n",
    "                     metrics=['accuracy', metrics.MultiLabelConfusionMatrix(num_classes = 10)])\n",
    "        if learning_rate != 0 and momentum != 0:\n",
    "            from tensorflow.keras import optimizers\n",
    "            model.compile(optimizer = optimizers.RMSprop(learning_rate = learning_rate, momentum = momentum),\n",
    "                     loss=loss,\n",
    "                     metrics=['accuracy', metrics.MultiLabelConfusionMatrix(num_classes = 10)])\n",
    "    \n",
    "    return model"
   ]
  },
  {
   "cell_type": "markdown",
   "metadata": {},
   "source": [
    "And right away use it to build a model with a random set of parametrs and feature values."
   ]
  },
  {
   "cell_type": "code",
   "execution_count": 17,
   "metadata": {},
   "outputs": [
    {
     "name": "stdout",
     "output_type": "stream",
     "text": [
      "Epoch 1/5\n",
      "1563/1563 [==============================] - 5s 2ms/step - loss: 10.8292 - accuracy: 0.1733 - Multilabel_confusion_matrix: 12500.0000 - val_loss: 11.0280 - val_accuracy: 0.1766 - val_Multilabel_confusion_matrix: 2500.0000\n",
      "Epoch 2/5\n",
      "1563/1563 [==============================] - 3s 2ms/step - loss: 10.8478 - accuracy: 0.1734 - Multilabel_confusion_matrix: 12500.0000 - val_loss: 11.0280 - val_accuracy: 0.1766 - val_Multilabel_confusion_matrix: 2500.0000\n",
      "Epoch 3/5\n",
      "1563/1563 [==============================] - 3s 2ms/step - loss: 10.8478 - accuracy: 0.1734 - Multilabel_confusion_matrix: 12500.0000 - val_loss: 11.0280 - val_accuracy: 0.1766 - val_Multilabel_confusion_matrix: 2500.0000\n",
      "Epoch 4/5\n",
      "1563/1563 [==============================] - 4s 2ms/step - loss: 10.8478 - accuracy: 0.1734 - Multilabel_confusion_matrix: 12500.0000 - val_loss: 11.0280 - val_accuracy: 0.1766 - val_Multilabel_confusion_matrix: 2500.0000\n",
      "Epoch 5/5\n",
      "1563/1563 [==============================] - 3s 2ms/step - loss: 10.8478 - accuracy: 0.1734 - Multilabel_confusion_matrix: 12500.0000 - val_loss: 11.0280 - val_accuracy: 0.1766 - val_Multilabel_confusion_matrix: 2500.0000\n"
     ]
    }
   ],
   "source": [
    "history0 = []\n",
    "activation = ['sigmoid', 'tanh']\n",
    "hidden_units = 50\n",
    "hidden_layers = 1\n",
    "loss = 'categorical_crossentropy'\n",
    "epochs = 5\n",
    "\n",
    "model0 = experiment(activation, hidden_units, hidden_layers, loss)\n",
    "history0.append(model0.fit(x_train_part, y_train_hot_part, \n",
    "                epochs = 5, validation_data = (x_train_val, y_train_hot_val)))"
   ]
  },
  {
   "cell_type": "code",
   "execution_count": 18,
   "metadata": {},
   "outputs": [
    {
     "name": "stdout",
     "output_type": "stream",
     "text": [
      "The set of hyperparametrs:\n",
      "\n",
      "Activation:\t ['sigmoid', 'tanh']\n",
      "Hidden layers:\t 1\n",
      "Hidden units:\t 50\n",
      "Regularization:\t none\n",
      "Learning rate:\t auto\n",
      "Momentum:\t auto\n",
      "Loss:\t\t categorical_crossentropy\n",
      "\n",
      "Also:\n",
      "\n",
      "Epochs:\t 5\n",
      "Mini-batch:\t none\n",
      "----\n",
      "Maximum accuracy of the validation set:  0.18\n"
     ]
    }
   ],
   "source": [
    "print(\"The set of hyperparametrs:\\n\")\n",
    "print('Activation:\\t', activation)\n",
    "print('Hidden layers:\\t', hidden_layers)\n",
    "print('Hidden units:\\t', hidden_units)\n",
    "print('Regularization:\\t none')\n",
    "print('Learning rate:\\t auto')\n",
    "print('Momentum:\\t auto')\n",
    "print('Loss:\\t\\t', loss)\n",
    "print('\\nAlso:\\n')\n",
    "print('Epochs:\\t', epochs)\n",
    "print('Mini-batch:\\t none')\n",
    "\n",
    "max_val_acc_0 = np.round(np.max([i.history['val_accuracy'] for i in history0]), 2)\n",
    "\n",
    "print('----')\n",
    "print('Maximum accuracy of the validation set: ', max_val_acc_0)"
   ]
  },
  {
   "cell_type": "markdown",
   "metadata": {},
   "source": [
    "The random set of hyperparametrs and features performed fairly poor - accuracy on the validation set reaches maximum at just 18%. It is evident - hyperparametrs tunning is required."
   ]
  },
  {
   "cell_type": "markdown",
   "metadata": {},
   "source": [
    "**`Step 2` Hyperparametrs tunning and features discussion**"
   ]
  },
  {
   "cell_type": "markdown",
   "metadata": {},
   "source": [
    "In order to save time and electrical power, I will apply some theoretical knoweledge to the hyperparametr choice before tunning."
   ]
  },
  {
   "cell_type": "markdown",
   "metadata": {},
   "source": [
    "`Activation function` options discussion:\n",
    "\n",
    ">     - for hidden layer ReLU serves better than Sigmoid and Tanh in accordance with the source: \"it is both simple to implement and effective at overcoming the limitations of other previously popular activation functions, such as Sigmoid and Tanh.\"\n",
    "     - for output layer there are equal possibilities of softmax and sigmoid function for classification problem.\n",
    ">**The source**: Machine Learning Mastery - https://machinelearningmastery.com/choose-an-activation-function-for-deep-learning/\n",
    "\n",
    "\n",
    "For this problem the following activation functions will be used:\n",
    "\n",
    "| |Input and hidden layer |Output layer      |\n",
    "|-|:----------------------|:-----------------|\n",
    "|1|Relu                   |Softmax           |\n"
   ]
  },
  {
   "cell_type": "markdown",
   "metadata": {},
   "source": [
    "`Hidden layers` options discussion:\n",
    "\n",
    "In order to decide on quantity of hidden layers - I used the follwing table:\n",
    "\n",
    "![layers.png](layers.png)\n",
    "\n",
    "Considering that dataset is balanced and fairly big, I will start with the quantity of hidden layers at `2`.\n",
    "\n",
    "**The source**: https://www.heatonresearch.com/2017/06/01/hidden-layers.html"
   ]
  },
  {
   "cell_type": "markdown",
   "metadata": {},
   "source": [
    "`Hidden neurons` options discussion:\n",
    "\n",
    "For the decision of the hidden units diamensions, I used some ideas from the source above:\n",
    "\n",
    "![neurons.png](neurons.png)\n",
    "\n",
    "- Input layer: 784\n",
    "- Output layer: 10\n",
    "\n",
    "Make a use of first 2 points, I ended up with ~ `512` hidden units.\n"
   ]
  },
  {
   "cell_type": "markdown",
   "metadata": {},
   "source": [
    "`Epochs` discussion\n",
    "\n",
    "The quanity of epochs (times the whole datset does through the NN) has direct influence on the ability of the model to generalize. Before some point the model is underfitting, then 'plato' with optimal quantity of eopchs, and then model reaches ovefitting - training accuracy raises while validation is decreasing. There is no rule of thumb how to find the best quantity, only real model training and comapring accuracies on validation and training sets. To find the optimal quantity I will purpously choose `20` epochs to reach overfitting and then choose the value from the plato."
   ]
  },
  {
   "cell_type": "markdown",
   "metadata": {},
   "source": [
    "`Batch size` discussion\n",
    "\n",
    "Batch size I set up as `512` based on the experience gained during studies and considering size of the dataset. It is not something to be tuned in order to influence on the performence, rather parametr having influence on the time, needed for the training. "
   ]
  },
  {
   "cell_type": "markdown",
   "metadata": {},
   "source": [
    "As a result of the discussion the following options of hyperparametrs will be used as a starting point:"
   ]
  },
  {
   "cell_type": "code",
   "execution_count": 19,
   "metadata": {},
   "outputs": [],
   "source": [
    "activation = ['relu', 'softmax']\n",
    "hidden_units = 512\n",
    "hidden_layers = 2\n",
    "loss = ['categorical_crossentropy', 'sparse_categorical_crossentropy'] #first to be compared "
   ]
  },
  {
   "cell_type": "code",
   "execution_count": 20,
   "metadata": {},
   "outputs": [],
   "source": [
    "epochs = 30\n",
    "batch_size = 512"
   ]
  },
  {
   "cell_type": "markdown",
   "metadata": {},
   "source": [
    "Before was mentioned that categorical and sparse categorical crossentropy might perfrom nearly the same good, however with different resources use. Here is the test to compare difference in running time and accuarcy on validation set:"
   ]
  },
  {
   "cell_type": "code",
   "execution_count": 21,
   "metadata": {},
   "outputs": [],
   "source": [
    "cat_history = [] #array to store history objects for categorical cross-entropy\n",
    "sparse_history = [] #array to store history objects for sparse categorical cross-entropy"
   ]
  },
  {
   "cell_type": "code",
   "execution_count": 22,
   "metadata": {},
   "outputs": [
    {
     "name": "stdout",
     "output_type": "stream",
     "text": [
      "Epoch 1/30\n",
      "98/98 [==============================] - 5s 44ms/step - loss: 0.7892 - accuracy: 0.7145 - Multilabel_confusion_matrix: 12500.0000 - val_loss: 0.8506 - val_accuracy: 0.7220 - val_Multilabel_confusion_matrix: 2500.0000\n",
      "Epoch 2/30\n",
      "98/98 [==============================] - 4s 41ms/step - loss: 0.4911 - accuracy: 0.8165 - Multilabel_confusion_matrix: 12500.0000 - val_loss: 0.4384 - val_accuracy: 0.8440 - val_Multilabel_confusion_matrix: 2500.0000\n",
      "Epoch 3/30\n",
      "98/98 [==============================] - 4s 43ms/step - loss: 0.4144 - accuracy: 0.8454 - Multilabel_confusion_matrix: 12500.0000 - val_loss: 0.3853 - val_accuracy: 0.8586 - val_Multilabel_confusion_matrix: 2500.0000\n",
      "Epoch 4/30\n",
      "98/98 [==============================] - 4s 42ms/step - loss: 0.3747 - accuracy: 0.8595 - Multilabel_confusion_matrix: 12500.0000 - val_loss: 0.4087 - val_accuracy: 0.8514 - val_Multilabel_confusion_matrix: 2500.0000\n",
      "Epoch 5/30\n",
      "98/98 [==============================] - 4s 43ms/step - loss: 0.3446 - accuracy: 0.8698 - Multilabel_confusion_matrix: 12500.0000 - val_loss: 0.3958 - val_accuracy: 0.8586 - val_Multilabel_confusion_matrix: 2500.0000\n",
      "Epoch 6/30\n",
      "98/98 [==============================] - 4s 42ms/step - loss: 0.3204 - accuracy: 0.8775 - Multilabel_confusion_matrix: 12500.0000 - val_loss: 0.3230 - val_accuracy: 0.8792 - val_Multilabel_confusion_matrix: 2500.0000\n",
      "Epoch 7/30\n",
      "98/98 [==============================] - 4s 45ms/step - loss: 0.3026 - accuracy: 0.8870 - Multilabel_confusion_matrix: 12500.0000 - val_loss: 0.3544 - val_accuracy: 0.8715 - val_Multilabel_confusion_matrix: 2500.0000\n",
      "Epoch 8/30\n",
      "98/98 [==============================] - 4s 43ms/step - loss: 0.2857 - accuracy: 0.8911 - Multilabel_confusion_matrix: 12500.0000 - val_loss: 0.4129 - val_accuracy: 0.8674 - val_Multilabel_confusion_matrix: 2500.0000\n",
      "Epoch 9/30\n",
      "98/98 [==============================] - 4s 41ms/step - loss: 0.2733 - accuracy: 0.8964 - Multilabel_confusion_matrix: 12500.0000 - val_loss: 0.3368 - val_accuracy: 0.8829 - val_Multilabel_confusion_matrix: 2500.0000\n",
      "Epoch 10/30\n",
      "98/98 [==============================] - 4s 43ms/step - loss: 0.2596 - accuracy: 0.9008 - Multilabel_confusion_matrix: 12500.0000 - val_loss: 0.4087 - val_accuracy: 0.8795 - val_Multilabel_confusion_matrix: 2500.0000\n",
      "Epoch 11/30\n",
      "98/98 [==============================] - 4s 42ms/step - loss: 0.2473 - accuracy: 0.9058 - Multilabel_confusion_matrix: 12500.0000 - val_loss: 0.3377 - val_accuracy: 0.8900 - val_Multilabel_confusion_matrix: 2500.0000\n",
      "Epoch 12/30\n",
      "98/98 [==============================] - 4s 41ms/step - loss: 0.2369 - accuracy: 0.9098 - Multilabel_confusion_matrix: 12500.0000 - val_loss: 0.3487 - val_accuracy: 0.8777 - val_Multilabel_confusion_matrix: 2500.0000\n",
      "Epoch 13/30\n",
      "98/98 [==============================] - 4s 41ms/step - loss: 0.2247 - accuracy: 0.9140 - Multilabel_confusion_matrix: 12500.0000 - val_loss: 0.3153 - val_accuracy: 0.8915 - val_Multilabel_confusion_matrix: 2500.0000\n",
      "Epoch 14/30\n",
      "98/98 [==============================] - 4s 43ms/step - loss: 0.2181 - accuracy: 0.9164 - Multilabel_confusion_matrix: 12500.0000 - val_loss: 0.3434 - val_accuracy: 0.8948 - val_Multilabel_confusion_matrix: 2500.0000\n",
      "Epoch 15/30\n",
      "98/98 [==============================] - 4s 44ms/step - loss: 0.2120 - accuracy: 0.9193 - Multilabel_confusion_matrix: 12500.0000 - val_loss: 0.3594 - val_accuracy: 0.8919 - val_Multilabel_confusion_matrix: 2500.0000\n",
      "Epoch 16/30\n",
      "98/98 [==============================] - 4s 41ms/step - loss: 0.2045 - accuracy: 0.9219 - Multilabel_confusion_matrix: 12500.0000 - val_loss: 0.3398 - val_accuracy: 0.8870 - val_Multilabel_confusion_matrix: 2500.0000\n",
      "Epoch 17/30\n",
      "98/98 [==============================] - 4s 41ms/step - loss: 0.1958 - accuracy: 0.9259 - Multilabel_confusion_matrix: 12500.0000 - val_loss: 0.3579 - val_accuracy: 0.8799 - val_Multilabel_confusion_matrix: 2500.0000\n",
      "Epoch 18/30\n",
      "98/98 [==============================] - 4s 43ms/step - loss: 0.1886 - accuracy: 0.9271 - Multilabel_confusion_matrix: 12500.0000 - val_loss: 0.4258 - val_accuracy: 0.8755 - val_Multilabel_confusion_matrix: 2500.0000\n",
      "Epoch 19/30\n",
      "98/98 [==============================] - 4s 43ms/step - loss: 0.1836 - accuracy: 0.9285 - Multilabel_confusion_matrix: 12500.0000 - val_loss: 0.4451 - val_accuracy: 0.8736 - val_Multilabel_confusion_matrix: 2500.0000\n",
      "Epoch 20/30\n",
      "98/98 [==============================] - 4s 41ms/step - loss: 0.1755 - accuracy: 0.9319 - Multilabel_confusion_matrix: 12500.0000 - val_loss: 0.3736 - val_accuracy: 0.8931 - val_Multilabel_confusion_matrix: 2500.0000\n",
      "Epoch 21/30\n",
      "98/98 [==============================] - 4s 42ms/step - loss: 0.1710 - accuracy: 0.9336 - Multilabel_confusion_matrix: 12500.0000 - val_loss: 0.4125 - val_accuracy: 0.8860 - val_Multilabel_confusion_matrix: 2500.0000\n",
      "Epoch 22/30\n",
      "98/98 [==============================] - 4s 44ms/step - loss: 0.1705 - accuracy: 0.9352 - Multilabel_confusion_matrix: 12500.0000 - val_loss: 0.5067 - val_accuracy: 0.8822 - val_Multilabel_confusion_matrix: 2500.0000\n",
      "Epoch 23/30\n",
      "98/98 [==============================] - 4s 45ms/step - loss: 0.1671 - accuracy: 0.9353 - Multilabel_confusion_matrix: 12500.0000 - val_loss: 0.4393 - val_accuracy: 0.8941 - val_Multilabel_confusion_matrix: 2500.0000\n",
      "Epoch 24/30\n",
      "98/98 [==============================] - 4s 43ms/step - loss: 0.1569 - accuracy: 0.9384 - Multilabel_confusion_matrix: 12500.0000 - val_loss: 0.4402 - val_accuracy: 0.8830 - val_Multilabel_confusion_matrix: 2500.0000\n",
      "Epoch 25/30\n",
      "98/98 [==============================] - 4s 43ms/step - loss: 0.1536 - accuracy: 0.9400 - Multilabel_confusion_matrix: 12500.0000 - val_loss: 0.4109 - val_accuracy: 0.8959 - val_Multilabel_confusion_matrix: 2500.0000\n",
      "Epoch 26/30\n",
      "98/98 [==============================] - 4s 43ms/step - loss: 0.1496 - accuracy: 0.9430 - Multilabel_confusion_matrix: 12500.0000 - val_loss: 0.4688 - val_accuracy: 0.8935 - val_Multilabel_confusion_matrix: 2500.0000\n",
      "Epoch 27/30\n",
      "98/98 [==============================] - 4s 42ms/step - loss: 0.1434 - accuracy: 0.9449 - Multilabel_confusion_matrix: 12500.0000 - val_loss: 0.4573 - val_accuracy: 0.8993 - val_Multilabel_confusion_matrix: 2500.0000\n",
      "Epoch 28/30\n",
      "98/98 [==============================] - 4s 42ms/step - loss: 0.1415 - accuracy: 0.9445 - Multilabel_confusion_matrix: 12500.0000 - val_loss: 0.4418 - val_accuracy: 0.8951 - val_Multilabel_confusion_matrix: 2500.0000\n",
      "Epoch 29/30\n",
      "98/98 [==============================] - 4s 43ms/step - loss: 0.1387 - accuracy: 0.9474 - Multilabel_confusion_matrix: 12500.0000 - val_loss: 0.4864 - val_accuracy: 0.8946 - val_Multilabel_confusion_matrix: 2500.0000\n",
      "Epoch 30/30\n",
      "98/98 [==============================] - 4s 44ms/step - loss: 0.1345 - accuracy: 0.9482 - Multilabel_confusion_matrix: 12500.0000 - val_loss: 0.5227 - val_accuracy: 0.8772 - val_Multilabel_confusion_matrix: 2500.0000\n"
     ]
    }
   ],
   "source": [
    "#model build with categorical cross-entropy loss\n",
    "\n",
    "start = time.time() #start time count\n",
    "\n",
    "# build and train model\n",
    "model1 = experiment(activation, hidden_units, hidden_layers, loss[0])\n",
    "cat_history.append(model1.fit(x_train_part, y_train_hot_part, \n",
    "                epochs = epochs, batch_size = batch_size,\n",
    "                validation_data = (x_train_val, y_train_hot_val)))\n",
    "\n",
    "end = time.time() #end time count\n",
    "\n",
    "cat_timing = end-start"
   ]
  },
  {
   "cell_type": "code",
   "execution_count": 23,
   "metadata": {},
   "outputs": [
    {
     "name": "stdout",
     "output_type": "stream",
     "text": [
      "Epoch 1/30\n",
      "98/98 [==============================] - 5s 44ms/step - loss: 0.7843 - accuracy: 0.7156 - Multilabel_confusion_matrix: 22491.3496 - val_loss: 0.5312 - val_accuracy: 0.8054 - val_Multilabel_confusion_matrix: 4507.1250\n",
      "Epoch 2/30\n",
      "98/98 [==============================] - 4s 42ms/step - loss: 0.4839 - accuracy: 0.8198 - Multilabel_confusion_matrix: 22486.1758 - val_loss: 0.4366 - val_accuracy: 0.8362 - val_Multilabel_confusion_matrix: 4506.6250\n",
      "Epoch 3/30\n",
      "98/98 [==============================] - 4s 43ms/step - loss: 0.4171 - accuracy: 0.8445 - Multilabel_confusion_matrix: 22475.0508 - val_loss: 0.4200 - val_accuracy: 0.8463 - val_Multilabel_confusion_matrix: 4502.7251\n",
      "Epoch 4/30\n",
      "98/98 [==============================] - 4s 43ms/step - loss: 0.3715 - accuracy: 0.8611 - Multilabel_confusion_matrix: 22460.4258 - val_loss: 0.4435 - val_accuracy: 0.8482 - val_Multilabel_confusion_matrix: 4496.2998\n",
      "Epoch 5/30\n",
      "98/98 [==============================] - 4s 42ms/step - loss: 0.3473 - accuracy: 0.8704 - Multilabel_confusion_matrix: 22442.9492 - val_loss: 0.3409 - val_accuracy: 0.8729 - val_Multilabel_confusion_matrix: 4496.6001\n",
      "Epoch 6/30\n",
      "98/98 [==============================] - 4s 42ms/step - loss: 0.3214 - accuracy: 0.8783 - Multilabel_confusion_matrix: 22422.5508 - val_loss: 0.3678 - val_accuracy: 0.8701 - val_Multilabel_confusion_matrix: 4497.1748\n",
      "Epoch 7/30\n",
      "98/98 [==============================] - 4s 44ms/step - loss: 0.3010 - accuracy: 0.8859 - Multilabel_confusion_matrix: 22397.0254 - val_loss: 0.3173 - val_accuracy: 0.8817 - val_Multilabel_confusion_matrix: 4482.6499\n",
      "Epoch 8/30\n",
      "98/98 [==============================] - 4s 46ms/step - loss: 0.2826 - accuracy: 0.8915 - Multilabel_confusion_matrix: 22381.5000 - val_loss: 0.3588 - val_accuracy: 0.8665 - val_Multilabel_confusion_matrix: 4480.1748\n",
      "Epoch 9/30\n",
      "98/98 [==============================] - 4s 45ms/step - loss: 0.2724 - accuracy: 0.8966 - Multilabel_confusion_matrix: 22351.5508 - val_loss: 0.3109 - val_accuracy: 0.8868 - val_Multilabel_confusion_matrix: 4479.0000\n",
      "Epoch 10/30\n",
      "98/98 [==============================] - 4s 45ms/step - loss: 0.2558 - accuracy: 0.9017 - Multilabel_confusion_matrix: 22331.8242 - val_loss: 0.4132 - val_accuracy: 0.8654 - val_Multilabel_confusion_matrix: 4474.4502\n",
      "Epoch 11/30\n",
      "98/98 [==============================] - 5s 46ms/step - loss: 0.2482 - accuracy: 0.9036 - Multilabel_confusion_matrix: 22316.2246 - val_loss: 0.3700 - val_accuracy: 0.8765 - val_Multilabel_confusion_matrix: 4480.7002\n",
      "Epoch 12/30\n",
      "98/98 [==============================] - 4s 43ms/step - loss: 0.2357 - accuracy: 0.9081 - Multilabel_confusion_matrix: 22298.6504 - val_loss: 0.3587 - val_accuracy: 0.8794 - val_Multilabel_confusion_matrix: 4462.5752\n",
      "Epoch 13/30\n",
      "98/98 [==============================] - 4s 43ms/step - loss: 0.2279 - accuracy: 0.9126 - Multilabel_confusion_matrix: 22274.8750 - val_loss: 0.3629 - val_accuracy: 0.8794 - val_Multilabel_confusion_matrix: 4457.5249\n",
      "Epoch 14/30\n",
      "98/98 [==============================] - 4s 43ms/step - loss: 0.2207 - accuracy: 0.9150 - Multilabel_confusion_matrix: 22265.3750 - val_loss: 0.3402 - val_accuracy: 0.8858 - val_Multilabel_confusion_matrix: 4460.9502\n",
      "Epoch 15/30\n",
      "98/98 [==============================] - 4s 44ms/step - loss: 0.2121 - accuracy: 0.9189 - Multilabel_confusion_matrix: 22249.0254 - val_loss: 0.3212 - val_accuracy: 0.8830 - val_Multilabel_confusion_matrix: 4463.2251\n",
      "Epoch 16/30\n",
      "98/98 [==============================] - 4s 42ms/step - loss: 0.2046 - accuracy: 0.9220 - Multilabel_confusion_matrix: 22230.4004 - val_loss: 0.3396 - val_accuracy: 0.8871 - val_Multilabel_confusion_matrix: 4457.7998\n",
      "Epoch 17/30\n",
      "98/98 [==============================] - 4s 43ms/step - loss: 0.1965 - accuracy: 0.9246 - Multilabel_confusion_matrix: 22212.3008 - val_loss: 0.3683 - val_accuracy: 0.8920 - val_Multilabel_confusion_matrix: 4443.1748\n",
      "Epoch 18/30\n",
      "98/98 [==============================] - 4s 44ms/step - loss: 0.1903 - accuracy: 0.9267 - Multilabel_confusion_matrix: 22201.4492 - val_loss: 0.3699 - val_accuracy: 0.8847 - val_Multilabel_confusion_matrix: 4451.2251\n",
      "Epoch 19/30\n",
      "98/98 [==============================] - 4s 42ms/step - loss: 0.1790 - accuracy: 0.9310 - Multilabel_confusion_matrix: 22181.7500 - val_loss: 0.4506 - val_accuracy: 0.8607 - val_Multilabel_confusion_matrix: 4459.1250\n",
      "Epoch 20/30\n",
      "98/98 [==============================] - 4s 42ms/step - loss: 0.1756 - accuracy: 0.9316 - Multilabel_confusion_matrix: 22172.5742 - val_loss: 0.3943 - val_accuracy: 0.8861 - val_Multilabel_confusion_matrix: 4436.9502\n",
      "Epoch 21/30\n",
      "98/98 [==============================] - 4s 42ms/step - loss: 0.1772 - accuracy: 0.9322 - Multilabel_confusion_matrix: 22167.1250 - val_loss: 0.3330 - val_accuracy: 0.9004 - val_Multilabel_confusion_matrix: 4443.7251\n",
      "Epoch 22/30\n",
      "98/98 [==============================] - 4s 44ms/step - loss: 0.1631 - accuracy: 0.9371 - Multilabel_confusion_matrix: 22146.0996 - val_loss: 0.4620 - val_accuracy: 0.8855 - val_Multilabel_confusion_matrix: 4440.9248\n",
      "Epoch 23/30\n",
      "98/98 [==============================] - 5s 46ms/step - loss: 0.1612 - accuracy: 0.9383 - Multilabel_confusion_matrix: 22132.9258 - val_loss: 0.4205 - val_accuracy: 0.8907 - val_Multilabel_confusion_matrix: 4431.0249\n",
      "Epoch 24/30\n",
      "98/98 [==============================] - 5s 47ms/step - loss: 0.1555 - accuracy: 0.9394 - Multilabel_confusion_matrix: 22122.9004 - val_loss: 0.3721 - val_accuracy: 0.8922 - val_Multilabel_confusion_matrix: 4444.0498\n",
      "Epoch 25/30\n",
      "98/98 [==============================] - 4s 42ms/step - loss: 0.1498 - accuracy: 0.9424 - Multilabel_confusion_matrix: 22126.1250 - val_loss: 0.4648 - val_accuracy: 0.8840 - val_Multilabel_confusion_matrix: 4436.4751\n",
      "Epoch 26/30\n",
      "98/98 [==============================] - 4s 44ms/step - loss: 0.1502 - accuracy: 0.9415 - Multilabel_confusion_matrix: 22118.0996 - val_loss: 0.3973 - val_accuracy: 0.8943 - val_Multilabel_confusion_matrix: 4437.0498\n",
      "Epoch 27/30\n",
      "98/98 [==============================] - 4s 43ms/step - loss: 0.1432 - accuracy: 0.9453 - Multilabel_confusion_matrix: 22089.2754 - val_loss: 0.4849 - val_accuracy: 0.8842 - val_Multilabel_confusion_matrix: 4430.1250\n",
      "Epoch 28/30\n",
      "98/98 [==============================] - 4s 42ms/step - loss: 0.1395 - accuracy: 0.9464 - Multilabel_confusion_matrix: 22085.5254 - val_loss: 0.5760 - val_accuracy: 0.8860 - val_Multilabel_confusion_matrix: 4419.1250\n",
      "Epoch 29/30\n",
      "98/98 [==============================] - 5s 47ms/step - loss: 0.1397 - accuracy: 0.9479 - Multilabel_confusion_matrix: 22082.0996 - val_loss: 0.4750 - val_accuracy: 0.8646 - val_Multilabel_confusion_matrix: 4442.0000\n",
      "Epoch 30/30\n",
      "98/98 [==============================] - 4s 43ms/step - loss: 0.1317 - accuracy: 0.9493 - Multilabel_confusion_matrix: 22071.0742 - val_loss: 0.4185 - val_accuracy: 0.8953 - val_Multilabel_confusion_matrix: 4432.7002\n"
     ]
    }
   ],
   "source": [
    "# model build with sparse categorical cross-entropy loss\n",
    "\n",
    "start = time.time() #start time count\n",
    "\n",
    "# build and train model\n",
    "model2 = experiment(activation, hidden_units, hidden_layers, loss[1])\n",
    "sparse_history.append(model2.fit(x_train_part, y_train_part, \n",
    "                      epochs = epochs, batch_size = batch_size,\n",
    "                      validation_data = (x_train_val, y_train_val)))\n",
    "\n",
    "end = time.time() #end time count\n",
    "\n",
    "sparse_timing = end-start"
   ]
  },
  {
   "cell_type": "markdown",
   "metadata": {},
   "source": [
    "Assuming 4 parametrs x 3 options each testified - getting 81 exclusive options.\n",
    "In this case, the total time needed for each algorithm is:"
   ]
  },
  {
   "cell_type": "code",
   "execution_count": 24,
   "metadata": {},
   "outputs": [
    {
     "name": "stdout",
     "output_type": "stream",
     "text": [
      "50 epochs, 81 exclusive options: \n",
      "Time with categorical cross-entropy : ~ 2.84  hour(s)\n",
      "Time with sparse categorical cross-entropy: ~ 2.9  hour(s)\n"
     ]
    }
   ],
   "source": [
    "cat_total = cat_timing*81\n",
    "sparse_total = sparse_timing*81\n",
    "\n",
    "print(\"50 epochs, 81 exclusive options: \")\n",
    "print(\"Time with categorical cross-entropy : ~\", np.round((cat_total/3600),2), \" hour(s)\")\n",
    "print(\"Time with sparse categorical cross-entropy: ~\", np.round((sparse_total/3600),2), \" hour(s)\")\n",
    "\n"
   ]
  },
  {
   "cell_type": "markdown",
   "metadata": {},
   "source": [
    "Performance of the two models:"
   ]
  },
  {
   "cell_type": "code",
   "execution_count": 25,
   "metadata": {},
   "outputs": [
    {
     "name": "stdout",
     "output_type": "stream",
     "text": [
      "Categorical cross-entropy\n",
      "Maximum validation accuracy:  0.899\n",
      "Maximum training accuracy:  0.948\n",
      "\n",
      "Sparse categorical cross-entropy\n",
      "Maximum validation accuracy:  0.9\n",
      "Maximum training accuracy:  0.949\n"
     ]
    }
   ],
   "source": [
    "cat_max_val_accu = np.max(cat_history[0].history['val_accuracy'])\n",
    "sparse_max_val_accu = np.max(sparse_history[0].history['val_accuracy'])\n",
    "\n",
    "cat_max_accu = np.max(cat_history[0].history['accuracy'])\n",
    "sparse_max_accu = np.max(sparse_history[0].history['accuracy'])\n",
    "\n",
    "print(\"Categorical cross-entropy\")\n",
    "print(\"Maximum validation accuracy: \", np.round(cat_max_val_accu, 3))\n",
    "print(\"Maximum training accuracy: \", np.round(cat_max_accu, 3))\n",
    "\n",
    "print(\"\\nSparse categorical cross-entropy\")\n",
    "print(\"Maximum validation accuracy: \", np.round(sparse_max_val_accu,3))\n",
    "print(\"Maximum training accuracy: \", np.round(sparse_max_accu, 3))"
   ]
  },
  {
   "cell_type": "markdown",
   "metadata": {},
   "source": [
    "Results shows that:\n",
    "1. Both models requires equal time to run\n",
    "2. Both models performs as the same lelev\n",
    "3. Both models **overfits**\n",
    "\n",
    "As per lecture notes, it is always a good idea to plot accuracies and/or in respect to epochs for training and validation sets. It helps not only to visualize overfitting, but also shows overall behaivor of the model and ease evaluation process. Here is the function (inspired by the class notes) helping to do so:"
   ]
  },
  {
   "cell_type": "code",
   "execution_count": 26,
   "metadata": {},
   "outputs": [],
   "source": [
    "# custom plotting fuction        \n",
    "def plot_results (y1, y1_label, y2, y2_label, title):    \n",
    "    \n",
    "    x =  range(1, len(y1)+1)\n",
    "\n",
    "    plt.plot(x, y1, label = y1_label)\n",
    "    plt.plot(x, y2, label = y2_label)\n",
    "    plt.xlabel('Epochs')\n",
    "    plt.title(title)\n",
    "    plt.legend()\n",
    "    plt.show()\n"
   ]
  },
  {
   "cell_type": "markdown",
   "metadata": {},
   "source": [
    "Categorical crossentropy vs. Sparse categorical crossentropy Accuracy on validation set:"
   ]
  },
  {
   "cell_type": "code",
   "execution_count": 27,
   "metadata": {},
   "outputs": [
    {
     "data": {
      "image/png": "[encoded data removed]",
      "text/plain": [
       "<Figure size 432x288 with 1 Axes>"
      ]
     },
     "metadata": {
      "needs_background": "light"
     },
     "output_type": "display_data"
    }
   ],
   "source": [
    "y1 = cat_history[0].history['val_accuracy']\n",
    "y1_label = 'Categorical crossentropy'\n",
    "y2 = sparse_history[0].history['val_accuracy']\n",
    "y2_label = 'Sparse categorical crossentropy'\n",
    "plot_results (y1, y1_label, y2, y2_label, \"Accuracy on validation set\\n\")"
   ]
  },
  {
   "cell_type": "markdown",
   "metadata": {},
   "source": [
    "Accurcies on training and validation sets for both models:"
   ]
  },
  {
   "cell_type": "code",
   "execution_count": 28,
   "metadata": {},
   "outputs": [
    {
     "data": {
      "image/png": "[encoded data removed]",
      "text/plain": [
       "<Figure size 432x288 with 1 Axes>"
      ]
     },
     "metadata": {
      "needs_background": "light"
     },
     "output_type": "display_data"
    },
    {
     "data": {
      "image/png": "[encoded data removed]",
      "text/plain": [
       "<Figure size 432x288 with 1 Axes>"
      ]
     },
     "metadata": {
      "needs_background": "light"
     },
     "output_type": "display_data"
    }
   ],
   "source": [
    "\n",
    "y1 = cat_history[0].history['val_accuracy']\n",
    "y1_label = 'Validation set'\n",
    "y2 = cat_history[0].history['accuracy']\n",
    "y2_label = 'Training set'\n",
    "plot_results (y1, y1_label, y2, y2_label, \n",
    "              \"Categorical crossentropy\\n Accuracy on training set vs. validation set\\n\")\n",
    "\n",
    "y1 = sparse_history[0].history['val_accuracy']\n",
    "y1_label = 'Validation set'\n",
    "y2 = sparse_history[0].history['accuracy']\n",
    "y2_label = 'Training set'\n",
    "plot_results (y1, y1_label, y2, y2_label, \n",
    "              \"Sparse categorical crossentropy\\n Accuracy on training set vs. validation set\\n\")"
   ]
  },
  {
   "cell_type": "markdown",
   "metadata": {},
   "source": [
    "Here we can see that indeed both loss functions perform roughly equaly - both in terms of accuracy and overfitting. The difference in working time is insufficient due to relatively small quantity of classes (10 classes). \n",
    "\n",
    "All things considered, I move forward with `categorical crossentropy`. However, before hyperparametrs tunning I first address overfitting by adding regularization term. In order to choose optimal value, I testify 4 regularization terms to find out which keeps the highest accuracy on the validation set:"
   ]
  },
  {
   "cell_type": "code",
   "execution_count": 29,
   "metadata": {},
   "outputs": [],
   "source": [
    "l2_set = [0.01, 0.02, 0.08, 0.1]\n",
    "loss = loss[0]"
   ]
  },
  {
   "cell_type": "markdown",
   "metadata": {},
   "source": [
    "The following function is called to automate the process of l2 regularization terms testifying."
   ]
  },
  {
   "cell_type": "code",
   "execution_count": 30,
   "metadata": {},
   "outputs": [],
   "source": [
    "l2_history = [] #array to store history objects\n",
    "l2_param_dict = {} #dictionary to store respective value of the reularization term\n",
    "\n",
    "def l2_test(l2_set):\n",
    "    count = 0\n",
    "    for l2 in l2_set:\n",
    "        l2_param_dict[count] = {\"l2\": l2}\n",
    "        model = experiment(activation, hidden_units, hidden_layers, \n",
    "                           loss, l2 = l2)\n",
    "        l2_history.append(model.fit(x_train_part, y_train_hot_part, epochs = epochs, \n",
    "                          batch_size = batch_size,\n",
    "                          validation_data = (x_train_val, y_train_hot_val)))\n",
    "        count = count+1"
   ]
  },
  {
   "cell_type": "code",
   "execution_count": 31,
   "metadata": {},
   "outputs": [
    {
     "name": "stdout",
     "output_type": "stream",
     "text": [
      "Epoch 1/30\n",
      "98/98 [==============================] - 5s 46ms/step - loss: 3.8775 - accuracy: 0.6848 - Multilabel_confusion_matrix: 12500.0000 - val_loss: 1.1746 - val_accuracy: 0.8053 - val_Multilabel_confusion_matrix: 2500.0000\n",
      "Epoch 2/30\n",
      "98/98 [==============================] - 4s 43ms/step - loss: 0.9078 - accuracy: 0.7895 - Multilabel_confusion_matrix: 12500.0000 - val_loss: 0.7327 - val_accuracy: 0.8028 - val_Multilabel_confusion_matrix: 2500.0000\n",
      "Epoch 3/30\n",
      "98/98 [==============================] - 4s 45ms/step - loss: 0.6499 - accuracy: 0.8169 - Multilabel_confusion_matrix: 12500.0000 - val_loss: 0.6084 - val_accuracy: 0.8232 - val_Multilabel_confusion_matrix: 2500.0000\n",
      "Epoch 4/30\n",
      "98/98 [==============================] - 4s 43ms/step - loss: 0.5654 - accuracy: 0.8340 - Multilabel_confusion_matrix: 12500.0000 - val_loss: 0.5669 - val_accuracy: 0.8257 - val_Multilabel_confusion_matrix: 2500.0000\n",
      "Epoch 5/30\n",
      "98/98 [==============================] - 4s 42ms/step - loss: 0.5187 - accuracy: 0.8457 - Multilabel_confusion_matrix: 12500.0000 - val_loss: 0.5588 - val_accuracy: 0.8290 - val_Multilabel_confusion_matrix: 2500.0000\n",
      "Epoch 6/30\n",
      "98/98 [==============================] - 4s 44ms/step - loss: 0.4853 - accuracy: 0.8524 - Multilabel_confusion_matrix: 12500.0000 - val_loss: 0.4699 - val_accuracy: 0.8592 - val_Multilabel_confusion_matrix: 2500.0000\n",
      "Epoch 7/30\n",
      "98/98 [==============================] - 4s 44ms/step - loss: 0.4608 - accuracy: 0.8597 - Multilabel_confusion_matrix: 12500.0000 - val_loss: 0.4758 - val_accuracy: 0.8511 - val_Multilabel_confusion_matrix: 2500.0000\n",
      "Epoch 8/30\n",
      "98/98 [==============================] - 4s 43ms/step - loss: 0.4365 - accuracy: 0.8679 - Multilabel_confusion_matrix: 12500.0000 - val_loss: 0.4364 - val_accuracy: 0.8635 - val_Multilabel_confusion_matrix: 2500.0000\n",
      "Epoch 9/30\n",
      "98/98 [==============================] - 4s 44ms/step - loss: 0.4231 - accuracy: 0.8706 - Multilabel_confusion_matrix: 12500.0000 - val_loss: 0.4346 - val_accuracy: 0.8637 - val_Multilabel_confusion_matrix: 2500.0000\n",
      "Epoch 10/30\n",
      "98/98 [==============================] - 5s 46ms/step - loss: 0.4074 - accuracy: 0.8754 - Multilabel_confusion_matrix: 12500.0000 - val_loss: 0.4497 - val_accuracy: 0.8521 - val_Multilabel_confusion_matrix: 2500.0000\n",
      "Epoch 11/30\n",
      "98/98 [==============================] - 4s 44ms/step - loss: 0.3961 - accuracy: 0.8772 - Multilabel_confusion_matrix: 12500.0000 - val_loss: 0.3991 - val_accuracy: 0.8759 - val_Multilabel_confusion_matrix: 2500.0000\n",
      "Epoch 12/30\n",
      "98/98 [==============================] - 4s 42ms/step - loss: 0.3852 - accuracy: 0.8802 - Multilabel_confusion_matrix: 12500.0000 - val_loss: 0.3850 - val_accuracy: 0.8824 - val_Multilabel_confusion_matrix: 2500.0000\n",
      "Epoch 13/30\n",
      "98/98 [==============================] - 4s 42ms/step - loss: 0.3735 - accuracy: 0.8851 - Multilabel_confusion_matrix: 12500.0000 - val_loss: 0.4378 - val_accuracy: 0.8577 - val_Multilabel_confusion_matrix: 2500.0000\n",
      "Epoch 14/30\n",
      "98/98 [==============================] - 4s 44ms/step - loss: 0.3664 - accuracy: 0.8867 - Multilabel_confusion_matrix: 12500.0000 - val_loss: 0.4336 - val_accuracy: 0.8604 - val_Multilabel_confusion_matrix: 2500.0000\n",
      "Epoch 15/30\n",
      "98/98 [==============================] - 4s 42ms/step - loss: 0.3570 - accuracy: 0.8900 - Multilabel_confusion_matrix: 12500.0000 - val_loss: 0.3781 - val_accuracy: 0.8805 - val_Multilabel_confusion_matrix: 2500.0000\n",
      "Epoch 16/30\n",
      "98/98 [==============================] - 4s 42ms/step - loss: 0.3505 - accuracy: 0.8906 - Multilabel_confusion_matrix: 12500.0000 - val_loss: 0.3914 - val_accuracy: 0.8755 - val_Multilabel_confusion_matrix: 2500.0000\n",
      "Epoch 17/30\n",
      "98/98 [==============================] - 4s 42ms/step - loss: 0.3427 - accuracy: 0.8942 - Multilabel_confusion_matrix: 12500.0000 - val_loss: 0.4343 - val_accuracy: 0.8628 - val_Multilabel_confusion_matrix: 2500.0000\n",
      "Epoch 18/30\n",
      "98/98 [==============================] - 4s 44ms/step - loss: 0.3356 - accuracy: 0.8956 - Multilabel_confusion_matrix: 12500.0000 - val_loss: 0.3994 - val_accuracy: 0.8747 - val_Multilabel_confusion_matrix: 2500.0000\n",
      "Epoch 19/30\n",
      "98/98 [==============================] - 4s 42ms/step - loss: 0.3282 - accuracy: 0.8983 - Multilabel_confusion_matrix: 12500.0000 - val_loss: 0.4208 - val_accuracy: 0.8604 - val_Multilabel_confusion_matrix: 2500.0000\n",
      "Epoch 20/30\n",
      "98/98 [==============================] - 4s 42ms/step - loss: 0.3258 - accuracy: 0.8984 - Multilabel_confusion_matrix: 12500.0000 - val_loss: 0.3750 - val_accuracy: 0.8784 - val_Multilabel_confusion_matrix: 2500.0000\n",
      "Epoch 21/30\n",
      "98/98 [==============================] - 4s 43ms/step - loss: 0.3195 - accuracy: 0.9022 - Multilabel_confusion_matrix: 12500.0000 - val_loss: 0.3759 - val_accuracy: 0.8818 - val_Multilabel_confusion_matrix: 2500.0000\n",
      "Epoch 22/30\n",
      "98/98 [==============================] - 4s 43ms/step - loss: 0.3147 - accuracy: 0.9042 - Multilabel_confusion_matrix: 12500.0000 - val_loss: 0.3531 - val_accuracy: 0.8903 - val_Multilabel_confusion_matrix: 2500.0000\n",
      "Epoch 23/30\n",
      "98/98 [==============================] - 4s 42ms/step - loss: 0.3100 - accuracy: 0.9047 - Multilabel_confusion_matrix: 12500.0000 - val_loss: 0.4070 - val_accuracy: 0.8654 - val_Multilabel_confusion_matrix: 2500.0000\n",
      "Epoch 24/30\n",
      "98/98 [==============================] - 4s 45ms/step - loss: 0.3053 - accuracy: 0.9056 - Multilabel_confusion_matrix: 12500.0000 - val_loss: 0.3652 - val_accuracy: 0.8846 - val_Multilabel_confusion_matrix: 2500.0000\n",
      "Epoch 25/30\n",
      "98/98 [==============================] - 4s 45ms/step - loss: 0.2985 - accuracy: 0.9086 - Multilabel_confusion_matrix: 12500.0000 - val_loss: 0.3898 - val_accuracy: 0.8770 - val_Multilabel_confusion_matrix: 2500.0000\n",
      "Epoch 26/30\n",
      "98/98 [==============================] - 4s 45ms/step - loss: 0.2953 - accuracy: 0.9084 - Multilabel_confusion_matrix: 12500.0000 - val_loss: 0.3431 - val_accuracy: 0.8940 - val_Multilabel_confusion_matrix: 2500.0000\n",
      "Epoch 27/30\n",
      "98/98 [==============================] - 4s 43ms/step - loss: 0.2929 - accuracy: 0.9108 - Multilabel_confusion_matrix: 12500.0000 - val_loss: 0.3595 - val_accuracy: 0.8831 - val_Multilabel_confusion_matrix: 2500.0000\n",
      "Epoch 28/30\n",
      "98/98 [==============================] - 4s 43ms/step - loss: 0.2867 - accuracy: 0.9117 - Multilabel_confusion_matrix: 12500.0000 - val_loss: 0.3433 - val_accuracy: 0.8962 - val_Multilabel_confusion_matrix: 2500.0000\n",
      "Epoch 29/30\n",
      "98/98 [==============================] - 4s 45ms/step - loss: 0.2833 - accuracy: 0.9141 - Multilabel_confusion_matrix: 12500.0000 - val_loss: 0.3513 - val_accuracy: 0.8914 - val_Multilabel_confusion_matrix: 2500.0000\n",
      "Epoch 30/30\n",
      "98/98 [==============================] - 4s 43ms/step - loss: 0.2811 - accuracy: 0.9150 - Multilabel_confusion_matrix: 12500.0000 - val_loss: 0.3463 - val_accuracy: 0.8844 - val_Multilabel_confusion_matrix: 2500.0000\n",
      "Epoch 1/30\n",
      "98/98 [==============================] - 5s 46ms/step - loss: 5.5325 - accuracy: 0.6666 - Multilabel_confusion_matrix: 12500.0000 - val_loss: 1.1609 - val_accuracy: 0.7517 - val_Multilabel_confusion_matrix: 2500.0000\n",
      "Epoch 2/30\n",
      "98/98 [==============================] - 4s 45ms/step - loss: 0.8991 - accuracy: 0.7771 - Multilabel_confusion_matrix: 12500.0000 - val_loss: 0.7225 - val_accuracy: 0.7985 - val_Multilabel_confusion_matrix: 2500.0000\n",
      "Epoch 3/30\n",
      "98/98 [==============================] - 4s 45ms/step - loss: 0.6960 - accuracy: 0.8065 - Multilabel_confusion_matrix: 12500.0000 - val_loss: 0.6591 - val_accuracy: 0.8144 - val_Multilabel_confusion_matrix: 2500.0000\n",
      "Epoch 4/30\n",
      "98/98 [==============================] - 4s 43ms/step - loss: 0.6148 - accuracy: 0.8242 - Multilabel_confusion_matrix: 12500.0000 - val_loss: 0.5779 - val_accuracy: 0.8325 - val_Multilabel_confusion_matrix: 2500.0000\n",
      "Epoch 5/30\n",
      "98/98 [==============================] - 4s 45ms/step - loss: 0.5648 - accuracy: 0.8361 - Multilabel_confusion_matrix: 12500.0000 - val_loss: 0.5580 - val_accuracy: 0.8387 - val_Multilabel_confusion_matrix: 2500.0000\n",
      "Epoch 6/30\n",
      "98/98 [==============================] - 4s 46ms/step - loss: 0.5288 - accuracy: 0.8449 - Multilabel_confusion_matrix: 12500.0000 - val_loss: 0.5223 - val_accuracy: 0.8462 - val_Multilabel_confusion_matrix: 2500.0000\n"
     ]
    },
    {
     "name": "stdout",
     "output_type": "stream",
     "text": [
      "Epoch 7/30\n",
      "98/98 [==============================] - 4s 43ms/step - loss: 0.5054 - accuracy: 0.8508 - Multilabel_confusion_matrix: 12500.0000 - val_loss: 0.4939 - val_accuracy: 0.8560 - val_Multilabel_confusion_matrix: 2500.0000\n",
      "Epoch 8/30\n",
      "98/98 [==============================] - 4s 43ms/step - loss: 0.4827 - accuracy: 0.8563 - Multilabel_confusion_matrix: 12500.0000 - val_loss: 0.4867 - val_accuracy: 0.8529 - val_Multilabel_confusion_matrix: 2500.0000\n",
      "Epoch 9/30\n",
      "98/98 [==============================] - 4s 46ms/step - loss: 0.4624 - accuracy: 0.8623 - Multilabel_confusion_matrix: 12500.0000 - val_loss: 0.4352 - val_accuracy: 0.8711 - val_Multilabel_confusion_matrix: 2500.0000\n",
      "Epoch 10/30\n",
      "98/98 [==============================] - 4s 46ms/step - loss: 0.4486 - accuracy: 0.8664 - Multilabel_confusion_matrix: 12500.0000 - val_loss: 0.4275 - val_accuracy: 0.8741 - val_Multilabel_confusion_matrix: 2500.0000\n",
      "Epoch 11/30\n",
      "98/98 [==============================] - 4s 42ms/step - loss: 0.4347 - accuracy: 0.8690 - Multilabel_confusion_matrix: 12500.0000 - val_loss: 0.4661 - val_accuracy: 0.8572 - val_Multilabel_confusion_matrix: 2500.0000\n",
      "Epoch 12/30\n",
      "98/98 [==============================] - 4s 43ms/step - loss: 0.4216 - accuracy: 0.8727 - Multilabel_confusion_matrix: 12500.0000 - val_loss: 0.4081 - val_accuracy: 0.8769 - val_Multilabel_confusion_matrix: 2500.0000\n",
      "Epoch 13/30\n",
      "98/98 [==============================] - 4s 43ms/step - loss: 0.4087 - accuracy: 0.8755 - Multilabel_confusion_matrix: 12500.0000 - val_loss: 0.4349 - val_accuracy: 0.8676 - val_Multilabel_confusion_matrix: 2500.0000\n",
      "Epoch 14/30\n",
      "98/98 [==============================] - 4s 45ms/step - loss: 0.4016 - accuracy: 0.8777 - Multilabel_confusion_matrix: 12500.0000 - val_loss: 0.4115 - val_accuracy: 0.8768 - val_Multilabel_confusion_matrix: 2500.0000\n",
      "Epoch 15/30\n",
      "98/98 [==============================] - 4s 42ms/step - loss: 0.3902 - accuracy: 0.8813 - Multilabel_confusion_matrix: 12500.0000 - val_loss: 0.4288 - val_accuracy: 0.8657 - val_Multilabel_confusion_matrix: 2500.0000\n",
      "Epoch 16/30\n",
      "98/98 [==============================] - 4s 42ms/step - loss: 0.3827 - accuracy: 0.8829 - Multilabel_confusion_matrix: 12500.0000 - val_loss: 0.4294 - val_accuracy: 0.8623 - val_Multilabel_confusion_matrix: 2500.0000\n",
      "Epoch 17/30\n",
      "98/98 [==============================] - 4s 43ms/step - loss: 0.3754 - accuracy: 0.8851 - Multilabel_confusion_matrix: 12500.0000 - val_loss: 0.4121 - val_accuracy: 0.8707 - val_Multilabel_confusion_matrix: 2500.0000\n",
      "Epoch 18/30\n",
      "98/98 [==============================] - 4s 44ms/step - loss: 0.3730 - accuracy: 0.8861 - Multilabel_confusion_matrix: 12500.0000 - val_loss: 0.4303 - val_accuracy: 0.8675 - val_Multilabel_confusion_matrix: 2500.0000\n",
      "Epoch 19/30\n",
      "98/98 [==============================] - 4s 44ms/step - loss: 0.3642 - accuracy: 0.8898 - Multilabel_confusion_matrix: 12500.0000 - val_loss: 0.3949 - val_accuracy: 0.8760 - val_Multilabel_confusion_matrix: 2500.0000\n",
      "Epoch 20/30\n",
      "98/98 [==============================] - 4s 44ms/step - loss: 0.3582 - accuracy: 0.8908 - Multilabel_confusion_matrix: 12500.0000 - val_loss: 0.4034 - val_accuracy: 0.8770 - val_Multilabel_confusion_matrix: 2500.0000\n",
      "Epoch 21/30\n",
      "98/98 [==============================] - 4s 46ms/step - loss: 0.3538 - accuracy: 0.8922 - Multilabel_confusion_matrix: 12500.0000 - val_loss: 0.4077 - val_accuracy: 0.8688 - val_Multilabel_confusion_matrix: 2500.0000\n",
      "Epoch 22/30\n",
      "98/98 [==============================] - 4s 45ms/step - loss: 0.3483 - accuracy: 0.8947 - Multilabel_confusion_matrix: 12500.0000 - val_loss: 0.3643 - val_accuracy: 0.8896 - val_Multilabel_confusion_matrix: 2500.0000\n",
      "Epoch 23/30\n",
      "98/98 [==============================] - 5s 47ms/step - loss: 0.3450 - accuracy: 0.8960 - Multilabel_confusion_matrix: 12500.0000 - val_loss: 0.3662 - val_accuracy: 0.8875 - val_Multilabel_confusion_matrix: 2500.0000\n",
      "Epoch 24/30\n",
      "98/98 [==============================] - 4s 45ms/step - loss: 0.3388 - accuracy: 0.8970 - Multilabel_confusion_matrix: 12500.0000 - val_loss: 0.4300 - val_accuracy: 0.8679 - val_Multilabel_confusion_matrix: 2500.0000\n",
      "Epoch 25/30\n",
      "98/98 [==============================] - 5s 47ms/step - loss: 0.3353 - accuracy: 0.8987 - Multilabel_confusion_matrix: 12500.0000 - val_loss: 0.3990 - val_accuracy: 0.8753 - val_Multilabel_confusion_matrix: 2500.0000\n",
      "Epoch 26/30\n",
      "98/98 [==============================] - 4s 45ms/step - loss: 0.3303 - accuracy: 0.8996 - Multilabel_confusion_matrix: 12500.0000 - val_loss: 0.3968 - val_accuracy: 0.8726 - val_Multilabel_confusion_matrix: 2500.0000\n",
      "Epoch 27/30\n",
      "98/98 [==============================] - 5s 46ms/step - loss: 0.3245 - accuracy: 0.9016 - Multilabel_confusion_matrix: 12500.0000 - val_loss: 0.3673 - val_accuracy: 0.8889 - val_Multilabel_confusion_matrix: 2500.0000\n",
      "Epoch 28/30\n",
      "98/98 [==============================] - 4s 44ms/step - loss: 0.3236 - accuracy: 0.9027 - Multilabel_confusion_matrix: 12500.0000 - val_loss: 0.3669 - val_accuracy: 0.8860 - val_Multilabel_confusion_matrix: 2500.0000\n",
      "Epoch 29/30\n",
      "98/98 [==============================] - 4s 44ms/step - loss: 0.3173 - accuracy: 0.9040 - Multilabel_confusion_matrix: 12500.0000 - val_loss: 0.4020 - val_accuracy: 0.8733 - val_Multilabel_confusion_matrix: 2500.0000\n",
      "Epoch 30/30\n",
      "98/98 [==============================] - 4s 44ms/step - loss: 0.3140 - accuracy: 0.9051 - Multilabel_confusion_matrix: 12500.0000 - val_loss: 0.4804 - val_accuracy: 0.8428 - val_Multilabel_confusion_matrix: 2500.0000\n",
      "Epoch 1/30\n",
      "98/98 [==============================] - 6s 48ms/step - loss: 15.1956 - accuracy: 0.6177 - Multilabel_confusion_matrix: 12500.0000 - val_loss: 1.1070 - val_accuracy: 0.7465 - val_Multilabel_confusion_matrix: 2500.0000\n",
      "Epoch 2/30\n",
      "98/98 [==============================] - 4s 44ms/step - loss: 1.0252 - accuracy: 0.7274 - Multilabel_confusion_matrix: 12500.0000 - val_loss: 0.8596 - val_accuracy: 0.7807 - val_Multilabel_confusion_matrix: 2500.0000\n",
      "Epoch 3/30\n",
      "98/98 [==============================] - 4s 43ms/step - loss: 0.8252 - accuracy: 0.7741 - Multilabel_confusion_matrix: 12500.0000 - val_loss: 0.8112 - val_accuracy: 0.7736 - val_Multilabel_confusion_matrix: 2500.0000\n",
      "Epoch 4/30\n",
      "98/98 [==============================] - 4s 43ms/step - loss: 0.7381 - accuracy: 0.7966 - Multilabel_confusion_matrix: 12500.0000 - val_loss: 0.7417 - val_accuracy: 0.7810 - val_Multilabel_confusion_matrix: 2500.0000\n",
      "Epoch 5/30\n",
      "98/98 [==============================] - 5s 46ms/step - loss: 0.6804 - accuracy: 0.8102 - Multilabel_confusion_matrix: 12500.0000 - val_loss: 0.7316 - val_accuracy: 0.7942 - val_Multilabel_confusion_matrix: 2500.0000\n",
      "Epoch 6/30\n",
      "98/98 [==============================] - 4s 45ms/step - loss: 0.6478 - accuracy: 0.8195 - Multilabel_confusion_matrix: 12500.0000 - val_loss: 0.6336 - val_accuracy: 0.8227 - val_Multilabel_confusion_matrix: 2500.0000\n",
      "Epoch 7/30\n",
      "98/98 [==============================] - 4s 43ms/step - loss: 0.6112 - accuracy: 0.8287 - Multilabel_confusion_matrix: 12500.0000 - val_loss: 0.5964 - val_accuracy: 0.8366 - val_Multilabel_confusion_matrix: 2500.0000\n",
      "Epoch 8/30\n",
      "98/98 [==============================] - 4s 43ms/step - loss: 0.5880 - accuracy: 0.8340 - Multilabel_confusion_matrix: 12500.0000 - val_loss: 0.6900 - val_accuracy: 0.8076 - val_Multilabel_confusion_matrix: 2500.0000\n",
      "Epoch 9/30\n",
      "98/98 [==============================] - 5s 49ms/step - loss: 0.5662 - accuracy: 0.8392 - Multilabel_confusion_matrix: 12500.0000 - val_loss: 0.5493 - val_accuracy: 0.8462 - val_Multilabel_confusion_matrix: 2500.0000\n",
      "Epoch 10/30\n",
      "98/98 [==============================] - 4s 45ms/step - loss: 0.5453 - accuracy: 0.8460 - Multilabel_confusion_matrix: 12500.0000 - val_loss: 0.5546 - val_accuracy: 0.8456 - val_Multilabel_confusion_matrix: 2500.0000\n",
      "Epoch 11/30\n",
      "98/98 [==============================] - 4s 43ms/step - loss: 0.5350 - accuracy: 0.8475 - Multilabel_confusion_matrix: 12500.0000 - val_loss: 0.5743 - val_accuracy: 0.8393 - val_Multilabel_confusion_matrix: 2500.0000\n",
      "Epoch 12/30\n",
      "98/98 [==============================] - 4s 43ms/step - loss: 0.5206 - accuracy: 0.8528 - Multilabel_confusion_matrix: 12500.0000 - val_loss: 0.5314 - val_accuracy: 0.8400 - val_Multilabel_confusion_matrix: 2500.0000\n"
     ]
    },
    {
     "name": "stdout",
     "output_type": "stream",
     "text": [
      "Epoch 13/30\n",
      "98/98 [==============================] - 4s 44ms/step - loss: 0.5078 - accuracy: 0.8562 - Multilabel_confusion_matrix: 12500.0000 - val_loss: 0.5385 - val_accuracy: 0.8442 - val_Multilabel_confusion_matrix: 2500.0000\n",
      "Epoch 14/30\n",
      "98/98 [==============================] - 4s 43ms/step - loss: 0.5005 - accuracy: 0.8573 - Multilabel_confusion_matrix: 12500.0000 - val_loss: 0.4745 - val_accuracy: 0.8680 - val_Multilabel_confusion_matrix: 2500.0000\n",
      "Epoch 15/30\n",
      "98/98 [==============================] - 4s 43ms/step - loss: 0.4883 - accuracy: 0.8612 - Multilabel_confusion_matrix: 12500.0000 - val_loss: 0.5065 - val_accuracy: 0.8535 - val_Multilabel_confusion_matrix: 2500.0000\n",
      "Epoch 16/30\n",
      "98/98 [==============================] - 4s 43ms/step - loss: 0.4792 - accuracy: 0.8637 - Multilabel_confusion_matrix: 12500.0000 - val_loss: 0.4648 - val_accuracy: 0.8663 - val_Multilabel_confusion_matrix: 2500.0000\n",
      "Epoch 17/30\n",
      "98/98 [==============================] - 4s 43ms/step - loss: 0.4718 - accuracy: 0.8656 - Multilabel_confusion_matrix: 12500.0000 - val_loss: 0.4599 - val_accuracy: 0.8701 - val_Multilabel_confusion_matrix: 2500.0000\n",
      "Epoch 18/30\n",
      "98/98 [==============================] - 4s 42ms/step - loss: 0.4668 - accuracy: 0.8666 - Multilabel_confusion_matrix: 12500.0000 - val_loss: 0.5029 - val_accuracy: 0.8557 - val_Multilabel_confusion_matrix: 2500.0000\n",
      "Epoch 19/30\n",
      "98/98 [==============================] - 4s 43ms/step - loss: 0.4565 - accuracy: 0.8688 - Multilabel_confusion_matrix: 12500.0000 - val_loss: 0.4869 - val_accuracy: 0.8577 - val_Multilabel_confusion_matrix: 2500.0000\n",
      "Epoch 20/30\n",
      "98/98 [==============================] - 4s 45ms/step - loss: 0.4504 - accuracy: 0.8723 - Multilabel_confusion_matrix: 12500.0000 - val_loss: 0.5098 - val_accuracy: 0.8456 - val_Multilabel_confusion_matrix: 2500.0000\n",
      "Epoch 21/30\n",
      "98/98 [==============================] - 4s 44ms/step - loss: 0.4485 - accuracy: 0.8710 - Multilabel_confusion_matrix: 12500.0000 - val_loss: 0.4369 - val_accuracy: 0.8757 - val_Multilabel_confusion_matrix: 2500.0000\n",
      "Epoch 22/30\n",
      "98/98 [==============================] - 4s 42ms/step - loss: 0.4414 - accuracy: 0.8727 - Multilabel_confusion_matrix: 12500.0000 - val_loss: 0.4643 - val_accuracy: 0.8603 - val_Multilabel_confusion_matrix: 2500.0000\n",
      "Epoch 23/30\n",
      "98/98 [==============================] - 4s 43ms/step - loss: 0.4364 - accuracy: 0.8755 - Multilabel_confusion_matrix: 12500.0000 - val_loss: 0.4856 - val_accuracy: 0.8479 - val_Multilabel_confusion_matrix: 2500.0000\n",
      "Epoch 24/30\n",
      "98/98 [==============================] - 5s 47ms/step - loss: 0.4301 - accuracy: 0.8760 - Multilabel_confusion_matrix: 12500.0000 - val_loss: 0.4629 - val_accuracy: 0.8600 - val_Multilabel_confusion_matrix: 2500.0000\n",
      "Epoch 25/30\n",
      "98/98 [==============================] - 4s 45ms/step - loss: 0.4258 - accuracy: 0.8786 - Multilabel_confusion_matrix: 12500.0000 - val_loss: 0.4584 - val_accuracy: 0.8627 - val_Multilabel_confusion_matrix: 2500.0000\n",
      "Epoch 26/30\n",
      "98/98 [==============================] - 4s 43ms/step - loss: 0.4241 - accuracy: 0.8784 - Multilabel_confusion_matrix: 12500.0000 - val_loss: 0.4847 - val_accuracy: 0.8612 - val_Multilabel_confusion_matrix: 2500.0000\n",
      "Epoch 27/30\n",
      "98/98 [==============================] - 4s 43ms/step - loss: 0.4194 - accuracy: 0.8803 - Multilabel_confusion_matrix: 12500.0000 - val_loss: 0.4638 - val_accuracy: 0.8578 - val_Multilabel_confusion_matrix: 2500.0000\n",
      "Epoch 28/30\n",
      "98/98 [==============================] - 4s 45ms/step - loss: 0.4130 - accuracy: 0.8827 - Multilabel_confusion_matrix: 12500.0000 - val_loss: 0.4588 - val_accuracy: 0.8657 - val_Multilabel_confusion_matrix: 2500.0000\n",
      "Epoch 29/30\n",
      "98/98 [==============================] - 4s 43ms/step - loss: 0.4115 - accuracy: 0.8823 - Multilabel_confusion_matrix: 12500.0000 - val_loss: 0.4397 - val_accuracy: 0.8699 - val_Multilabel_confusion_matrix: 2500.0000\n",
      "Epoch 30/30\n",
      "98/98 [==============================] - 4s 42ms/step - loss: 0.4068 - accuracy: 0.8842 - Multilabel_confusion_matrix: 12500.0000 - val_loss: 0.4408 - val_accuracy: 0.8713 - val_Multilabel_confusion_matrix: 2500.0000\n",
      "Epoch 1/30\n",
      "98/98 [==============================] - 6s 47ms/step - loss: 18.5072 - accuracy: 0.5891 - Multilabel_confusion_matrix: 12500.0000 - val_loss: 1.4014 - val_accuracy: 0.5497 - val_Multilabel_confusion_matrix: 2500.0000\n",
      "Epoch 2/30\n",
      "98/98 [==============================] - 4s 44ms/step - loss: 1.0662 - accuracy: 0.7091 - Multilabel_confusion_matrix: 12500.0000 - val_loss: 0.9142 - val_accuracy: 0.7507 - val_Multilabel_confusion_matrix: 2500.0000\n",
      "Epoch 3/30\n",
      "98/98 [==============================] - 4s 43ms/step - loss: 0.8684 - accuracy: 0.7595 - Multilabel_confusion_matrix: 12500.0000 - val_loss: 0.9589 - val_accuracy: 0.7090 - val_Multilabel_confusion_matrix: 2500.0000\n",
      "Epoch 4/30\n",
      "98/98 [==============================] - 4s 43ms/step - loss: 0.7755 - accuracy: 0.7850 - Multilabel_confusion_matrix: 12500.0000 - val_loss: 0.7395 - val_accuracy: 0.7911 - val_Multilabel_confusion_matrix: 2500.0000\n",
      "Epoch 5/30\n",
      "98/98 [==============================] - 4s 44ms/step - loss: 0.7076 - accuracy: 0.8033 - Multilabel_confusion_matrix: 12500.0000 - val_loss: 0.8539 - val_accuracy: 0.7423 - val_Multilabel_confusion_matrix: 2500.0000\n",
      "Epoch 6/30\n",
      "98/98 [==============================] - 4s 42ms/step - loss: 0.6684 - accuracy: 0.8121 - Multilabel_confusion_matrix: 12500.0000 - val_loss: 0.7115 - val_accuracy: 0.7978 - val_Multilabel_confusion_matrix: 2500.0000\n",
      "Epoch 7/30\n",
      "98/98 [==============================] - 4s 43ms/step - loss: 0.6371 - accuracy: 0.8209 - Multilabel_confusion_matrix: 12500.0000 - val_loss: 0.6326 - val_accuracy: 0.8231 - val_Multilabel_confusion_matrix: 2500.0000\n",
      "Epoch 8/30\n",
      "98/98 [==============================] - 4s 43ms/step - loss: 0.6167 - accuracy: 0.8253 - Multilabel_confusion_matrix: 12500.0000 - val_loss: 0.6358 - val_accuracy: 0.8199 - val_Multilabel_confusion_matrix: 2500.0000\n",
      "Epoch 9/30\n",
      "98/98 [==============================] - 5s 46ms/step - loss: 0.5926 - accuracy: 0.8336 - Multilabel_confusion_matrix: 12500.0000 - val_loss: 0.5597 - val_accuracy: 0.8446 - val_Multilabel_confusion_matrix: 2500.0000\n",
      "Epoch 10/30\n",
      "98/98 [==============================] - 4s 46ms/step - loss: 0.5764 - accuracy: 0.8358 - Multilabel_confusion_matrix: 12500.0000 - val_loss: 0.6013 - val_accuracy: 0.8217 - val_Multilabel_confusion_matrix: 2500.0000\n",
      "Epoch 11/30\n",
      "98/98 [==============================] - 5s 47ms/step - loss: 0.5558 - accuracy: 0.8432 - Multilabel_confusion_matrix: 12500.0000 - val_loss: 0.5760 - val_accuracy: 0.8274 - val_Multilabel_confusion_matrix: 2500.0000\n",
      "Epoch 12/30\n",
      "98/98 [==============================] - 4s 46ms/step - loss: 0.5424 - accuracy: 0.8464 - Multilabel_confusion_matrix: 12500.0000 - val_loss: 0.5201 - val_accuracy: 0.8536 - val_Multilabel_confusion_matrix: 2500.0000\n",
      "Epoch 13/30\n",
      "98/98 [==============================] - 5s 46ms/step - loss: 0.5288 - accuracy: 0.8505 - Multilabel_confusion_matrix: 12500.0000 - val_loss: 0.5318 - val_accuracy: 0.8496 - val_Multilabel_confusion_matrix: 2500.0000\n",
      "Epoch 14/30\n",
      "98/98 [==============================] - 5s 46ms/step - loss: 0.5169 - accuracy: 0.8547 - Multilabel_confusion_matrix: 12500.0000 - val_loss: 0.6673 - val_accuracy: 0.8045 - val_Multilabel_confusion_matrix: 2500.0000\n",
      "Epoch 15/30\n",
      "98/98 [==============================] - 5s 47ms/step - loss: 0.5088 - accuracy: 0.8546 - Multilabel_confusion_matrix: 12500.0000 - val_loss: 0.5342 - val_accuracy: 0.8412 - val_Multilabel_confusion_matrix: 2500.0000\n",
      "Epoch 16/30\n",
      "98/98 [==============================] - 5s 48ms/step - loss: 0.4994 - accuracy: 0.8586 - Multilabel_confusion_matrix: 12500.0000 - val_loss: 0.5166 - val_accuracy: 0.8545 - val_Multilabel_confusion_matrix: 2500.0000042 - accuracy: 0\n",
      "Epoch 17/30\n",
      "98/98 [==============================] - 5s 47ms/step - loss: 0.4920 - accuracy: 0.8603 - Multilabel_confusion_matrix: 12500.0000 - val_loss: 0.4893 - val_accuracy: 0.8618 - val_Multilabel_confusion_matrix: 2500.0000\n",
      "Epoch 18/30\n",
      "98/98 [==============================] - 4s 45ms/step - loss: 0.4864 - accuracy: 0.8617 - Multilabel_confusion_matrix: 12500.0000 - val_loss: 0.4981 - val_accuracy: 0.8550 - val_Multilabel_confusion_matrix: 2500.0000\n"
     ]
    },
    {
     "name": "stdout",
     "output_type": "stream",
     "text": [
      "Epoch 19/30\n",
      "98/98 [==============================] - 5s 46ms/step - loss: 0.4777 - accuracy: 0.8634 - Multilabel_confusion_matrix: 12500.0000 - val_loss: 0.5298 - val_accuracy: 0.8484 - val_Multilabel_confusion_matrix: 2500.0000\n",
      "Epoch 20/30\n",
      "98/98 [==============================] - 4s 45ms/step - loss: 0.4695 - accuracy: 0.8672 - Multilabel_confusion_matrix: 12500.0000 - val_loss: 0.5076 - val_accuracy: 0.8543 - val_Multilabel_confusion_matrix: 2500.0000\n",
      "Epoch 21/30\n",
      "98/98 [==============================] - 4s 44ms/step - loss: 0.4657 - accuracy: 0.8683 - Multilabel_confusion_matrix: 12500.0000 - val_loss: 0.4964 - val_accuracy: 0.8577 - val_Multilabel_confusion_matrix: 2500.0000\n",
      "Epoch 22/30\n",
      "98/98 [==============================] - 4s 44ms/step - loss: 0.4646 - accuracy: 0.8690 - Multilabel_confusion_matrix: 12500.0000 - val_loss: 0.4583 - val_accuracy: 0.8713 - val_Multilabel_confusion_matrix: 2500.0000\n",
      "Epoch 23/30\n",
      "98/98 [==============================] - 5s 46ms/step - loss: 0.4545 - accuracy: 0.8712 - Multilabel_confusion_matrix: 12500.0000 - val_loss: 0.5236 - val_accuracy: 0.8375 - val_Multilabel_confusion_matrix: 2500.0000\n",
      "Epoch 24/30\n",
      "98/98 [==============================] - 5s 48ms/step - loss: 0.4507 - accuracy: 0.8726 - Multilabel_confusion_matrix: 12500.0000 - val_loss: 0.5968 - val_accuracy: 0.8271 - val_Multilabel_confusion_matrix: 2500.0000\n",
      "Epoch 25/30\n",
      "98/98 [==============================] - 4s 45ms/step - loss: 0.4523 - accuracy: 0.8719 - Multilabel_confusion_matrix: 12500.0000 - val_loss: 0.4444 - val_accuracy: 0.8742 - val_Multilabel_confusion_matrix: 2500.0000\n",
      "Epoch 26/30\n",
      "98/98 [==============================] - 4s 46ms/step - loss: 0.4414 - accuracy: 0.8754 - Multilabel_confusion_matrix: 12500.0000 - val_loss: 0.4847 - val_accuracy: 0.8604 - val_Multilabel_confusion_matrix: 2500.0000\n",
      "Epoch 27/30\n",
      "98/98 [==============================] - 4s 45ms/step - loss: 0.4385 - accuracy: 0.8761 - Multilabel_confusion_matrix: 12500.0000 - val_loss: 0.4581 - val_accuracy: 0.8688 - val_Multilabel_confusion_matrix: 2500.0000\n",
      "Epoch 28/30\n",
      "98/98 [==============================] - 4s 46ms/step - loss: 0.4380 - accuracy: 0.8757 - Multilabel_confusion_matrix: 12500.0000 - val_loss: 0.4891 - val_accuracy: 0.8590 - val_Multilabel_confusion_matrix: 2500.0000\n",
      "Epoch 29/30\n",
      "98/98 [==============================] - 4s 44ms/step - loss: 0.4346 - accuracy: 0.8781 - Multilabel_confusion_matrix: 12500.0000 - val_loss: 0.4495 - val_accuracy: 0.8666 - val_Multilabel_confusion_matrix: 2500.0000\n",
      "Epoch 30/30\n",
      "98/98 [==============================] - 5s 47ms/step - loss: 0.4289 - accuracy: 0.8786 - Multilabel_confusion_matrix: 12500.0000 - val_loss: 0.4660 - val_accuracy: 0.8658 - val_Multilabel_confusion_matrix: 2500.0000\n"
     ]
    }
   ],
   "source": [
    "l2_test(l2_set)"
   ]
  },
  {
   "cell_type": "markdown",
   "metadata": {},
   "source": [
    "Here are the findings on the regularization term values after training 4 models:"
   ]
  },
  {
   "cell_type": "code",
   "execution_count": 32,
   "metadata": {},
   "outputs": [
    {
     "name": "stdout",
     "output_type": "stream",
     "text": [
      "--- Various options of regularization term l2 ---\n",
      "\n",
      "Comparing accuracies on the validation set:\n",
      "\n",
      "{'l2': 0.01}  -  0.8962000012397766\n",
      "{'l2': 0.02}  -  0.8895999789237976\n",
      "{'l2': 0.08}  -  0.8756999969482422\n",
      "{'l2': 0.1}  -  0.8741999864578247\n",
      "\n",
      "\n",
      "The highest accuracy:  0.8962000012397766  is given by : \n",
      " {'l2': 0.01}\n"
     ]
    }
   ],
   "source": [
    "l2_max_accuracies = [] #array to srore max accuracies on the validation set for each l2 term option \n",
    "print(\"--- Various options of regularization term l2 ---\\n\")\n",
    "print(\"Comparing accuracies on the validation set:\\n\")\n",
    "\n",
    "\n",
    "for l2 in range(len(l2_history)):\n",
    "    l2_max_accuracies.append(max(l2_history[l2].history['val_accuracy']))\n",
    "    print(l2_param_dict[l2],\" - \", max(l2_history[l2].history['val_accuracy']))\n",
    "\n",
    "l2_max_ind = np.argmax(l2_max_accuracies) #finding the index of max accuracy in order to find the best value\n",
    "\n",
    "print (\"\\n\\nThe highest accuracy: \", np.max(l2_max_accuracies), \n",
    "       \" is given by : \\n\", l2_param_dict[l2_max_ind])"
   ]
  },
  {
   "cell_type": "markdown",
   "metadata": {},
   "source": [
    "Validation and training sets accuraies visualization:"
   ]
  },
  {
   "cell_type": "code",
   "execution_count": 33,
   "metadata": {},
   "outputs": [
    {
     "data": {
      "image/png": "[encoded data removed]",
      "text/plain": [
       "<Figure size 432x288 with 1 Axes>"
      ]
     },
     "metadata": {
      "needs_background": "light"
     },
     "output_type": "display_data"
    }
   ],
   "source": [
    "y1 = l2_history[l2_max_ind].history['val_accuracy']\n",
    "y1_label = 'Validation set'\n",
    "y2 = l2_history[l2_max_ind].history['accuracy']\n",
    "y2_label = 'Training set'\n",
    "plot_results (y1, y1_label, y2, y2_label, \"Accuracy on validation set\\n\")"
   ]
  },
  {
   "cell_type": "markdown",
   "metadata": {},
   "source": [
    "Indeed, adding of regularization term results into smoothing of validation set."
   ]
  },
  {
   "cell_type": "markdown",
   "metadata": {},
   "source": [
    "Reached with l2 term accuracy is quite high and satisfy defined baseline performance. But here I try to manually tune learning rate and momentum in order ro potentially improve performance:"
   ]
  },
  {
   "cell_type": "code",
   "execution_count": 34,
   "metadata": {},
   "outputs": [],
   "source": [
    "learning_rate_set = [0.001, 0.005, 0.01]\n",
    "momentum_set = [0.001, 0.005, 0.01]\n",
    "l2 = l2_param_dict[l2_max_ind]['l2']"
   ]
  },
  {
   "cell_type": "markdown",
   "metadata": {},
   "source": [
    "Again, here is the function that automates building and iterating processes:"
   ]
  },
  {
   "cell_type": "code",
   "execution_count": 35,
   "metadata": {},
   "outputs": [],
   "source": [
    "lr_momentum_history = [] #array to store history objects\n",
    "param_dict = {} #array to store respective values of parametrs\n",
    "\n",
    "def lr_momentum_test(lr_set, mom_set):\n",
    "    count = 0\n",
    "    for lr in lr_set:\n",
    "        for momentum in mom_set:\n",
    "            \n",
    "            param_dict[count] = {\"lr\": lr, \"momentum\" : momentum}\n",
    "            model = experiment(activation, hidden_units, hidden_layers, loss,\n",
    "                               learning_rate = lr, momentum = momentum, l2=l2)\n",
    "            lr_momentum_history.append(model.fit(x_train_part, y_train_hot_part, epochs = epochs, \n",
    "                                  batch_size = batch_size,\n",
    "                                  validation_data = (x_train_val, y_train_hot_val)))\n",
    "            count = count+1\n"
   ]
  },
  {
   "cell_type": "code",
   "execution_count": 36,
   "metadata": {},
   "outputs": [
    {
     "name": "stdout",
     "output_type": "stream",
     "text": [
      "Epoch 1/30\n",
      "98/98 [==============================] - 5s 42ms/step - loss: 3.9387 - accuracy: 0.6737 - Multilabel_confusion_matrix: 12500.0000 - val_loss: 1.3706 - val_accuracy: 0.7326 - val_Multilabel_confusion_matrix: 2500.0000\n",
      "Epoch 2/30\n",
      "98/98 [==============================] - 4s 40ms/step - loss: 0.9242 - accuracy: 0.7866 - Multilabel_confusion_matrix: 12500.0000 - val_loss: 0.7199 - val_accuracy: 0.8141 - val_Multilabel_confusion_matrix: 2500.0000\n",
      "Epoch 3/30\n",
      "98/98 [==============================] - 4s 40ms/step - loss: 0.6741 - accuracy: 0.8124 - Multilabel_confusion_matrix: 12500.0000 - val_loss: 0.7467 - val_accuracy: 0.7549 - val_Multilabel_confusion_matrix: 2500.0000\n",
      "Epoch 4/30\n",
      "98/98 [==============================] - 4s 41ms/step - loss: 0.5902 - accuracy: 0.8296 - Multilabel_confusion_matrix: 12500.0000 - val_loss: 0.5641 - val_accuracy: 0.8363 - val_Multilabel_confusion_matrix: 2500.0000\n",
      "Epoch 5/30\n",
      "98/98 [==============================] - 4s 40ms/step - loss: 0.5418 - accuracy: 0.8381 - Multilabel_confusion_matrix: 12500.0000 - val_loss: 0.5402 - val_accuracy: 0.8318 - val_Multilabel_confusion_matrix: 2500.0000\n",
      "Epoch 6/30\n",
      "98/98 [==============================] - 4s 40ms/step - loss: 0.5120 - accuracy: 0.8474 - Multilabel_confusion_matrix: 12500.0000 - val_loss: 0.5011 - val_accuracy: 0.8501 - val_Multilabel_confusion_matrix: 2500.0000\n",
      "Epoch 7/30\n",
      "98/98 [==============================] - 4s 41ms/step - loss: 0.4876 - accuracy: 0.8524 - Multilabel_confusion_matrix: 12500.0000 - val_loss: 0.4912 - val_accuracy: 0.8482 - val_Multilabel_confusion_matrix: 2500.0000\n",
      "Epoch 8/30\n",
      "98/98 [==============================] - 4s 41ms/step - loss: 0.4686 - accuracy: 0.8577 - Multilabel_confusion_matrix: 12500.0000 - val_loss: 0.4483 - val_accuracy: 0.8625 - val_Multilabel_confusion_matrix: 2500.0000\n",
      "Epoch 9/30\n",
      "98/98 [==============================] - 4s 42ms/step - loss: 0.4529 - accuracy: 0.8622 - Multilabel_confusion_matrix: 12500.0000 - val_loss: 0.4519 - val_accuracy: 0.8617 - val_Multilabel_confusion_matrix: 2500.0000\n",
      "Epoch 10/30\n",
      "98/98 [==============================] - 4s 42ms/step - loss: 0.4382 - accuracy: 0.8660 - Multilabel_confusion_matrix: 12500.0000 - val_loss: 0.5032 - val_accuracy: 0.8385 - val_Multilabel_confusion_matrix: 2500.0000\n",
      "Epoch 11/30\n",
      "98/98 [==============================] - 4s 40ms/step - loss: 0.4264 - accuracy: 0.8688 - Multilabel_confusion_matrix: 12500.0000 - val_loss: 0.4207 - val_accuracy: 0.8737 - val_Multilabel_confusion_matrix: 2500.0000\n",
      "Epoch 12/30\n",
      "98/98 [==============================] - 4s 40ms/step - loss: 0.4170 - accuracy: 0.8723 - Multilabel_confusion_matrix: 12500.0000 - val_loss: 0.4541 - val_accuracy: 0.8573 - val_Multilabel_confusion_matrix: 2500.0000\n",
      "Epoch 13/30\n",
      "98/98 [==============================] - 4s 39ms/step - loss: 0.4099 - accuracy: 0.8733 - Multilabel_confusion_matrix: 12500.0000 - val_loss: 0.3969 - val_accuracy: 0.8802 - val_Multilabel_confusion_matrix: 2500.0000\n",
      "Epoch 14/30\n",
      "98/98 [==============================] - 4s 39ms/step - loss: 0.3975 - accuracy: 0.8787 - Multilabel_confusion_matrix: 12500.0000 - val_loss: 0.4080 - val_accuracy: 0.8735 - val_Multilabel_confusion_matrix: 2500.0000\n",
      "Epoch 15/30\n",
      "98/98 [==============================] - 4s 41ms/step - loss: 0.3911 - accuracy: 0.8799 - Multilabel_confusion_matrix: 12500.0000 - val_loss: 0.4195 - val_accuracy: 0.8689 - val_Multilabel_confusion_matrix: 2500.0000\n",
      "Epoch 16/30\n",
      "98/98 [==============================] - 4s 41ms/step - loss: 0.3853 - accuracy: 0.8808 - Multilabel_confusion_matrix: 12500.0000 - val_loss: 0.4367 - val_accuracy: 0.8622 - val_Multilabel_confusion_matrix: 2500.0000\n",
      "Epoch 17/30\n",
      "98/98 [==============================] - 4s 40ms/step - loss: 0.3778 - accuracy: 0.8836 - Multilabel_confusion_matrix: 12500.0000 - val_loss: 0.4493 - val_accuracy: 0.8537 - val_Multilabel_confusion_matrix: 2500.0000\n",
      "Epoch 18/30\n",
      "98/98 [==============================] - 4s 40ms/step - loss: 0.3711 - accuracy: 0.8858 - Multilabel_confusion_matrix: 12500.0000 - val_loss: 0.3905 - val_accuracy: 0.8810 - val_Multilabel_confusion_matrix: 2500.0000\n",
      "Epoch 19/30\n",
      "98/98 [==============================] - 4s 40ms/step - loss: 0.3643 - accuracy: 0.8889 - Multilabel_confusion_matrix: 12500.0000 - val_loss: 0.3930 - val_accuracy: 0.8775 - val_Multilabel_confusion_matrix: 2500.0000\n",
      "Epoch 20/30\n",
      "98/98 [==============================] - 4s 41ms/step - loss: 0.3597 - accuracy: 0.8897 - Multilabel_confusion_matrix: 12500.0000 - val_loss: 0.3853 - val_accuracy: 0.8811 - val_Multilabel_confusion_matrix: 2500.0000\n",
      "Epoch 21/30\n",
      "98/98 [==============================] - 4s 40ms/step - loss: 0.3526 - accuracy: 0.8911 - Multilabel_confusion_matrix: 12500.0000 - val_loss: 0.4165 - val_accuracy: 0.8580 - val_Multilabel_confusion_matrix: 2500.0000\n",
      "Epoch 22/30\n",
      "98/98 [==============================] - 4s 40ms/step - loss: 0.3493 - accuracy: 0.8913 - Multilabel_confusion_matrix: 12500.0000 - val_loss: 0.3860 - val_accuracy: 0.8822 - val_Multilabel_confusion_matrix: 2500.0000\n",
      "Epoch 23/30\n",
      "98/98 [==============================] - 4s 40ms/step - loss: 0.3417 - accuracy: 0.8947 - Multilabel_confusion_matrix: 12500.0000 - val_loss: 0.4120 - val_accuracy: 0.8665 - val_Multilabel_confusion_matrix: 2500.0000\n",
      "Epoch 24/30\n",
      "98/98 [==============================] - 4s 41ms/step - loss: 0.3393 - accuracy: 0.8957 - Multilabel_confusion_matrix: 12500.0000 - val_loss: 0.3813 - val_accuracy: 0.8811 - val_Multilabel_confusion_matrix: 2500.0000\n",
      "Epoch 25/30\n",
      "98/98 [==============================] - 4s 41ms/step - loss: 0.3332 - accuracy: 0.8976 - Multilabel_confusion_matrix: 12500.0000 - val_loss: 0.3749 - val_accuracy: 0.8803 - val_Multilabel_confusion_matrix: 2500.0000\n",
      "Epoch 26/30\n",
      "98/98 [==============================] - 4s 44ms/step - loss: 0.3292 - accuracy: 0.8985 - Multilabel_confusion_matrix: 12500.0000 - val_loss: 0.4004 - val_accuracy: 0.8670 - val_Multilabel_confusion_matrix: 2500.0000\n",
      "Epoch 27/30\n",
      "98/98 [==============================] - 4s 41ms/step - loss: 0.3280 - accuracy: 0.8975 - Multilabel_confusion_matrix: 12500.0000 - val_loss: 0.3699 - val_accuracy: 0.8852 - val_Multilabel_confusion_matrix: 2500.0000\n",
      "Epoch 28/30\n",
      "98/98 [==============================] - 4s 41ms/step - loss: 0.3232 - accuracy: 0.9006 - Multilabel_confusion_matrix: 12500.0000 - val_loss: 0.3703 - val_accuracy: 0.8834 - val_Multilabel_confusion_matrix: 2500.0000\n",
      "Epoch 29/30\n",
      "98/98 [==============================] - 4s 40ms/step - loss: 0.3197 - accuracy: 0.9019 - Multilabel_confusion_matrix: 12500.0000 - val_loss: 0.3484 - val_accuracy: 0.8901 - val_Multilabel_confusion_matrix: 2500.0000\n",
      "Epoch 30/30\n",
      "98/98 [==============================] - 4s 40ms/step - loss: 0.3154 - accuracy: 0.9034 - Multilabel_confusion_matrix: 12500.0000 - val_loss: 0.3608 - val_accuracy: 0.8866 - val_Multilabel_confusion_matrix: 2500.0000\n",
      "Epoch 1/30\n",
      "98/98 [==============================] - 5s 44ms/step - loss: 3.8882 - accuracy: 0.6814 - Multilabel_confusion_matrix: 12500.0000 - val_loss: 1.3443 - val_accuracy: 0.7300 - val_Multilabel_confusion_matrix: 2500.0000\n",
      "Epoch 2/30\n",
      "98/98 [==============================] - 4s 41ms/step - loss: 0.9153 - accuracy: 0.7893 - Multilabel_confusion_matrix: 12500.0000 - val_loss: 0.7780 - val_accuracy: 0.7903 - val_Multilabel_confusion_matrix: 2500.0000\n",
      "Epoch 3/30\n",
      "98/98 [==============================] - 4s 40ms/step - loss: 0.6727 - accuracy: 0.8118 - Multilabel_confusion_matrix: 12500.0000 - val_loss: 0.5985 - val_accuracy: 0.8359 - val_Multilabel_confusion_matrix: 2500.0000\n",
      "Epoch 4/30\n",
      "98/98 [==============================] - 4s 44ms/step - loss: 0.5899 - accuracy: 0.8289 - Multilabel_confusion_matrix: 12500.0000 - val_loss: 0.5250 - val_accuracy: 0.8494 - val_Multilabel_confusion_matrix: 2500.0000\n",
      "Epoch 5/30\n",
      "98/98 [==============================] - 4s 41ms/step - loss: 0.5440 - accuracy: 0.8368 - Multilabel_confusion_matrix: 12500.0000 - val_loss: 0.5403 - val_accuracy: 0.8334 - val_Multilabel_confusion_matrix: 2500.0000\n",
      "Epoch 6/30\n",
      "98/98 [==============================] - 4s 41ms/step - loss: 0.5081 - accuracy: 0.8474 - Multilabel_confusion_matrix: 12500.0000 - val_loss: 0.4916 - val_accuracy: 0.8478 - val_Multilabel_confusion_matrix: 2500.0000\n"
     ]
    },
    {
     "name": "stdout",
     "output_type": "stream",
     "text": [
      "Epoch 7/30\n",
      "98/98 [==============================] - 4s 39ms/step - loss: 0.4884 - accuracy: 0.8517 - Multilabel_confusion_matrix: 12500.0000 - val_loss: 0.5146 - val_accuracy: 0.8391 - val_Multilabel_confusion_matrix: 2500.0000\n",
      "Epoch 8/30\n",
      "98/98 [==============================] - 4s 41ms/step - loss: 0.4637 - accuracy: 0.8586 - Multilabel_confusion_matrix: 12500.0000 - val_loss: 0.4499 - val_accuracy: 0.8647 - val_Multilabel_confusion_matrix: 2500.0000\n",
      "Epoch 9/30\n",
      "98/98 [==============================] - 4s 41ms/step - loss: 0.4471 - accuracy: 0.8635 - Multilabel_confusion_matrix: 12500.0000 - val_loss: 0.4837 - val_accuracy: 0.8479 - val_Multilabel_confusion_matrix: 2500.0000\n",
      "Epoch 10/30\n",
      "98/98 [==============================] - 4s 41ms/step - loss: 0.4326 - accuracy: 0.8662 - Multilabel_confusion_matrix: 12500.0000 - val_loss: 0.4232 - val_accuracy: 0.8737 - val_Multilabel_confusion_matrix: 2500.0000\n",
      "Epoch 11/30\n",
      "98/98 [==============================] - 4s 40ms/step - loss: 0.4227 - accuracy: 0.8711 - Multilabel_confusion_matrix: 12500.0000 - val_loss: 0.4421 - val_accuracy: 0.8643 - val_Multilabel_confusion_matrix: 2500.0000\n",
      "Epoch 12/30\n",
      "98/98 [==============================] - 4s 44ms/step - loss: 0.4128 - accuracy: 0.8716 - Multilabel_confusion_matrix: 12500.0000 - val_loss: 0.4277 - val_accuracy: 0.8639 - val_Multilabel_confusion_matrix: 2500.0000\n",
      "Epoch 13/30\n",
      "98/98 [==============================] - 4s 44ms/step - loss: 0.4029 - accuracy: 0.8759 - Multilabel_confusion_matrix: 12500.0000 - val_loss: 0.4018 - val_accuracy: 0.8784 - val_Multilabel_confusion_matrix: 2500.0000\n",
      "Epoch 14/30\n",
      "98/98 [==============================] - 4s 44ms/step - loss: 0.3926 - accuracy: 0.8788 - Multilabel_confusion_matrix: 12500.0000 - val_loss: 0.4381 - val_accuracy: 0.8633 - val_Multilabel_confusion_matrix: 2500.0000\n",
      "Epoch 15/30\n",
      "98/98 [==============================] - 5s 47ms/step - loss: 0.3861 - accuracy: 0.8807 - Multilabel_confusion_matrix: 12500.0000 - val_loss: 0.4054 - val_accuracy: 0.8706 - val_Multilabel_confusion_matrix: 2500.0000\n",
      "Epoch 16/30\n",
      "98/98 [==============================] - 4s 46ms/step - loss: 0.3774 - accuracy: 0.8831 - Multilabel_confusion_matrix: 12500.0000 - val_loss: 0.3968 - val_accuracy: 0.8745 - val_Multilabel_confusion_matrix: 2500.0000\n",
      "Epoch 17/30\n",
      "98/98 [==============================] - 4s 44ms/step - loss: 0.3754 - accuracy: 0.8832 - Multilabel_confusion_matrix: 12500.0000 - val_loss: 0.3948 - val_accuracy: 0.8752 - val_Multilabel_confusion_matrix: 2500.0000\n",
      "Epoch 18/30\n",
      "98/98 [==============================] - 4s 41ms/step - loss: 0.3657 - accuracy: 0.8860 - Multilabel_confusion_matrix: 12500.0000 - val_loss: 0.4509 - val_accuracy: 0.8607 - val_Multilabel_confusion_matrix: 2500.0000\n",
      "Epoch 19/30\n",
      "98/98 [==============================] - 4s 42ms/step - loss: 0.3586 - accuracy: 0.8900 - Multilabel_confusion_matrix: 12500.0000 - val_loss: 0.3706 - val_accuracy: 0.8813 - val_Multilabel_confusion_matrix: 2500.0000\n",
      "Epoch 20/30\n",
      "98/98 [==============================] - 4s 41ms/step - loss: 0.3554 - accuracy: 0.8891 - Multilabel_confusion_matrix: 12500.0000 - val_loss: 0.3907 - val_accuracy: 0.8763 - val_Multilabel_confusion_matrix: 2500.0000\n",
      "Epoch 21/30\n",
      "98/98 [==============================] - 4s 44ms/step - loss: 0.3509 - accuracy: 0.8909 - Multilabel_confusion_matrix: 12500.0000 - val_loss: 0.3752 - val_accuracy: 0.8835 - val_Multilabel_confusion_matrix: 2500.0000\n",
      "Epoch 22/30\n",
      "98/98 [==============================] - 4s 43ms/step - loss: 0.3435 - accuracy: 0.8930 - Multilabel_confusion_matrix: 12500.0000 - val_loss: 0.3617 - val_accuracy: 0.8869 - val_Multilabel_confusion_matrix: 2500.0000\n",
      "Epoch 23/30\n",
      "98/98 [==============================] - 4s 42ms/step - loss: 0.3378 - accuracy: 0.8954 - Multilabel_confusion_matrix: 12500.0000 - val_loss: 0.4227 - val_accuracy: 0.8637 - val_Multilabel_confusion_matrix: 2500.0000\n",
      "Epoch 24/30\n",
      "98/98 [==============================] - 4s 42ms/step - loss: 0.3349 - accuracy: 0.8965 - Multilabel_confusion_matrix: 12500.0000 - val_loss: 0.3887 - val_accuracy: 0.8761 - val_Multilabel_confusion_matrix: 2500.0000\n",
      "Epoch 25/30\n",
      "98/98 [==============================] - 4s 43ms/step - loss: 0.3330 - accuracy: 0.8978 - Multilabel_confusion_matrix: 12500.0000 - val_loss: 0.3737 - val_accuracy: 0.8844 - val_Multilabel_confusion_matrix: 2500.0000\n",
      "Epoch 26/30\n",
      "98/98 [==============================] - 4s 41ms/step - loss: 0.3293 - accuracy: 0.8977 - Multilabel_confusion_matrix: 12500.0000 - val_loss: 0.3804 - val_accuracy: 0.8813 - val_Multilabel_confusion_matrix: 2500.0000\n",
      "Epoch 27/30\n",
      "98/98 [==============================] - 4s 42ms/step - loss: 0.3230 - accuracy: 0.8995 - Multilabel_confusion_matrix: 12500.0000 - val_loss: 0.4496 - val_accuracy: 0.8572 - val_Multilabel_confusion_matrix: 2500.0000\n",
      "Epoch 28/30\n",
      "98/98 [==============================] - 4s 44ms/step - loss: 0.3214 - accuracy: 0.9007 - Multilabel_confusion_matrix: 12500.0000 - val_loss: 0.3621 - val_accuracy: 0.8904 - val_Multilabel_confusion_matrix: 2500.0000\n",
      "Epoch 29/30\n",
      "98/98 [==============================] - 4s 43ms/step - loss: 0.3204 - accuracy: 0.9006 - Multilabel_confusion_matrix: 12500.0000 - val_loss: 0.4011 - val_accuracy: 0.8641 - val_Multilabel_confusion_matrix: 2500.0000\n",
      "Epoch 30/30\n",
      "98/98 [==============================] - 4s 42ms/step - loss: 0.3127 - accuracy: 0.9040 - Multilabel_confusion_matrix: 12500.0000 - val_loss: 0.3704 - val_accuracy: 0.8852 - val_Multilabel_confusion_matrix: 2500.0000\n",
      "Epoch 1/30\n",
      "98/98 [==============================] - 5s 43ms/step - loss: 3.9821 - accuracy: 0.6758 - Multilabel_confusion_matrix: 12500.0000 - val_loss: 1.4029 - val_accuracy: 0.7150 - val_Multilabel_confusion_matrix: 2500.0000\n",
      "Epoch 2/30\n",
      "98/98 [==============================] - 4s 43ms/step - loss: 0.9373 - accuracy: 0.7858 - Multilabel_confusion_matrix: 12500.0000 - val_loss: 0.7509 - val_accuracy: 0.8159 - val_Multilabel_confusion_matrix: 2500.0000\n",
      "Epoch 3/30\n",
      "98/98 [==============================] - 4s 41ms/step - loss: 0.6770 - accuracy: 0.8129 - Multilabel_confusion_matrix: 12500.0000 - val_loss: 0.6028 - val_accuracy: 0.8291 - val_Multilabel_confusion_matrix: 2500.0000\n",
      "Epoch 4/30\n",
      "98/98 [==============================] - 4s 42ms/step - loss: 0.5904 - accuracy: 0.8266 - Multilabel_confusion_matrix: 12500.0000 - val_loss: 0.5345 - val_accuracy: 0.8445 - val_Multilabel_confusion_matrix: 2500.0000\n",
      "Epoch 5/30\n",
      "98/98 [==============================] - 4s 41ms/step - loss: 0.5481 - accuracy: 0.8377 - Multilabel_confusion_matrix: 12500.0000 - val_loss: 0.5075 - val_accuracy: 0.8514 - val_Multilabel_confusion_matrix: 2500.0000\n",
      "Epoch 6/30\n",
      "98/98 [==============================] - 4s 44ms/step - loss: 0.5161 - accuracy: 0.8446 - Multilabel_confusion_matrix: 12500.0000 - val_loss: 0.4869 - val_accuracy: 0.8562 - val_Multilabel_confusion_matrix: 2500.0000\n",
      "Epoch 7/30\n",
      "98/98 [==============================] - 4s 41ms/step - loss: 0.4887 - accuracy: 0.8515 - Multilabel_confusion_matrix: 12500.0000 - val_loss: 0.4880 - val_accuracy: 0.8562 - val_Multilabel_confusion_matrix: 2500.0000\n",
      "Epoch 8/30\n",
      "98/98 [==============================] - 4s 43ms/step - loss: 0.4673 - accuracy: 0.8579 - Multilabel_confusion_matrix: 12500.0000 - val_loss: 0.5310 - val_accuracy: 0.8359 - val_Multilabel_confusion_matrix: 2500.0000\n",
      "Epoch 9/30\n",
      "98/98 [==============================] - 4s 41ms/step - loss: 0.4529 - accuracy: 0.8625 - Multilabel_confusion_matrix: 12500.0000 - val_loss: 0.5026 - val_accuracy: 0.8441 - val_Multilabel_confusion_matrix: 2500.0000\n",
      "Epoch 10/30\n",
      "98/98 [==============================] - 4s 43ms/step - loss: 0.4389 - accuracy: 0.8655 - Multilabel_confusion_matrix: 12500.0000 - val_loss: 0.4373 - val_accuracy: 0.8649 - val_Multilabel_confusion_matrix: 2500.0000\n",
      "Epoch 11/30\n",
      "98/98 [==============================] - 4s 43ms/step - loss: 0.4263 - accuracy: 0.8694 - Multilabel_confusion_matrix: 12500.0000 - val_loss: 0.4964 - val_accuracy: 0.8435 - val_Multilabel_confusion_matrix: 2500.0000\n",
      "Epoch 12/30\n",
      "98/98 [==============================] - 4s 44ms/step - loss: 0.4155 - accuracy: 0.8719 - Multilabel_confusion_matrix: 12500.0000 - val_loss: 0.4073 - val_accuracy: 0.8747 - val_Multilabel_confusion_matrix: 2500.0000\n"
     ]
    },
    {
     "name": "stdout",
     "output_type": "stream",
     "text": [
      "Epoch 13/30\n",
      "98/98 [==============================] - 5s 47ms/step - loss: 0.4065 - accuracy: 0.8743 - Multilabel_confusion_matrix: 12500.0000 - val_loss: 0.4234 - val_accuracy: 0.8697 - val_Multilabel_confusion_matrix: 2500.0000\n",
      "Epoch 14/30\n",
      "98/98 [==============================] - 4s 44ms/step - loss: 0.3971 - accuracy: 0.8763 - Multilabel_confusion_matrix: 12500.0000 - val_loss: 0.4177 - val_accuracy: 0.8705 - val_Multilabel_confusion_matrix: 2500.0000\n",
      "Epoch 15/30\n",
      "98/98 [==============================] - 5s 50ms/step - loss: 0.3899 - accuracy: 0.8780 - Multilabel_confusion_matrix: 12500.0000 - val_loss: 0.4146 - val_accuracy: 0.8637 - val_Multilabel_confusion_matrix: 2500.0000\n",
      "Epoch 16/30\n",
      "98/98 [==============================] - 4s 41ms/step - loss: 0.3813 - accuracy: 0.8815 - Multilabel_confusion_matrix: 12500.0000 - val_loss: 0.3949 - val_accuracy: 0.8792 - val_Multilabel_confusion_matrix: 2500.0000\n",
      "Epoch 17/30\n",
      "98/98 [==============================] - 5s 52ms/step - loss: 0.3750 - accuracy: 0.8841 - Multilabel_confusion_matrix: 12500.0000 - val_loss: 0.4077 - val_accuracy: 0.8731 - val_Multilabel_confusion_matrix: 2500.0000\n",
      "Epoch 18/30\n",
      "98/98 [==============================] - 5s 46ms/step - loss: 0.3700 - accuracy: 0.8854 - Multilabel_confusion_matrix: 12500.0000 - val_loss: 0.3768 - val_accuracy: 0.8809 - val_Multilabel_confusion_matrix: 2500.0000\n",
      "Epoch 19/30\n",
      "98/98 [==============================] - 4s 43ms/step - loss: 0.3639 - accuracy: 0.8864 - Multilabel_confusion_matrix: 12500.0000 - val_loss: 0.3984 - val_accuracy: 0.8721 - val_Multilabel_confusion_matrix: 2500.0000\n",
      "Epoch 20/30\n",
      "98/98 [==============================] - 4s 42ms/step - loss: 0.3600 - accuracy: 0.8881 - Multilabel_confusion_matrix: 12500.0000 - val_loss: 0.3745 - val_accuracy: 0.8835 - val_Multilabel_confusion_matrix: 2500.0000\n",
      "Epoch 21/30\n",
      "98/98 [==============================] - 4s 43ms/step - loss: 0.3539 - accuracy: 0.8900 - Multilabel_confusion_matrix: 12500.0000 - val_loss: 0.3699 - val_accuracy: 0.8872 - val_Multilabel_confusion_matrix: 2500.0000\n",
      "Epoch 22/30\n",
      "98/98 [==============================] - 4s 42ms/step - loss: 0.3472 - accuracy: 0.8930 - Multilabel_confusion_matrix: 12500.0000 - val_loss: 0.3824 - val_accuracy: 0.8810 - val_Multilabel_confusion_matrix: 2500.0000\n",
      "Epoch 23/30\n",
      "98/98 [==============================] - 4s 42ms/step - loss: 0.3437 - accuracy: 0.8942 - Multilabel_confusion_matrix: 12500.0000 - val_loss: 0.3674 - val_accuracy: 0.8790 - val_Multilabel_confusion_matrix: 2500.0000\n",
      "Epoch 24/30\n",
      "98/98 [==============================] - 4s 42ms/step - loss: 0.3374 - accuracy: 0.8973 - Multilabel_confusion_matrix: 12500.0000 - val_loss: 0.3916 - val_accuracy: 0.8758 - val_Multilabel_confusion_matrix: 2500.0000\n",
      "Epoch 25/30\n",
      "98/98 [==============================] - 4s 44ms/step - loss: 0.3367 - accuracy: 0.8970 - Multilabel_confusion_matrix: 12500.0000 - val_loss: 0.3636 - val_accuracy: 0.8832 - val_Multilabel_confusion_matrix: 2500.0000\n",
      "Epoch 26/30\n",
      "98/98 [==============================] - 4s 41ms/step - loss: 0.3304 - accuracy: 0.8979 - Multilabel_confusion_matrix: 12500.0000 - val_loss: 0.3603 - val_accuracy: 0.8847 - val_Multilabel_confusion_matrix: 2500.0000\n",
      "Epoch 27/30\n",
      "98/98 [==============================] - 4s 42ms/step - loss: 0.3266 - accuracy: 0.8989 - Multilabel_confusion_matrix: 12500.0000 - val_loss: 0.3865 - val_accuracy: 0.8793 - val_Multilabel_confusion_matrix: 2500.0000\n",
      "Epoch 28/30\n",
      "98/98 [==============================] - 4s 46ms/step - loss: 0.3231 - accuracy: 0.9005 - Multilabel_confusion_matrix: 12500.0000 - val_loss: 0.3553 - val_accuracy: 0.8884 - val_Multilabel_confusion_matrix: 2500.0000\n",
      "Epoch 29/30\n",
      "98/98 [==============================] - 4s 44ms/step - loss: 0.3175 - accuracy: 0.9038 - Multilabel_confusion_matrix: 12500.0000 - val_loss: 0.3530 - val_accuracy: 0.8894 - val_Multilabel_confusion_matrix: 2500.0000\n",
      "Epoch 30/30\n",
      "98/98 [==============================] - 4s 41ms/step - loss: 0.3163 - accuracy: 0.9027 - Multilabel_confusion_matrix: 12500.0000 - val_loss: 0.4021 - val_accuracy: 0.8717 - val_Multilabel_confusion_matrix: 2500.0000\n",
      "Epoch 1/30\n",
      "98/98 [==============================] - 5s 45ms/step - loss: 3.0008 - accuracy: 0.5629 - Multilabel_confusion_matrix: 12500.0000 - val_loss: 0.9114 - val_accuracy: 0.7058 - val_Multilabel_confusion_matrix: 2500.0000\n",
      "Epoch 2/30\n",
      "98/98 [==============================] - 4s 43ms/step - loss: 0.7883 - accuracy: 0.7500 - Multilabel_confusion_matrix: 12500.0000 - val_loss: 0.6759 - val_accuracy: 0.7810 - val_Multilabel_confusion_matrix: 2500.0000\n",
      "Epoch 3/30\n",
      "98/98 [==============================] - 4s 41ms/step - loss: 0.6412 - accuracy: 0.7921 - Multilabel_confusion_matrix: 12500.0000 - val_loss: 0.6524 - val_accuracy: 0.7943 - val_Multilabel_confusion_matrix: 2500.0000\n",
      "Epoch 4/30\n",
      "98/98 [==============================] - 4s 41ms/step - loss: 0.5764 - accuracy: 0.8135 - Multilabel_confusion_matrix: 12500.0000 - val_loss: 0.6113 - val_accuracy: 0.7961 - val_Multilabel_confusion_matrix: 2500.0000\n",
      "Epoch 5/30\n",
      "98/98 [==============================] - 4s 41ms/step - loss: 0.5285 - accuracy: 0.8312 - Multilabel_confusion_matrix: 12500.0000 - val_loss: 0.5695 - val_accuracy: 0.8105 - val_Multilabel_confusion_matrix: 2500.0000\n",
      "Epoch 6/30\n",
      "98/98 [==============================] - 4s 43ms/step - loss: 0.5010 - accuracy: 0.8376 - Multilabel_confusion_matrix: 12500.0000 - val_loss: 0.5552 - val_accuracy: 0.8156 - val_Multilabel_confusion_matrix: 2500.0000\n",
      "Epoch 7/30\n",
      "98/98 [==============================] - 4s 40ms/step - loss: 0.4776 - accuracy: 0.8464 - Multilabel_confusion_matrix: 12500.0000 - val_loss: 0.5017 - val_accuracy: 0.8341 - val_Multilabel_confusion_matrix: 2500.0000\n",
      "Epoch 8/30\n",
      "98/98 [==============================] - 4s 40ms/step - loss: 0.4592 - accuracy: 0.8498 - Multilabel_confusion_matrix: 12500.0000 - val_loss: 0.4494 - val_accuracy: 0.8535 - val_Multilabel_confusion_matrix: 2500.0000\n",
      "Epoch 9/30\n",
      "98/98 [==============================] - 4s 40ms/step - loss: 0.4449 - accuracy: 0.8559 - Multilabel_confusion_matrix: 12500.0000 - val_loss: 0.4252 - val_accuracy: 0.8649 - val_Multilabel_confusion_matrix: 2500.0000\n",
      "Epoch 10/30\n",
      "98/98 [==============================] - 4s 42ms/step - loss: 0.4290 - accuracy: 0.8607 - Multilabel_confusion_matrix: 12500.0000 - val_loss: 0.4275 - val_accuracy: 0.8647 - val_Multilabel_confusion_matrix: 2500.0000\n",
      "Epoch 11/30\n",
      "98/98 [==============================] - 4s 42ms/step - loss: 0.4198 - accuracy: 0.8636 - Multilabel_confusion_matrix: 12500.0000 - val_loss: 0.4756 - val_accuracy: 0.8417 - val_Multilabel_confusion_matrix: 2500.0000\n",
      "Epoch 12/30\n",
      "98/98 [==============================] - 4s 42ms/step - loss: 0.4117 - accuracy: 0.8658 - Multilabel_confusion_matrix: 12500.0000 - val_loss: 0.4432 - val_accuracy: 0.8537 - val_Multilabel_confusion_matrix: 2500.0000\n",
      "Epoch 13/30\n",
      "98/98 [==============================] - 4s 44ms/step - loss: 0.4034 - accuracy: 0.8679 - Multilabel_confusion_matrix: 12500.0000 - val_loss: 0.4097 - val_accuracy: 0.8672 - val_Multilabel_confusion_matrix: 2500.0000\n",
      "Epoch 14/30\n",
      "98/98 [==============================] - 5s 47ms/step - loss: 0.3986 - accuracy: 0.8702 - Multilabel_confusion_matrix: 12500.0000 - val_loss: 0.3822 - val_accuracy: 0.8792 - val_Multilabel_confusion_matrix: 2500.0000\n",
      "Epoch 15/30\n",
      "98/98 [==============================] - 4s 42ms/step - loss: 0.3909 - accuracy: 0.8732 - Multilabel_confusion_matrix: 12500.0000 - val_loss: 0.3792 - val_accuracy: 0.8784 - val_Multilabel_confusion_matrix: 2500.0000\n",
      "Epoch 16/30\n",
      "98/98 [==============================] - 4s 41ms/step - loss: 0.3812 - accuracy: 0.8751 - Multilabel_confusion_matrix: 12500.0000 - val_loss: 0.4703 - val_accuracy: 0.8510 - val_Multilabel_confusion_matrix: 2500.0000\n",
      "Epoch 17/30\n",
      "98/98 [==============================] - 4s 42ms/step - loss: 0.3778 - accuracy: 0.8768 - Multilabel_confusion_matrix: 12500.0000 - val_loss: 0.4014 - val_accuracy: 0.8729 - val_Multilabel_confusion_matrix: 2500.0000\n",
      "Epoch 18/30\n",
      "98/98 [==============================] - 4s 44ms/step - loss: 0.3718 - accuracy: 0.8789 - Multilabel_confusion_matrix: 12500.0000 - val_loss: 0.4210 - val_accuracy: 0.8669 - val_Multilabel_confusion_matrix: 2500.0000\n"
     ]
    },
    {
     "name": "stdout",
     "output_type": "stream",
     "text": [
      "Epoch 19/30\n",
      "98/98 [==============================] - 4s 41ms/step - loss: 0.3687 - accuracy: 0.8819 - Multilabel_confusion_matrix: 12500.0000 - val_loss: 0.3959 - val_accuracy: 0.8706 - val_Multilabel_confusion_matrix: 2500.0000\n",
      "Epoch 20/30\n",
      "98/98 [==============================] - 4s 40ms/step - loss: 0.3628 - accuracy: 0.8820 - Multilabel_confusion_matrix: 12500.0000 - val_loss: 0.3854 - val_accuracy: 0.8750 - val_Multilabel_confusion_matrix: 2500.0000\n",
      "Epoch 21/30\n",
      "98/98 [==============================] - 4s 41ms/step - loss: 0.3579 - accuracy: 0.8841 - Multilabel_confusion_matrix: 12500.0000 - val_loss: 0.3982 - val_accuracy: 0.8687 - val_Multilabel_confusion_matrix: 2500.0000\n",
      "Epoch 22/30\n",
      "98/98 [==============================] - 4s 42ms/step - loss: 0.3525 - accuracy: 0.8855 - Multilabel_confusion_matrix: 12500.0000 - val_loss: 0.4656 - val_accuracy: 0.8406 - val_Multilabel_confusion_matrix: 2500.0000\n",
      "Epoch 23/30\n",
      "98/98 [==============================] - 4s 40ms/step - loss: 0.3516 - accuracy: 0.8861 - Multilabel_confusion_matrix: 12500.0000 - val_loss: 0.3701 - val_accuracy: 0.8835 - val_Multilabel_confusion_matrix: 2500.0000\n",
      "Epoch 24/30\n",
      "98/98 [==============================] - 4s 40ms/step - loss: 0.3450 - accuracy: 0.8881 - Multilabel_confusion_matrix: 12500.0000 - val_loss: 0.4203 - val_accuracy: 0.8653 - val_Multilabel_confusion_matrix: 2500.0000\n",
      "Epoch 25/30\n",
      "98/98 [==============================] - 4s 41ms/step - loss: 0.3444 - accuracy: 0.8890 - Multilabel_confusion_matrix: 12500.0000 - val_loss: 0.3967 - val_accuracy: 0.8707 - val_Multilabel_confusion_matrix: 2500.0000\n",
      "Epoch 26/30\n",
      "98/98 [==============================] - 4s 44ms/step - loss: 0.3381 - accuracy: 0.8896 - Multilabel_confusion_matrix: 12500.0000 - val_loss: 0.3853 - val_accuracy: 0.8766 - val_Multilabel_confusion_matrix: 2500.0000\n",
      "Epoch 27/30\n",
      "98/98 [==============================] - 4s 42ms/step - loss: 0.3361 - accuracy: 0.8917 - Multilabel_confusion_matrix: 12500.0000 - val_loss: 0.3705 - val_accuracy: 0.8779 - val_Multilabel_confusion_matrix: 2500.0000\n",
      "Epoch 28/30\n",
      "98/98 [==============================] - 4s 41ms/step - loss: 0.3332 - accuracy: 0.8927 - Multilabel_confusion_matrix: 12500.0000 - val_loss: 0.4074 - val_accuracy: 0.8690 - val_Multilabel_confusion_matrix: 2500.0000\n",
      "Epoch 29/30\n",
      "98/98 [==============================] - 5s 47ms/step - loss: 0.3298 - accuracy: 0.8924 - Multilabel_confusion_matrix: 12500.0000 - val_loss: 0.4165 - val_accuracy: 0.8684 - val_Multilabel_confusion_matrix: 2500.0000\n",
      "Epoch 30/30\n",
      "98/98 [==============================] - 4s 45ms/step - loss: 0.3271 - accuracy: 0.8933 - Multilabel_confusion_matrix: 12500.0000 - val_loss: 0.3606 - val_accuracy: 0.8857 - val_Multilabel_confusion_matrix: 2500.0000\n",
      "Epoch 1/30\n",
      "98/98 [==============================] - 5s 43ms/step - loss: 2.7718 - accuracy: 0.5640 - Multilabel_confusion_matrix: 12500.0000 - val_loss: 0.9042 - val_accuracy: 0.7130 - val_Multilabel_confusion_matrix: 2500.0000\n",
      "Epoch 2/30\n",
      "98/98 [==============================] - 4s 40ms/step - loss: 0.7671 - accuracy: 0.7514 - Multilabel_confusion_matrix: 12500.0000 - val_loss: 0.6720 - val_accuracy: 0.7680 - val_Multilabel_confusion_matrix: 2500.0000\n",
      "Epoch 3/30\n",
      "98/98 [==============================] - 4s 42ms/step - loss: 0.6316 - accuracy: 0.7968 - Multilabel_confusion_matrix: 12500.0000 - val_loss: 0.5920 - val_accuracy: 0.8040 - val_Multilabel_confusion_matrix: 2500.0000\n",
      "Epoch 4/30\n",
      "98/98 [==============================] - 4s 42ms/step - loss: 0.5711 - accuracy: 0.8180 - Multilabel_confusion_matrix: 12500.0000 - val_loss: 0.5058 - val_accuracy: 0.8439 - val_Multilabel_confusion_matrix: 2500.0000\n",
      "Epoch 5/30\n",
      "98/98 [==============================] - 4s 40ms/step - loss: 0.5203 - accuracy: 0.8327 - Multilabel_confusion_matrix: 12500.0000 - val_loss: 0.5298 - val_accuracy: 0.8188 - val_Multilabel_confusion_matrix: 2500.0000\n",
      "Epoch 6/30\n",
      "98/98 [==============================] - 4s 43ms/step - loss: 0.4930 - accuracy: 0.8395 - Multilabel_confusion_matrix: 12500.0000 - val_loss: 0.4992 - val_accuracy: 0.8346 - val_Multilabel_confusion_matrix: 2500.0000\n",
      "Epoch 7/30\n",
      "98/98 [==============================] - 4s 42ms/step - loss: 0.4718 - accuracy: 0.8476 - Multilabel_confusion_matrix: 12500.0000 - val_loss: 0.4470 - val_accuracy: 0.8573 - val_Multilabel_confusion_matrix: 2500.0000\n",
      "Epoch 8/30\n",
      "98/98 [==============================] - 4s 42ms/step - loss: 0.4493 - accuracy: 0.8545 - Multilabel_confusion_matrix: 12500.0000 - val_loss: 0.4353 - val_accuracy: 0.8592 - val_Multilabel_confusion_matrix: 2500.0000\n",
      "Epoch 9/30\n",
      "98/98 [==============================] - 4s 41ms/step - loss: 0.4393 - accuracy: 0.8560 - Multilabel_confusion_matrix: 12500.0000 - val_loss: 0.4207 - val_accuracy: 0.8659 - val_Multilabel_confusion_matrix: 2500.0000\n",
      "Epoch 10/30\n",
      "98/98 [==============================] - 4s 43ms/step - loss: 0.4286 - accuracy: 0.8604 - Multilabel_confusion_matrix: 12500.0000 - val_loss: 0.4598 - val_accuracy: 0.8481 - val_Multilabel_confusion_matrix: 2500.0000\n",
      "Epoch 11/30\n",
      "98/98 [==============================] - 4s 42ms/step - loss: 0.4188 - accuracy: 0.8642 - Multilabel_confusion_matrix: 12500.0000 - val_loss: 0.4427 - val_accuracy: 0.8601 - val_Multilabel_confusion_matrix: 2500.0000\n",
      "Epoch 12/30\n",
      "98/98 [==============================] - 4s 42ms/step - loss: 0.4113 - accuracy: 0.8660 - Multilabel_confusion_matrix: 12500.0000 - val_loss: 0.4415 - val_accuracy: 0.8536 - val_Multilabel_confusion_matrix: 2500.0000\n",
      "Epoch 13/30\n",
      "98/98 [==============================] - 4s 41ms/step - loss: 0.4001 - accuracy: 0.8696 - Multilabel_confusion_matrix: 12500.0000 - val_loss: 0.3960 - val_accuracy: 0.8770 - val_Multilabel_confusion_matrix: 2500.0000\n",
      "Epoch 14/30\n",
      "98/98 [==============================] - 4s 42ms/step - loss: 0.3946 - accuracy: 0.8716 - Multilabel_confusion_matrix: 12500.0000 - val_loss: 0.4714 - val_accuracy: 0.8440 - val_Multilabel_confusion_matrix: 2500.0000\n",
      "Epoch 15/30\n",
      "98/98 [==============================] - 4s 42ms/step - loss: 0.3904 - accuracy: 0.8735 - Multilabel_confusion_matrix: 12500.0000 - val_loss: 0.4159 - val_accuracy: 0.8650 - val_Multilabel_confusion_matrix: 2500.0000\n",
      "Epoch 16/30\n",
      "98/98 [==============================] - 4s 43ms/step - loss: 0.3809 - accuracy: 0.8766 - Multilabel_confusion_matrix: 12500.0000 - val_loss: 0.4477 - val_accuracy: 0.8610 - val_Multilabel_confusion_matrix: 2500.0000\n",
      "Epoch 17/30\n",
      "98/98 [==============================] - 4s 42ms/step - loss: 0.3726 - accuracy: 0.8789 - Multilabel_confusion_matrix: 12500.0000 - val_loss: 0.4719 - val_accuracy: 0.8477 - val_Multilabel_confusion_matrix: 2500.0000\n",
      "Epoch 18/30\n",
      "98/98 [==============================] - 4s 43ms/step - loss: 0.3722 - accuracy: 0.8799 - Multilabel_confusion_matrix: 12500.0000 - val_loss: 0.3883 - val_accuracy: 0.8783 - val_Multilabel_confusion_matrix: 2500.0000\n",
      "Epoch 19/30\n",
      "98/98 [==============================] - 4s 43ms/step - loss: 0.3670 - accuracy: 0.8800 - Multilabel_confusion_matrix: 12500.0000 - val_loss: 0.4349 - val_accuracy: 0.8578 - val_Multilabel_confusion_matrix: 2500.0000\n",
      "Epoch 20/30\n",
      "98/98 [==============================] - 4s 43ms/step - loss: 0.3604 - accuracy: 0.8844 - Multilabel_confusion_matrix: 12500.0000 - val_loss: 0.4249 - val_accuracy: 0.8638 - val_Multilabel_confusion_matrix: 2500.0000\n",
      "Epoch 21/30\n",
      "98/98 [==============================] - 4s 45ms/step - loss: 0.3557 - accuracy: 0.8843 - Multilabel_confusion_matrix: 12500.0000 - val_loss: 0.3820 - val_accuracy: 0.8775 - val_Multilabel_confusion_matrix: 2500.0000\n",
      "Epoch 22/30\n",
      "98/98 [==============================] - 5s 54ms/step - loss: 0.3511 - accuracy: 0.8848 - Multilabel_confusion_matrix: 12500.0000 - val_loss: 0.4041 - val_accuracy: 0.8652 - val_Multilabel_confusion_matrix: 2500.0000\n",
      "Epoch 23/30\n",
      "98/98 [==============================] - 5s 50ms/step - loss: 0.3520 - accuracy: 0.8838 - Multilabel_confusion_matrix: 12500.0000 - val_loss: 0.3952 - val_accuracy: 0.8675 - val_Multilabel_confusion_matrix: 2500.0000\n",
      "Epoch 24/30\n",
      "98/98 [==============================] - 5s 47ms/step - loss: 0.3441 - accuracy: 0.8866 - Multilabel_confusion_matrix: 12500.0000 - val_loss: 0.3918 - val_accuracy: 0.8693 - val_Multilabel_confusion_matrix: 2500.0000\n"
     ]
    },
    {
     "name": "stdout",
     "output_type": "stream",
     "text": [
      "Epoch 25/30\n",
      "98/98 [==============================] - 4s 45ms/step - loss: 0.3398 - accuracy: 0.8899 - Multilabel_confusion_matrix: 12500.0000 - val_loss: 0.3867 - val_accuracy: 0.8766 - val_Multilabel_confusion_matrix: 2500.0000\n",
      "Epoch 26/30\n",
      "98/98 [==============================] - 4s 43ms/step - loss: 0.3398 - accuracy: 0.8876 - Multilabel_confusion_matrix: 12500.0000 - val_loss: 0.4191 - val_accuracy: 0.8594 - val_Multilabel_confusion_matrix: 2500.0000\n",
      "Epoch 27/30\n",
      "98/98 [==============================] - 4s 40ms/step - loss: 0.3359 - accuracy: 0.8900 - Multilabel_confusion_matrix: 12500.0000 - val_loss: 0.3879 - val_accuracy: 0.8722 - val_Multilabel_confusion_matrix: 2500.0000\n",
      "Epoch 28/30\n",
      "98/98 [==============================] - 4s 40ms/step - loss: 0.3333 - accuracy: 0.8912 - Multilabel_confusion_matrix: 12500.0000 - val_loss: 0.3793 - val_accuracy: 0.8734 - val_Multilabel_confusion_matrix: 2500.0000\n",
      "Epoch 29/30\n",
      "98/98 [==============================] - 4s 41ms/step - loss: 0.3316 - accuracy: 0.8913 - Multilabel_confusion_matrix: 12500.0000 - val_loss: 0.4228 - val_accuracy: 0.8652 - val_Multilabel_confusion_matrix: 2500.0000\n",
      "Epoch 30/30\n",
      "98/98 [==============================] - 4s 41ms/step - loss: 0.3276 - accuracy: 0.8928 - Multilabel_confusion_matrix: 12500.0000 - val_loss: 0.4253 - val_accuracy: 0.8684 - val_Multilabel_confusion_matrix: 2500.0000\n",
      "Epoch 1/30\n",
      "98/98 [==============================] - 6s 48ms/step - loss: 2.7104 - accuracy: 0.5555 - Multilabel_confusion_matrix: 12500.0000 - val_loss: 0.9498 - val_accuracy: 0.6712 - val_Multilabel_confusion_matrix: 2500.0000\n",
      "Epoch 2/30\n",
      "98/98 [==============================] - 4s 42ms/step - loss: 0.7668 - accuracy: 0.7511 - Multilabel_confusion_matrix: 12500.0000 - val_loss: 0.6268 - val_accuracy: 0.7918 - val_Multilabel_confusion_matrix: 2500.0000\n",
      "Epoch 3/30\n",
      "98/98 [==============================] - 4s 42ms/step - loss: 0.6354 - accuracy: 0.7940 - Multilabel_confusion_matrix: 12500.0000 - val_loss: 0.6099 - val_accuracy: 0.7933 - val_Multilabel_confusion_matrix: 2500.0000\n",
      "Epoch 4/30\n",
      "98/98 [==============================] - 4s 41ms/step - loss: 0.5661 - accuracy: 0.8162 - Multilabel_confusion_matrix: 12500.0000 - val_loss: 0.5942 - val_accuracy: 0.8147 - val_Multilabel_confusion_matrix: 2500.0000\n",
      "Epoch 5/30\n",
      "98/98 [==============================] - 4s 40ms/step - loss: 0.5243 - accuracy: 0.8307 - Multilabel_confusion_matrix: 12500.0000 - val_loss: 0.4959 - val_accuracy: 0.8352 - val_Multilabel_confusion_matrix: 2500.0000\n",
      "Epoch 6/30\n",
      "98/98 [==============================] - 4s 41ms/step - loss: 0.4997 - accuracy: 0.8371 - Multilabel_confusion_matrix: 12500.0000 - val_loss: 0.4905 - val_accuracy: 0.8430 - val_Multilabel_confusion_matrix: 2500.0000\n",
      "Epoch 7/30\n",
      "98/98 [==============================] - 4s 44ms/step - loss: 0.4747 - accuracy: 0.8457 - Multilabel_confusion_matrix: 12500.0000 - val_loss: 0.5594 - val_accuracy: 0.8165 - val_Multilabel_confusion_matrix: 2500.0000\n",
      "Epoch 8/30\n",
      "98/98 [==============================] - 4s 43ms/step - loss: 0.4578 - accuracy: 0.8508 - Multilabel_confusion_matrix: 12500.0000 - val_loss: 0.4632 - val_accuracy: 0.8491 - val_Multilabel_confusion_matrix: 2500.0000\n",
      "Epoch 9/30\n",
      "98/98 [==============================] - 4s 42ms/step - loss: 0.4421 - accuracy: 0.8546 - Multilabel_confusion_matrix: 12500.0000 - val_loss: 0.4433 - val_accuracy: 0.8509 - val_Multilabel_confusion_matrix: 2500.0000\n",
      "Epoch 10/30\n",
      "98/98 [==============================] - 4s 42ms/step - loss: 0.4316 - accuracy: 0.8597 - Multilabel_confusion_matrix: 12500.0000 - val_loss: 0.4178 - val_accuracy: 0.8630 - val_Multilabel_confusion_matrix: 2500.0000\n",
      "Epoch 11/30\n",
      "98/98 [==============================] - 4s 43ms/step - loss: 0.4220 - accuracy: 0.8615 - Multilabel_confusion_matrix: 12500.0000 - val_loss: 0.4332 - val_accuracy: 0.8591 - val_Multilabel_confusion_matrix: 2500.0000\n",
      "Epoch 12/30\n",
      "98/98 [==============================] - 4s 41ms/step - loss: 0.4177 - accuracy: 0.8633 - Multilabel_confusion_matrix: 12500.0000 - val_loss: 0.4299 - val_accuracy: 0.8560 - val_Multilabel_confusion_matrix: 2500.0000\n",
      "Epoch 13/30\n",
      "98/98 [==============================] - 4s 41ms/step - loss: 0.4082 - accuracy: 0.8643 - Multilabel_confusion_matrix: 12500.0000 - val_loss: 0.4233 - val_accuracy: 0.8603 - val_Multilabel_confusion_matrix: 2500.0000\n",
      "Epoch 14/30\n",
      "98/98 [==============================] - 4s 41ms/step - loss: 0.3998 - accuracy: 0.8704 - Multilabel_confusion_matrix: 12500.0000 - val_loss: 0.4106 - val_accuracy: 0.8674 - val_Multilabel_confusion_matrix: 2500.0000\n",
      "Epoch 15/30\n",
      "98/98 [==============================] - 4s 43ms/step - loss: 0.3928 - accuracy: 0.8717 - Multilabel_confusion_matrix: 12500.0000 - val_loss: 0.4713 - val_accuracy: 0.8403 - val_Multilabel_confusion_matrix: 2500.0000\n",
      "Epoch 16/30\n",
      "98/98 [==============================] - 4s 44ms/step - loss: 0.3893 - accuracy: 0.8719 - Multilabel_confusion_matrix: 12500.0000 - val_loss: 0.4034 - val_accuracy: 0.8688 - val_Multilabel_confusion_matrix: 2500.0000\n",
      "Epoch 17/30\n",
      "98/98 [==============================] - 4s 43ms/step - loss: 0.3837 - accuracy: 0.8742 - Multilabel_confusion_matrix: 12500.0000 - val_loss: 0.3854 - val_accuracy: 0.8766 - val_Multilabel_confusion_matrix: 2500.0000\n",
      "Epoch 18/30\n",
      "98/98 [==============================] - 4s 41ms/step - loss: 0.3791 - accuracy: 0.8750 - Multilabel_confusion_matrix: 12500.0000 - val_loss: 0.3873 - val_accuracy: 0.8755 - val_Multilabel_confusion_matrix: 2500.0000\n",
      "Epoch 19/30\n",
      "98/98 [==============================] - 4s 42ms/step - loss: 0.3757 - accuracy: 0.8760 - Multilabel_confusion_matrix: 12500.0000 - val_loss: 0.3842 - val_accuracy: 0.8748 - val_Multilabel_confusion_matrix: 2500.0000\n",
      "Epoch 20/30\n",
      "98/98 [==============================] - 4s 40ms/step - loss: 0.3690 - accuracy: 0.8786 - Multilabel_confusion_matrix: 12500.0000 - val_loss: 0.4082 - val_accuracy: 0.8637 - val_Multilabel_confusion_matrix: 2500.0000\n",
      "Epoch 21/30\n",
      "98/98 [==============================] - 4s 40ms/step - loss: 0.3658 - accuracy: 0.8804 - Multilabel_confusion_matrix: 12500.0000 - val_loss: 0.3982 - val_accuracy: 0.8722 - val_Multilabel_confusion_matrix: 2500.0000\n",
      "Epoch 22/30\n",
      "98/98 [==============================] - 4s 44ms/step - loss: 0.3653 - accuracy: 0.8792 - Multilabel_confusion_matrix: 12500.0000 - val_loss: 0.3900 - val_accuracy: 0.8727 - val_Multilabel_confusion_matrix: 2500.0000\n",
      "Epoch 23/30\n",
      "98/98 [==============================] - 4s 44ms/step - loss: 0.3567 - accuracy: 0.8830 - Multilabel_confusion_matrix: 12500.0000 - val_loss: 0.4312 - val_accuracy: 0.8550 - val_Multilabel_confusion_matrix: 2500.0000\n",
      "Epoch 24/30\n",
      "98/98 [==============================] - 4s 41ms/step - loss: 0.3547 - accuracy: 0.8833 - Multilabel_confusion_matrix: 12500.0000 - val_loss: 0.3910 - val_accuracy: 0.8738 - val_Multilabel_confusion_matrix: 2500.0000\n",
      "Epoch 25/30\n",
      "98/98 [==============================] - 4s 42ms/step - loss: 0.3537 - accuracy: 0.8844 - Multilabel_confusion_matrix: 12500.0000 - val_loss: 0.3918 - val_accuracy: 0.8769 - val_Multilabel_confusion_matrix: 2500.0000\n",
      "Epoch 26/30\n",
      "98/98 [==============================] - 4s 43ms/step - loss: 0.3518 - accuracy: 0.8848 - Multilabel_confusion_matrix: 12500.0000 - val_loss: 0.4322 - val_accuracy: 0.8604 - val_Multilabel_confusion_matrix: 2500.0000\n",
      "Epoch 27/30\n",
      "98/98 [==============================] - 4s 42ms/step - loss: 0.3489 - accuracy: 0.8850 - Multilabel_confusion_matrix: 12500.0000 - val_loss: 0.3790 - val_accuracy: 0.8795 - val_Multilabel_confusion_matrix: 2500.0000\n",
      "Epoch 28/30\n",
      "98/98 [==============================] - 4s 40ms/step - loss: 0.3442 - accuracy: 0.8867 - Multilabel_confusion_matrix: 12500.0000 - val_loss: 0.4036 - val_accuracy: 0.8654 - val_Multilabel_confusion_matrix: 2500.0000\n",
      "Epoch 29/30\n",
      "98/98 [==============================] - 4s 42ms/step - loss: 0.3396 - accuracy: 0.8888 - Multilabel_confusion_matrix: 12500.0000 - val_loss: 0.4010 - val_accuracy: 0.8691 - val_Multilabel_confusion_matrix: 2500.0000\n",
      "Epoch 30/30\n",
      "98/98 [==============================] - 4s 43ms/step - loss: 0.3406 - accuracy: 0.8884 - Multilabel_confusion_matrix: 12500.0000 - val_loss: 0.3711 - val_accuracy: 0.8793 - val_Multilabel_confusion_matrix: 2500.0000\n"
     ]
    },
    {
     "name": "stdout",
     "output_type": "stream",
     "text": [
      "Epoch 1/30\n",
      "98/98 [==============================] - 5s 45ms/step - loss: 4.2616 - accuracy: 0.4653 - Multilabel_confusion_matrix: 12500.0000 - val_loss: 1.0241 - val_accuracy: 0.5952 - val_Multilabel_confusion_matrix: 2500.0000\n",
      "Epoch 2/30\n",
      "98/98 [==============================] - 4s 44ms/step - loss: 0.8494 - accuracy: 0.6958 - Multilabel_confusion_matrix: 12500.0000 - val_loss: 0.6968 - val_accuracy: 0.7560 - val_Multilabel_confusion_matrix: 2500.0000\n",
      "Epoch 3/30\n",
      "98/98 [==============================] - 4s 44ms/step - loss: 0.6863 - accuracy: 0.7679 - Multilabel_confusion_matrix: 12500.0000 - val_loss: 0.5719 - val_accuracy: 0.8108 - val_Multilabel_confusion_matrix: 2500.0000\n",
      "Epoch 4/30\n",
      "98/98 [==============================] - 4s 42ms/step - loss: 0.6085 - accuracy: 0.7998 - Multilabel_confusion_matrix: 12500.0000 - val_loss: 0.5803 - val_accuracy: 0.7964 - val_Multilabel_confusion_matrix: 2500.0000\n",
      "Epoch 5/30\n",
      "98/98 [==============================] - 4s 40ms/step - loss: 0.5702 - accuracy: 0.8114 - Multilabel_confusion_matrix: 12500.0000 - val_loss: 0.6108 - val_accuracy: 0.7911 - val_Multilabel_confusion_matrix: 2500.0000\n",
      "Epoch 6/30\n",
      "98/98 [==============================] - 4s 40ms/step - loss: 0.5384 - accuracy: 0.8220 - Multilabel_confusion_matrix: 12500.0000 - val_loss: 0.6928 - val_accuracy: 0.7764 - val_Multilabel_confusion_matrix: 2500.0000\n",
      "Epoch 7/30\n",
      "98/98 [==============================] - 4s 43ms/step - loss: 0.5174 - accuracy: 0.8283 - Multilabel_confusion_matrix: 12500.0000 - val_loss: 0.4938 - val_accuracy: 0.8413 - val_Multilabel_confusion_matrix: 2500.0000\n",
      "Epoch 8/30\n",
      "98/98 [==============================] - 4s 41ms/step - loss: 0.5006 - accuracy: 0.8347 - Multilabel_confusion_matrix: 12500.0000 - val_loss: 0.5119 - val_accuracy: 0.8305 - val_Multilabel_confusion_matrix: 2500.0000\n",
      "Epoch 9/30\n",
      "98/98 [==============================] - 4s 41ms/step - loss: 0.4872 - accuracy: 0.8379 - Multilabel_confusion_matrix: 12500.0000 - val_loss: 0.4970 - val_accuracy: 0.8358 - val_Multilabel_confusion_matrix: 2500.0000\n",
      "Epoch 10/30\n",
      "98/98 [==============================] - 4s 42ms/step - loss: 0.4784 - accuracy: 0.8417 - Multilabel_confusion_matrix: 12500.0000 - val_loss: 0.4732 - val_accuracy: 0.8427 - val_Multilabel_confusion_matrix: 2500.0000\n",
      "Epoch 11/30\n",
      "98/98 [==============================] - 4s 42ms/step - loss: 0.4674 - accuracy: 0.8438 - Multilabel_confusion_matrix: 12500.0000 - val_loss: 0.4410 - val_accuracy: 0.8523 - val_Multilabel_confusion_matrix: 2500.0000\n",
      "Epoch 12/30\n",
      "98/98 [==============================] - 4s 43ms/step - loss: 0.4627 - accuracy: 0.8470 - Multilabel_confusion_matrix: 12500.0000 - val_loss: 0.4545 - val_accuracy: 0.8500 - val_Multilabel_confusion_matrix: 2500.0000\n",
      "Epoch 13/30\n",
      "98/98 [==============================] - 4s 40ms/step - loss: 0.4437 - accuracy: 0.8525 - Multilabel_confusion_matrix: 12500.0000 - val_loss: 0.4927 - val_accuracy: 0.8382 - val_Multilabel_confusion_matrix: 2500.0000\n",
      "Epoch 14/30\n",
      "98/98 [==============================] - 4s 42ms/step - loss: 0.4449 - accuracy: 0.8513 - Multilabel_confusion_matrix: 12500.0000 - val_loss: 0.4660 - val_accuracy: 0.8482 - val_Multilabel_confusion_matrix: 2500.0000\n",
      "Epoch 15/30\n",
      "98/98 [==============================] - 4s 44ms/step - loss: 0.4385 - accuracy: 0.8545 - Multilabel_confusion_matrix: 12500.0000 - val_loss: 0.5146 - val_accuracy: 0.8355 - val_Multilabel_confusion_matrix: 2500.0000\n",
      "Epoch 16/30\n",
      "98/98 [==============================] - 4s 43ms/step - loss: 0.4342 - accuracy: 0.8553 - Multilabel_confusion_matrix: 12500.0000 - val_loss: 0.4514 - val_accuracy: 0.8459 - val_Multilabel_confusion_matrix: 2500.0000\n",
      "Epoch 17/30\n",
      "98/98 [==============================] - 5s 49ms/step - loss: 0.4261 - accuracy: 0.8566 - Multilabel_confusion_matrix: 12500.0000 - val_loss: 0.4325 - val_accuracy: 0.8549 - val_Multilabel_confusion_matrix: 2500.0000\n",
      "Epoch 18/30\n",
      "98/98 [==============================] - 5s 48ms/step - loss: 0.4254 - accuracy: 0.8570 - Multilabel_confusion_matrix: 12500.0000 - val_loss: 0.5197 - val_accuracy: 0.8304 - val_Multilabel_confusion_matrix: 2500.0000\n",
      "Epoch 19/30\n",
      "98/98 [==============================] - 6s 57ms/step - loss: 0.4161 - accuracy: 0.8597 - Multilabel_confusion_matrix: 12500.0000 - val_loss: 0.5772 - val_accuracy: 0.8013 - val_Multilabel_confusion_matrix: 2500.0000\n",
      "Epoch 20/30\n",
      "98/98 [==============================] - 4s 42ms/step - loss: 0.4170 - accuracy: 0.8591 - Multilabel_confusion_matrix: 12500.0000 - val_loss: 0.4214 - val_accuracy: 0.8609 - val_Multilabel_confusion_matrix: 2500.0000\n",
      "Epoch 21/30\n",
      "98/98 [==============================] - 4s 42ms/step - loss: 0.4101 - accuracy: 0.8623 - Multilabel_confusion_matrix: 12500.0000 - val_loss: 0.4149 - val_accuracy: 0.8634 - val_Multilabel_confusion_matrix: 2500.0000\n",
      "Epoch 22/30\n",
      "98/98 [==============================] - 4s 42ms/step - loss: 0.4078 - accuracy: 0.8633 - Multilabel_confusion_matrix: 12500.0000 - val_loss: 0.4555 - val_accuracy: 0.8509 - val_Multilabel_confusion_matrix: 2500.0000\n",
      "Epoch 23/30\n",
      "98/98 [==============================] - 4s 42ms/step - loss: 0.4045 - accuracy: 0.8625 - Multilabel_confusion_matrix: 12500.0000 - val_loss: 0.4162 - val_accuracy: 0.8630 - val_Multilabel_confusion_matrix: 2500.0000\n",
      "Epoch 24/30\n",
      "98/98 [==============================] - 4s 41ms/step - loss: 0.4060 - accuracy: 0.8638 - Multilabel_confusion_matrix: 12500.0000 - val_loss: 0.4504 - val_accuracy: 0.8491 - val_Multilabel_confusion_matrix: 2500.0000\n",
      "Epoch 25/30\n",
      "98/98 [==============================] - 4s 41ms/step - loss: 0.3958 - accuracy: 0.8667 - Multilabel_confusion_matrix: 12500.0000 - val_loss: 0.4852 - val_accuracy: 0.8459 - val_Multilabel_confusion_matrix: 2500.0000\n",
      "Epoch 26/30\n",
      "98/98 [==============================] - 4s 42ms/step - loss: 0.3971 - accuracy: 0.8658 - Multilabel_confusion_matrix: 12500.0000 - val_loss: 0.4435 - val_accuracy: 0.8520 - val_Multilabel_confusion_matrix: 2500.0000\n",
      "Epoch 27/30\n",
      "98/98 [==============================] - 4s 42ms/step - loss: 0.3961 - accuracy: 0.8660 - Multilabel_confusion_matrix: 12500.0000 - val_loss: 0.4216 - val_accuracy: 0.8648 - val_Multilabel_confusion_matrix: 2500.0000\n",
      "Epoch 28/30\n",
      "98/98 [==============================] - 4s 42ms/step - loss: 0.3917 - accuracy: 0.8682 - Multilabel_confusion_matrix: 12500.0000 - val_loss: 0.4172 - val_accuracy: 0.8606 - val_Multilabel_confusion_matrix: 2500.0000\n",
      "Epoch 29/30\n",
      "98/98 [==============================] - 4s 42ms/step - loss: 0.3918 - accuracy: 0.8683 - Multilabel_confusion_matrix: 12500.0000 - val_loss: 0.4576 - val_accuracy: 0.8515 - val_Multilabel_confusion_matrix: 2500.0000\n",
      "Epoch 30/30\n",
      "98/98 [==============================] - 4s 45ms/step - loss: 0.3868 - accuracy: 0.8687 - Multilabel_confusion_matrix: 12500.0000 - val_loss: 0.4274 - val_accuracy: 0.8514 - val_Multilabel_confusion_matrix: 2500.0000\n",
      "Epoch 1/30\n",
      "98/98 [==============================] - 5s 44ms/step - loss: 4.6104 - accuracy: 0.4862 - Multilabel_confusion_matrix: 12500.0000 - val_loss: 1.1161 - val_accuracy: 0.6386 - val_Multilabel_confusion_matrix: 2500.0000\n",
      "Epoch 2/30\n",
      "98/98 [==============================] - 4s 41ms/step - loss: 0.8520 - accuracy: 0.6969 - Multilabel_confusion_matrix: 12500.0000 - val_loss: 0.6734 - val_accuracy: 0.7623 - val_Multilabel_confusion_matrix: 2500.0000\n",
      "Epoch 3/30\n",
      "98/98 [==============================] - 4s 44ms/step - loss: 0.6970 - accuracy: 0.7552 - Multilabel_confusion_matrix: 12500.0000 - val_loss: 0.7526 - val_accuracy: 0.7273 - val_Multilabel_confusion_matrix: 2500.0000\n",
      "Epoch 4/30\n",
      "98/98 [==============================] - 4s 44ms/step - loss: 0.6212 - accuracy: 0.7928 - Multilabel_confusion_matrix: 12500.0000 - val_loss: 0.5909 - val_accuracy: 0.8028 - val_Multilabel_confusion_matrix: 2500.0000\n",
      "Epoch 5/30\n",
      "98/98 [==============================] - 4s 44ms/step - loss: 0.5695 - accuracy: 0.8129 - Multilabel_confusion_matrix: 12500.0000 - val_loss: 0.5583 - val_accuracy: 0.8124 - val_Multilabel_confusion_matrix: 2500.0000\n",
      "Epoch 6/30\n",
      "98/98 [==============================] - 4s 42ms/step - loss: 0.5402 - accuracy: 0.8223 - Multilabel_confusion_matrix: 12500.0000 - val_loss: 0.6377 - val_accuracy: 0.7939 - val_Multilabel_confusion_matrix: 2500.0000\n"
     ]
    },
    {
     "name": "stdout",
     "output_type": "stream",
     "text": [
      "Epoch 7/30\n",
      "98/98 [==============================] - 4s 45ms/step - loss: 0.5210 - accuracy: 0.8283 - Multilabel_confusion_matrix: 12500.0000 - val_loss: 0.5188 - val_accuracy: 0.8308 - val_Multilabel_confusion_matrix: 2500.0000\n",
      "Epoch 8/30\n",
      "98/98 [==============================] - 4s 43ms/step - loss: 0.5013 - accuracy: 0.8354 - Multilabel_confusion_matrix: 12500.0000 - val_loss: 0.5577 - val_accuracy: 0.8172 - val_Multilabel_confusion_matrix: 2500.0000\n",
      "Epoch 9/30\n",
      "98/98 [==============================] - 4s 40ms/step - loss: 0.4937 - accuracy: 0.8372 - Multilabel_confusion_matrix: 12500.0000 - val_loss: 0.6181 - val_accuracy: 0.7815 - val_Multilabel_confusion_matrix: 2500.0000\n",
      "Epoch 10/30\n",
      "98/98 [==============================] - 4s 40ms/step - loss: 0.4856 - accuracy: 0.8384 - Multilabel_confusion_matrix: 12500.0000 - val_loss: 0.4662 - val_accuracy: 0.8436 - val_Multilabel_confusion_matrix: 2500.0000\n",
      "Epoch 11/30\n",
      "98/98 [==============================] - 4s 42ms/step - loss: 0.4722 - accuracy: 0.8430 - Multilabel_confusion_matrix: 12500.0000 - val_loss: 0.4885 - val_accuracy: 0.8432 - val_Multilabel_confusion_matrix: 2500.0000\n",
      "Epoch 12/30\n",
      "98/98 [==============================] - 4s 42ms/step - loss: 0.4643 - accuracy: 0.8454 - Multilabel_confusion_matrix: 12500.0000 - val_loss: 0.5443 - val_accuracy: 0.8197 - val_Multilabel_confusion_matrix: 2500.0000\n",
      "Epoch 13/30\n",
      "98/98 [==============================] - 4s 41ms/step - loss: 0.4615 - accuracy: 0.8472 - Multilabel_confusion_matrix: 12500.0000 - val_loss: 0.4448 - val_accuracy: 0.8560 - val_Multilabel_confusion_matrix: 2500.0000\n",
      "Epoch 14/30\n",
      "98/98 [==============================] - 4s 41ms/step - loss: 0.4524 - accuracy: 0.8479 - Multilabel_confusion_matrix: 12500.0000 - val_loss: 0.5423 - val_accuracy: 0.8188 - val_Multilabel_confusion_matrix: 2500.0000\n",
      "Epoch 15/30\n",
      "98/98 [==============================] - 4s 43ms/step - loss: 0.4473 - accuracy: 0.8508 - Multilabel_confusion_matrix: 12500.0000 - val_loss: 0.6048 - val_accuracy: 0.8035 - val_Multilabel_confusion_matrix: 2500.0000\n",
      "Epoch 16/30\n",
      "98/98 [==============================] - 4s 42ms/step - loss: 0.4435 - accuracy: 0.8520 - Multilabel_confusion_matrix: 12500.0000 - val_loss: 0.4782 - val_accuracy: 0.8398 - val_Multilabel_confusion_matrix: 2500.0000\n",
      "Epoch 17/30\n",
      "98/98 [==============================] - 4s 42ms/step - loss: 0.4384 - accuracy: 0.8523 - Multilabel_confusion_matrix: 12500.0000 - val_loss: 0.4891 - val_accuracy: 0.8330 - val_Multilabel_confusion_matrix: 2500.0000\n",
      "Epoch 18/30\n",
      "98/98 [==============================] - 4s 41ms/step - loss: 0.4329 - accuracy: 0.8563 - Multilabel_confusion_matrix: 12500.0000 - val_loss: 0.4572 - val_accuracy: 0.8482 - val_Multilabel_confusion_matrix: 2500.0000\n",
      "Epoch 19/30\n",
      "98/98 [==============================] - 4s 45ms/step - loss: 0.4311 - accuracy: 0.8567 - Multilabel_confusion_matrix: 12500.0000 - val_loss: 0.5004 - val_accuracy: 0.8351 - val_Multilabel_confusion_matrix: 2500.0000\n",
      "Epoch 20/30\n",
      "98/98 [==============================] - 4s 42ms/step - loss: 0.4239 - accuracy: 0.8596 - Multilabel_confusion_matrix: 12500.0000 - val_loss: 0.4531 - val_accuracy: 0.8508 - val_Multilabel_confusion_matrix: 2500.0000\n",
      "Epoch 21/30\n",
      "98/98 [==============================] - 4s 41ms/step - loss: 0.4210 - accuracy: 0.8599 - Multilabel_confusion_matrix: 12500.0000 - val_loss: 0.4606 - val_accuracy: 0.8470 - val_Multilabel_confusion_matrix: 2500.0000\n",
      "Epoch 22/30\n",
      "98/98 [==============================] - 4s 42ms/step - loss: 0.4192 - accuracy: 0.8591 - Multilabel_confusion_matrix: 12500.0000 - val_loss: 0.4312 - val_accuracy: 0.8579 - val_Multilabel_confusion_matrix: 2500.0000\n",
      "Epoch 23/30\n",
      "98/98 [==============================] - 4s 43ms/step - loss: 0.4174 - accuracy: 0.8614 - Multilabel_confusion_matrix: 12500.0000 - val_loss: 0.4868 - val_accuracy: 0.8361 - val_Multilabel_confusion_matrix: 2500.0000\n",
      "Epoch 24/30\n",
      "98/98 [==============================] - 4s 42ms/step - loss: 0.4094 - accuracy: 0.8633 - Multilabel_confusion_matrix: 12500.0000 - val_loss: 0.4590 - val_accuracy: 0.8479 - val_Multilabel_confusion_matrix: 2500.0000\n",
      "Epoch 25/30\n",
      "98/98 [==============================] - 4s 42ms/step - loss: 0.4121 - accuracy: 0.8613 - Multilabel_confusion_matrix: 12500.0000 - val_loss: 0.4941 - val_accuracy: 0.8241 - val_Multilabel_confusion_matrix: 2500.0000\n",
      "Epoch 26/30\n",
      "98/98 [==============================] - 4s 42ms/step - loss: 0.4049 - accuracy: 0.8649 - Multilabel_confusion_matrix: 12500.0000 - val_loss: 0.4571 - val_accuracy: 0.8495 - val_Multilabel_confusion_matrix: 2500.0000\n",
      "Epoch 27/30\n",
      "98/98 [==============================] - 4s 45ms/step - loss: 0.3991 - accuracy: 0.8660 - Multilabel_confusion_matrix: 12500.0000 - val_loss: 0.4652 - val_accuracy: 0.8426 - val_Multilabel_confusion_matrix: 2500.0000\n",
      "Epoch 28/30\n",
      "98/98 [==============================] - 4s 44ms/step - loss: 0.4013 - accuracy: 0.8661 - Multilabel_confusion_matrix: 12500.0000 - val_loss: 0.4945 - val_accuracy: 0.8320 - val_Multilabel_confusion_matrix: 2500.0000\n",
      "Epoch 29/30\n",
      "98/98 [==============================] - 5s 46ms/step - loss: 0.3969 - accuracy: 0.8670 - Multilabel_confusion_matrix: 12500.0000 - val_loss: 0.4955 - val_accuracy: 0.8324 - val_Multilabel_confusion_matrix: 2500.0000\n",
      "Epoch 30/30\n",
      "98/98 [==============================] - 4s 46ms/step - loss: 0.3943 - accuracy: 0.8672 - Multilabel_confusion_matrix: 12500.0000 - val_loss: 0.4922 - val_accuracy: 0.8363 - val_Multilabel_confusion_matrix: 2500.0000\n",
      "Epoch 1/30\n",
      "98/98 [==============================] - 6s 46ms/step - loss: 5.0748 - accuracy: 0.5175 - Multilabel_confusion_matrix: 12500.0000 - val_loss: 0.8670 - val_accuracy: 0.7204 - val_Multilabel_confusion_matrix: 2500.0000\n",
      "Epoch 2/30\n",
      "98/98 [==============================] - 4s 43ms/step - loss: 0.7904 - accuracy: 0.7436 - Multilabel_confusion_matrix: 12500.0000 - val_loss: 0.6686 - val_accuracy: 0.7755 - val_Multilabel_confusion_matrix: 2500.0000\n",
      "Epoch 3/30\n",
      "98/98 [==============================] - 4s 46ms/step - loss: 0.6523 - accuracy: 0.7850 - Multilabel_confusion_matrix: 12500.0000 - val_loss: 0.5560 - val_accuracy: 0.8163 - val_Multilabel_confusion_matrix: 2500.0000\n",
      "Epoch 4/30\n",
      "98/98 [==============================] - 5s 53ms/step - loss: 0.5860 - accuracy: 0.8026 - Multilabel_confusion_matrix: 12500.0000 - val_loss: 0.6423 - val_accuracy: 0.7778 - val_Multilabel_confusion_matrix: 2500.0000\n",
      "Epoch 5/30\n",
      "98/98 [==============================] - 4s 42ms/step - loss: 0.5493 - accuracy: 0.8207 - Multilabel_confusion_matrix: 12500.0000 - val_loss: 0.4994 - val_accuracy: 0.8376 - val_Multilabel_confusion_matrix: 2500.0000\n",
      "Epoch 6/30\n",
      "98/98 [==============================] - 4s 44ms/step - loss: 0.5262 - accuracy: 0.8259 - Multilabel_confusion_matrix: 12500.0000 - val_loss: 0.4762 - val_accuracy: 0.8452 - val_Multilabel_confusion_matrix: 2500.0000\n",
      "Epoch 7/30\n",
      "98/98 [==============================] - 4s 45ms/step - loss: 0.5030 - accuracy: 0.8345 - Multilabel_confusion_matrix: 12500.0000 - val_loss: 0.4725 - val_accuracy: 0.8482 - val_Multilabel_confusion_matrix: 2500.0000\n",
      "Epoch 8/30\n",
      "98/98 [==============================] - 4s 42ms/step - loss: 0.4866 - accuracy: 0.8394 - Multilabel_confusion_matrix: 12500.0000 - val_loss: 0.4436 - val_accuracy: 0.8555 - val_Multilabel_confusion_matrix: 2500.0000\n",
      "Epoch 9/30\n",
      "98/98 [==============================] - 4s 43ms/step - loss: 0.4690 - accuracy: 0.8451 - Multilabel_confusion_matrix: 12500.0000 - val_loss: 0.5319 - val_accuracy: 0.8068 - val_Multilabel_confusion_matrix: 2500.0000\n",
      "Epoch 10/30\n",
      "98/98 [==============================] - 4s 43ms/step - loss: 0.4660 - accuracy: 0.8450 - Multilabel_confusion_matrix: 12500.0000 - val_loss: 0.4488 - val_accuracy: 0.8529 - val_Multilabel_confusion_matrix: 2500.0000\n",
      "Epoch 11/30\n",
      "98/98 [==============================] - 4s 42ms/step - loss: 0.4499 - accuracy: 0.8507 - Multilabel_confusion_matrix: 12500.0000 - val_loss: 0.4328 - val_accuracy: 0.8566 - val_Multilabel_confusion_matrix: 2500.0000\n",
      "Epoch 12/30\n",
      "98/98 [==============================] - 4s 43ms/step - loss: 0.4452 - accuracy: 0.8548 - Multilabel_confusion_matrix: 12500.0000 - val_loss: 0.4484 - val_accuracy: 0.8520 - val_Multilabel_confusion_matrix: 2500.0000\n"
     ]
    },
    {
     "name": "stdout",
     "output_type": "stream",
     "text": [
      "Epoch 13/30\n",
      "98/98 [==============================] - 4s 42ms/step - loss: 0.4346 - accuracy: 0.8557 - Multilabel_confusion_matrix: 12500.0000 - val_loss: 0.4458 - val_accuracy: 0.8558 - val_Multilabel_confusion_matrix: 2500.0000\n",
      "Epoch 14/30\n",
      "98/98 [==============================] - 4s 42ms/step - loss: 0.4303 - accuracy: 0.8570 - Multilabel_confusion_matrix: 12500.0000 - val_loss: 0.4458 - val_accuracy: 0.8543 - val_Multilabel_confusion_matrix: 2500.0000\n",
      "Epoch 15/30\n",
      "98/98 [==============================] - 4s 46ms/step - loss: 0.4224 - accuracy: 0.8595 - Multilabel_confusion_matrix: 12500.0000 - val_loss: 0.4848 - val_accuracy: 0.8430 - val_Multilabel_confusion_matrix: 2500.0000\n",
      "Epoch 16/30\n",
      "98/98 [==============================] - 4s 44ms/step - loss: 0.4160 - accuracy: 0.8629 - Multilabel_confusion_matrix: 12500.0000 - val_loss: 0.4326 - val_accuracy: 0.8566 - val_Multilabel_confusion_matrix: 2500.0000\n",
      "Epoch 17/30\n",
      "98/98 [==============================] - 4s 44ms/step - loss: 0.4172 - accuracy: 0.8620 - Multilabel_confusion_matrix: 12500.0000 - val_loss: 0.4281 - val_accuracy: 0.8598 - val_Multilabel_confusion_matrix: 2500.0000\n",
      "Epoch 18/30\n",
      "98/98 [==============================] - 4s 42ms/step - loss: 0.4072 - accuracy: 0.8652 - Multilabel_confusion_matrix: 12500.0000 - val_loss: 0.6269 - val_accuracy: 0.7999 - val_Multilabel_confusion_matrix: 2500.0000\n",
      "Epoch 19/30\n",
      "98/98 [==============================] - 4s 46ms/step - loss: 0.4078 - accuracy: 0.8637 - Multilabel_confusion_matrix: 12500.0000 - val_loss: 0.4171 - val_accuracy: 0.8640 - val_Multilabel_confusion_matrix: 2500.0000\n",
      "Epoch 20/30\n",
      "98/98 [==============================] - 4s 42ms/step - loss: 0.4045 - accuracy: 0.8651 - Multilabel_confusion_matrix: 12500.0000 - val_loss: 0.4258 - val_accuracy: 0.8609 - val_Multilabel_confusion_matrix: 2500.0000\n",
      "Epoch 21/30\n",
      "98/98 [==============================] - 4s 41ms/step - loss: 0.3980 - accuracy: 0.8683 - Multilabel_confusion_matrix: 12500.0000 - val_loss: 0.4088 - val_accuracy: 0.8669 - val_Multilabel_confusion_matrix: 2500.0000\n",
      "Epoch 22/30\n",
      "98/98 [==============================] - 4s 43ms/step - loss: 0.3939 - accuracy: 0.8687 - Multilabel_confusion_matrix: 12500.0000 - val_loss: 0.4423 - val_accuracy: 0.8469 - val_Multilabel_confusion_matrix: 2500.0000\n",
      "Epoch 23/30\n",
      "98/98 [==============================] - 4s 42ms/step - loss: 0.3898 - accuracy: 0.8711 - Multilabel_confusion_matrix: 12500.0000 - val_loss: 0.4358 - val_accuracy: 0.8574 - val_Multilabel_confusion_matrix: 2500.0000\n",
      "Epoch 24/30\n",
      "98/98 [==============================] - 4s 41ms/step - loss: 0.3904 - accuracy: 0.8691 - Multilabel_confusion_matrix: 12500.0000 - val_loss: 0.4544 - val_accuracy: 0.8486 - val_Multilabel_confusion_matrix: 2500.0000\n",
      "Epoch 25/30\n",
      "98/98 [==============================] - 4s 41ms/step - loss: 0.3832 - accuracy: 0.8700 - Multilabel_confusion_matrix: 12500.0000 - val_loss: 0.4520 - val_accuracy: 0.8566 - val_Multilabel_confusion_matrix: 2500.0000\n",
      "Epoch 26/30\n",
      "98/98 [==============================] - 4s 43ms/step - loss: 0.3816 - accuracy: 0.8726 - Multilabel_confusion_matrix: 12500.0000 - val_loss: 0.4246 - val_accuracy: 0.8565 - val_Multilabel_confusion_matrix: 2500.0000\n",
      "Epoch 27/30\n",
      "98/98 [==============================] - 4s 42ms/step - loss: 0.3814 - accuracy: 0.8718 - Multilabel_confusion_matrix: 12500.0000 - val_loss: 0.4899 - val_accuracy: 0.8391 - val_Multilabel_confusion_matrix: 2500.0000\n",
      "Epoch 28/30\n",
      "98/98 [==============================] - 4s 41ms/step - loss: 0.3744 - accuracy: 0.8755 - Multilabel_confusion_matrix: 12500.0000 - val_loss: 0.4455 - val_accuracy: 0.8577 - val_Multilabel_confusion_matrix: 2500.0000\n",
      "Epoch 29/30\n",
      "98/98 [==============================] - 4s 41ms/step - loss: 0.3759 - accuracy: 0.8743 - Multilabel_confusion_matrix: 12500.0000 - val_loss: 0.4655 - val_accuracy: 0.8514 - val_Multilabel_confusion_matrix: 2500.0000\n",
      "Epoch 30/30\n",
      "98/98 [==============================] - 4s 42ms/step - loss: 0.3737 - accuracy: 0.8746 - Multilabel_confusion_matrix: 12500.0000 - val_loss: 0.4127 - val_accuracy: 0.8648 - val_Multilabel_confusion_matrix: 2500.0000\n"
     ]
    }
   ],
   "source": [
    "lr_momentum_test(learning_rate_set, momentum_set)"
   ]
  },
  {
   "cell_type": "code",
   "execution_count": 37,
   "metadata": {},
   "outputs": [
    {
     "name": "stdout",
     "output_type": "stream",
     "text": [
      "--- Various combinations of learning rate and momentum ---\n",
      "\n",
      "Comparing accuracies on the validation set:\n",
      "\n",
      "{'lr': 0.001, 'momentum': 0.001}  -  0.8901000022888184\n",
      "{'lr': 0.001, 'momentum': 0.005}  -  0.8903999924659729\n",
      "{'lr': 0.001, 'momentum': 0.01}  -  0.8894000053405762\n",
      "{'lr': 0.005, 'momentum': 0.001}  -  0.885699987411499\n",
      "{'lr': 0.005, 'momentum': 0.005}  -  0.8783000111579895\n",
      "{'lr': 0.005, 'momentum': 0.01}  -  0.8794999718666077\n",
      "{'lr': 0.01, 'momentum': 0.001}  -  0.864799976348877\n",
      "{'lr': 0.01, 'momentum': 0.005}  -  0.8579000234603882\n",
      "{'lr': 0.01, 'momentum': 0.01}  -  0.8669000267982483\n",
      "\n",
      "\n",
      "The highest accuracy:  0.8903999924659729  is given by combination: \n",
      " {'lr': 0.001, 'momentum': 0.005}\n"
     ]
    }
   ],
   "source": [
    "lr_momentum_acc_list = [] #array to store accuracies of the validation set\n",
    "print(\"--- Various combinations of learning rate and momentum ---\\n\")\n",
    "print(\"Comparing accuracies on the validation set:\\n\")\n",
    "for combi in range(len(lr_momentum_history)):\n",
    "    lr_momentum_acc_list.append(max(lr_momentum_history[combi].history['val_accuracy']))\n",
    "    print(param_dict[combi],\" - \", max(lr_momentum_history[combi].history['val_accuracy']))\n",
    "\n",
    "max_ind = np.argmax(lr_momentum_acc_list)  #finding the index of max accuracy in order to find the best values of lr and momentum\n",
    "\n",
    "print (\"\\n\\nThe highest accuracy: \", np.max(lr_momentum_acc_list), \n",
    "       \" is given by combination: \\n\", param_dict[max_ind])"
   ]
  },
  {
   "cell_type": "code",
   "execution_count": 38,
   "metadata": {},
   "outputs": [
    {
     "data": {
      "image/png": "[encoded data removed]",
      "text/plain": [
       "<Figure size 432x288 with 1 Axes>"
      ]
     },
     "metadata": {
      "needs_background": "light"
     },
     "output_type": "display_data"
    }
   ],
   "source": [
    "y1 = lr_momentum_history[max_ind].history['val_accuracy']\n",
    "y1_label = 'Validation set'\n",
    "y2 = lr_momentum_history[max_ind].history['accuracy']\n",
    "y2_label = 'Training set'\n",
    "plot_results (y1, y1_label, y2, y2_label, \"Accuracy on validation set\\n\")"
   ]
  },
  {
   "cell_type": "markdown",
   "metadata": {},
   "source": [
    "Even though introducing learning rate and momentum did not contribute to the increasing of accuracy, as chart shows it made validation and trining sets accuracies sit tighter to each other. It means that model now is capable to generalize better.\n"
   ]
  },
  {
   "cell_type": "code",
   "execution_count": 39,
   "metadata": {},
   "outputs": [],
   "source": [
    "lr = param_dict[max_ind]['lr']\n",
    "momentum = param_dict[max_ind]['momentum']"
   ]
  },
  {
   "cell_type": "markdown",
   "metadata": {},
   "source": [
    "Last missed piece is the quantity of epochs. As per chart above, the least fluctuation and the highest accuracy is achieved around 10 epochs. Finally, as a result of theoretical findings and practical test, I get the following set of hyperparametrs and features to build and train model, and subsequently test it on unseen data:"
   ]
  },
  {
   "cell_type": "code",
   "execution_count": 40,
   "metadata": {},
   "outputs": [
    {
     "name": "stdout",
     "output_type": "stream",
     "text": [
      "The best hyperparametrs:\n",
      "\n",
      "Practicaly confirmed:\n",
      "\n",
      "Regularization:\t 0.01\n",
      "Learning rate:\t 0.001\n",
      "Momentum:\t 0.005\n",
      "Loss:\t\t categorical_crossentropy\n",
      "Epochs:\t\t 10\n",
      "\n",
      "Theoretically defined:\n",
      "\n",
      "Hidden layers:\t 2\n",
      "Hidden units:\t 512\n",
      "Activation:\t ['relu', 'softmax']\n",
      "\n",
      "Maximum accuracy on the \n",
      "validation set:\t 0.8962000012397766\n"
     ]
    }
   ],
   "source": [
    "print('The best hyperparametrs:\\n')\n",
    "\n",
    "print('Practicaly confirmed:\\n')\n",
    "\n",
    "print('Regularization:\\t', l2)\n",
    "print('Learning rate:\\t', lr)\n",
    "print('Momentum:\\t', momentum)\n",
    "print('Loss:\\t\\t', loss)\n",
    "print('Epochs:\\t\\t', 10)\n",
    "\n",
    "print('\\nTheoretically defined:\\n')\n",
    "\n",
    "print('Hidden layers:\\t', hidden_layers)\n",
    "print('Hidden units:\\t', hidden_units)\n",
    "print('Activation:\\t', activation)\n",
    "\n",
    "\n",
    "print('\\nMaximum accuracy on the \\nvalidation set:\\t', np.max(l2_max_accuracies))"
   ]
  },
  {
   "cell_type": "markdown",
   "metadata": {},
   "source": [
    "#### 3. Testing"
   ]
  },
  {
   "cell_type": "markdown",
   "metadata": {},
   "source": [
    "Fitting model onto unseen data:"
   ]
  },
  {
   "cell_type": "code",
   "execution_count": 41,
   "metadata": {},
   "outputs": [
    {
     "name": "stdout",
     "output_type": "stream",
     "text": [
      "Epoch 1/10\n",
      "98/98 [==============================] - 5s 44ms/step - loss: 3.9459 - accuracy: 0.6820 - Multilabel_confusion_matrix: 12500.0000 - val_loss: 1.6237 - val_accuracy: 0.6275 - val_Multilabel_confusion_matrix: 2500.0000\n",
      "Epoch 2/10\n",
      "98/98 [==============================] - 4s 39ms/step - loss: 0.9260 - accuracy: 0.7853 - Multilabel_confusion_matrix: 12500.0000 - val_loss: 0.7119 - val_accuracy: 0.8120 - val_Multilabel_confusion_matrix: 2500.0000\n",
      "Epoch 3/10\n",
      "98/98 [==============================] - 4s 39ms/step - loss: 0.6778 - accuracy: 0.8118 - Multilabel_confusion_matrix: 12500.0000 - val_loss: 0.6213 - val_accuracy: 0.8208 - val_Multilabel_confusion_matrix: 2500.0000\n",
      "Epoch 4/10\n",
      "98/98 [==============================] - 4s 42ms/step - loss: 0.5871 - accuracy: 0.8286 - Multilabel_confusion_matrix: 12500.0000 - val_loss: 0.6124 - val_accuracy: 0.8156 - val_Multilabel_confusion_matrix: 2500.0000\n",
      "Epoch 5/10\n",
      "98/98 [==============================] - 4s 42ms/step - loss: 0.5465 - accuracy: 0.8377 - Multilabel_confusion_matrix: 12500.0000 - val_loss: 0.5411 - val_accuracy: 0.8337 - val_Multilabel_confusion_matrix: 2500.0000\n",
      "Epoch 6/10\n",
      "98/98 [==============================] - 4s 41ms/step - loss: 0.5107 - accuracy: 0.8447 - Multilabel_confusion_matrix: 12500.0000 - val_loss: 0.4941 - val_accuracy: 0.8540 - val_Multilabel_confusion_matrix: 2500.0000\n",
      "Epoch 7/10\n",
      "98/98 [==============================] - 4s 41ms/step - loss: 0.4874 - accuracy: 0.8522 - Multilabel_confusion_matrix: 12500.0000 - val_loss: 0.4747 - val_accuracy: 0.8537 - val_Multilabel_confusion_matrix: 2500.0000\n",
      "Epoch 8/10\n",
      "98/98 [==============================] - 4s 41ms/step - loss: 0.4672 - accuracy: 0.8576 - Multilabel_confusion_matrix: 12500.0000 - val_loss: 0.5165 - val_accuracy: 0.8374 - val_Multilabel_confusion_matrix: 2500.0000\n",
      "Epoch 9/10\n",
      "98/98 [==============================] - 4s 40ms/step - loss: 0.4528 - accuracy: 0.8620 - Multilabel_confusion_matrix: 12500.0000 - val_loss: 0.4941 - val_accuracy: 0.8304 - val_Multilabel_confusion_matrix: 2500.0000\n",
      "Epoch 10/10\n",
      "98/98 [==============================] - 4s 40ms/step - loss: 0.4398 - accuracy: 0.8662 - Multilabel_confusion_matrix: 12500.0000 - val_loss: 0.4404 - val_accuracy: 0.8692 - val_Multilabel_confusion_matrix: 2500.0000\n"
     ]
    }
   ],
   "source": [
    "epochs = 10\n",
    "history_fin = []\n",
    "model_fin = experiment(activation, hidden_units, hidden_layers, loss,\n",
    "                       learning_rate = lr, momentum = momentum, l2=l2)\n",
    "history_fin = model_fin.fit(x_train_part, y_train_hot_part, epochs = epochs, \n",
    "              batch_size = batch_size,\n",
    "              validation_data = (x_train_val, y_train_hot_val))\n",
    "y_pred = model_fin.predict(x_test)\n"
   ]
  },
  {
   "cell_type": "code",
   "execution_count": 42,
   "metadata": {},
   "outputs": [],
   "source": [
    "#decoding of the results\n",
    "y_pred_labeled = []\n",
    "y_pred_prob = []\n",
    "for pred in y_pred:\n",
    "    y_pred_labeled.append(np.argmax(pred))\n",
    "    y_pred_prob.append(np.max(pred))"
   ]
  },
  {
   "cell_type": "markdown",
   "metadata": {},
   "source": [
    "Interpreting of the results is presented below."
   ]
  },
  {
   "cell_type": "markdown",
   "metadata": {},
   "source": [
    "# Results"
   ]
  },
  {
   "cell_type": "markdown",
   "metadata": {},
   "source": [
    "### Evaluation"
   ]
  },
  {
   "cell_type": "markdown",
   "metadata": {},
   "source": [
    "Below is the process of analyzing performance of the trained model on unseen (test) data. The main goal here is to make sure that model is able to generalize, find weak sides causing undeperformance (if they are) and suggest solutions.\n",
    "The structure of this section is:\n",
    "1. Accuracy:\n",
    "    - overall \n",
    "    - per class\n",
    "2. Confusion Matrix, Precision, Recall\n",
    "3. Visualization"
   ]
  },
  {
   "cell_type": "markdown",
   "metadata": {},
   "source": [
    "**1. Accuracy**"
   ]
  },
  {
   "cell_type": "markdown",
   "metadata": {},
   "source": [
    "Overall accuracy:"
   ]
  },
  {
   "cell_type": "code",
   "execution_count": 43,
   "metadata": {},
   "outputs": [
    {
     "name": "stdout",
     "output_type": "stream",
     "text": [
      "Overall accuracy at the last epoch is  0.87\n",
      "It satisfies the chosen baseline of 85%\n"
     ]
    }
   ],
   "source": [
    "accuracy_overall = np.round(history_fin.history[\"accuracy\"][-1], 2)\n",
    "print(\"Overall accuracy at the last epoch is \", accuracy_overall)\n",
    "print(\"It satisfies the chosen baseline of 85%\")"
   ]
  },
  {
   "cell_type": "markdown",
   "metadata": {},
   "source": [
    "Accuracy per class with custom function:"
   ]
  },
  {
   "cell_type": "code",
   "execution_count": 44,
   "metadata": {},
   "outputs": [],
   "source": [
    "def acc_per_class(y_test, y_pred, labels):\n",
    "    \n",
    "    values, counts = np.unique(y_test, return_counts = True)\n",
    "    test_dict = {k:v for k,v in zip(values,counts)}\n",
    "    \n",
    "    counters = np.zeros((len(labels)))\n",
    "    correct_pred_dict = {k:v for k,v in zip(labels,counters)}\n",
    "    \n",
    "    for i in range(len(y_test)):\n",
    "        for j in labels:\n",
    "            if y_test[i] == j and y_pred_labeled[i] == j:\n",
    "                correct_pred_dict[j] = correct_pred_dict[j] + 1\n",
    "    \n",
    "    accuracy_per_class = {}\n",
    "    for i in correct_pred_dict:\n",
    "        accuracy_per_class[i] =  np.round((correct_pred_dict[i]/test_dict[i]),2)\n",
    "        \n",
    "    \n",
    "    return accuracy_per_class, correct_pred_dict"
   ]
  },
  {
   "cell_type": "code",
   "execution_count": 45,
   "metadata": {},
   "outputs": [
    {
     "name": "stdout",
     "output_type": "stream",
     "text": [
      "Accuracy per class:\n",
      "\n",
      "Class:  0  accuracy:  0.82 clothes : T-shirt/top\n",
      "Class:  1  accuracy:  0.94 clothes : Trousers\n",
      "Class:  2  accuracy:  0.68 clothes : Pullover\n",
      "Class:  3  accuracy:  0.91 clothes : Dress\n",
      "Class:  4  accuracy:  0.72 clothes : Coat\n",
      "Class:  5  accuracy:  0.97 clothes : Sandal\n",
      "Class:  6  accuracy:  0.68 clothes : Shirt\n",
      "Class:  7  accuracy:  0.94 clothes : Sneaker\n",
      "Class:  8  accuracy:  0.97 clothes : Bag\n",
      "Class:  9  accuracy:  0.92 clothes : Ankle boot\n"
     ]
    }
   ],
   "source": [
    "labels = [0, 1,2,3,4,5,6,7,8,9]\n",
    "accuracy_per_class, correct_pred_dict = acc_per_class(y_test, y_pred_labeled, labels)\n",
    "print(\"Accuracy per class:\\n\")\n",
    "\n",
    "for i in accuracy_per_class:\n",
    "    print(\"Class: \", i, \" accuracy: \", accuracy_per_class[i], \"clothes :\", clothes[i])\n"
   ]
  },
  {
   "cell_type": "markdown",
   "metadata": {},
   "source": [
    "Products T-shirt, Pullover, Coat and Shirt are predicted with poor accuracy. Confusion matrix will help to identify the probable cause of poor performance on these categories. "
   ]
  },
  {
   "cell_type": "markdown",
   "metadata": {},
   "source": [
    "**2. Confusion Matrix, Precision/Recall**"
   ]
  },
  {
   "cell_type": "code",
   "execution_count": 46,
   "metadata": {},
   "outputs": [],
   "source": [
    "conf_matrix = tf.math.confusion_matrix(y_test, y_pred_labeled, num_classes=10, weights=None, dtype=tf.dtypes.int32, name=None)"
   ]
  },
  {
   "cell_type": "code",
   "execution_count": 47,
   "metadata": {},
   "outputs": [
    {
     "name": "stdout",
     "output_type": "stream",
     "text": [
      "Confusion matrix: \n",
      "\n"
     ]
    },
    {
     "data": {
      "text/plain": [
       "<matplotlib.axes._subplots.AxesSubplot at 0x2088f612b48>"
      ]
     },
     "execution_count": 47,
     "metadata": {},
     "output_type": "execute_result"
    },
    {
     "data": {
      "image/png": "[encoded data removed]",
      "text/plain": [
       "<Figure size 864x720 with 2 Axes>"
      ]
     },
     "metadata": {
      "needs_background": "light"
     },
     "output_type": "display_data"
    }
   ],
   "source": [
    "fig, ax = plt.subplots(figsize=(12,10))\n",
    "print(\"Confusion matrix: \\n\")\n",
    "sns.heatmap(conf_matrix, annot = conf_matrix, fmt = 'd')"
   ]
  },
  {
   "cell_type": "markdown",
   "metadata": {},
   "source": [
    "From the heatmap it comes evident, that T-shirt (class 0) and Shirt (class 6) are often predicted as each other - 115 and 150 wrong predictions respectively. Coat (class 6) and Pullover (class 2) bring quite a lot mispredicted results too. Pullover is frequently idetified by model as Shirt (146 times) and Coat (123 times). While Shirt was 150 times identified as T-shirt and only 57 as Pullover .Speaking of Coat (class 4), it was 123 times predictes as Shirt, and somewhat more than 70 times as Pullover and Dress each. I find interesting that mistakes mostly do not mirror each other, meaning that if object A is frequently mispredicted as object B, it does not necessarily mean that object B is often mispredicted as object A. "
   ]
  },
  {
   "cell_type": "code",
   "execution_count": 48,
   "metadata": {},
   "outputs": [],
   "source": [
    "def precision_recall (y_pred, y_test, cls, correct_pred_dict):\n",
    "    \n",
    "    precision = 0\n",
    "    recall = 0\n",
    "    correctly_predicted_all = correct_pred_dict [cls]\n",
    "    predicted_overall = 0\n",
    "    overall_qty = 0\n",
    "    \n",
    "    for i in range(len(y_pred)):\n",
    "        if y_pred[i] == cls:\n",
    "            predicted_overall = predicted_overall + 1\n",
    "        if y_test[i] == cls:\n",
    "            overall_qty = overall_qty + 1\n",
    "    \n",
    "    precision = correctly_predicted_all/predicted_overall\n",
    "    recall = correctly_predicted_all/overall_qty\n",
    "    \n",
    "    return np.round(precision, 3), np.round(recall, 3)"
   ]
  },
  {
   "cell_type": "code",
   "execution_count": 49,
   "metadata": {},
   "outputs": [
    {
     "data": {
      "text/html": [
       "<div>\n",
       "<style scoped>\n",
       "    .dataframe tbody tr th:only-of-type {\n",
       "        vertical-align: middle;\n",
       "    }\n",
       "\n",
       "    .dataframe tbody tr th {\n",
       "        vertical-align: top;\n",
       "    }\n",
       "\n",
       "    .dataframe thead th {\n",
       "        text-align: right;\n",
       "    }\n",
       "</style>\n",
       "<table border=\"1\" class=\"dataframe\">\n",
       "  <thead>\n",
       "    <tr style=\"text-align: right;\">\n",
       "      <th></th>\n",
       "      <th>Clothes</th>\n",
       "      <th>Precision</th>\n",
       "      <th>Recall</th>\n",
       "    </tr>\n",
       "  </thead>\n",
       "  <tbody>\n",
       "    <tr>\n",
       "      <th>0</th>\n",
       "      <td>T-shirt/top</td>\n",
       "      <td>0.803</td>\n",
       "      <td>0.824</td>\n",
       "    </tr>\n",
       "    <tr>\n",
       "      <th>1</th>\n",
       "      <td>Trousers</td>\n",
       "      <td>0.993</td>\n",
       "      <td>0.944</td>\n",
       "    </tr>\n",
       "    <tr>\n",
       "      <th>2</th>\n",
       "      <td>Pullover</td>\n",
       "      <td>0.829</td>\n",
       "      <td>0.680</td>\n",
       "    </tr>\n",
       "    <tr>\n",
       "      <th>3</th>\n",
       "      <td>Dress</td>\n",
       "      <td>0.820</td>\n",
       "      <td>0.913</td>\n",
       "    </tr>\n",
       "    <tr>\n",
       "      <th>4</th>\n",
       "      <td>Coat</td>\n",
       "      <td>0.782</td>\n",
       "      <td>0.718</td>\n",
       "    </tr>\n",
       "    <tr>\n",
       "      <th>5</th>\n",
       "      <td>Sandal</td>\n",
       "      <td>0.932</td>\n",
       "      <td>0.973</td>\n",
       "    </tr>\n",
       "    <tr>\n",
       "      <th>6</th>\n",
       "      <td>Shirt</td>\n",
       "      <td>0.615</td>\n",
       "      <td>0.681</td>\n",
       "    </tr>\n",
       "    <tr>\n",
       "      <th>7</th>\n",
       "      <td>Sneaker</td>\n",
       "      <td>0.916</td>\n",
       "      <td>0.940</td>\n",
       "    </tr>\n",
       "    <tr>\n",
       "      <th>8</th>\n",
       "      <td>Bag</td>\n",
       "      <td>0.926</td>\n",
       "      <td>0.974</td>\n",
       "    </tr>\n",
       "    <tr>\n",
       "      <th>9</th>\n",
       "      <td>Ankle boot</td>\n",
       "      <td>0.975</td>\n",
       "      <td>0.919</td>\n",
       "    </tr>\n",
       "  </tbody>\n",
       "</table>\n",
       "</div>"
      ],
      "text/plain": [
       "       Clothes  Precision  Recall\n",
       "0  T-shirt/top      0.803   0.824\n",
       "1     Trousers      0.993   0.944\n",
       "2     Pullover      0.829   0.680\n",
       "3        Dress      0.820   0.913\n",
       "4         Coat      0.782   0.718\n",
       "5       Sandal      0.932   0.973\n",
       "6        Shirt      0.615   0.681\n",
       "7      Sneaker      0.916   0.940\n",
       "8          Bag      0.926   0.974\n",
       "9   Ankle boot      0.975   0.919"
      ]
     },
     "execution_count": 49,
     "metadata": {},
     "output_type": "execute_result"
    }
   ],
   "source": [
    "prec_recall_arr = []\n",
    "\n",
    "for i in clothes:\n",
    "    tmp = (clothes[i], \n",
    "           precision_recall(y_pred_labeled, y_test, i, correct_pred_dict)[0], \n",
    "           precision_recall(y_pred_labeled, y_test, i, correct_pred_dict)[1])\n",
    "    prec_recall_arr.append(tmp)\n",
    "\n",
    "df = pd.DataFrame(prec_recall_arr, columns = [\"Clothes\", \"Precision\", \"Recall\"])\n",
    "df"
   ]
  },
  {
   "cell_type": "markdown",
   "metadata": {},
   "source": [
    "The table above confirms conclusions made based on accuracy and confusion matrix values. For example, it also shows that Shirt product is a bottleneck of the model: when model predicts the product as Shirt, this prediciton is correct only in 61.5% of cases. In the same time recall measure shows that product Shirt is recognized only in 68.1%. Quite low precision is also observed for Coat - prediction are correct only in 78.2%, and in the same time coat is predicted as coat in only 71.8% of times. One of the lowest recall value is observed for Pullover product (68.0%), which is align with confusion matrix that shows it is the most mispredicted item together with Shirt."
   ]
  },
  {
   "cell_type": "markdown",
   "metadata": {},
   "source": [
    "**3. Visualization**"
   ]
  },
  {
   "cell_type": "code",
   "execution_count": 50,
   "metadata": {},
   "outputs": [
    {
     "data": {
      "image/png": "[encoded data removed]",
      "text/plain": [
       "<Figure size 864x864 with 25 Axes>"
      ]
     },
     "metadata": {
      "needs_background": "light"
     },
     "output_type": "display_data"
    }
   ],
   "source": [
    "on_top = 23\n",
    "fig, axs = plt.subplots(5,5,figsize=(12, 12))  \n",
    "for i in range(5):\n",
    "    for j in range(5):\n",
    "        axs[i,j].imshow(x_test_orig[i+j+on_top], cmap = plt.cm.binary)\n",
    "        axs[i,j].set_title(str(np.round((y_pred_prob[i+j+on_top])*100,2)) + \n",
    "                           \"% probability it is \\n\" + str(clothes[y_pred_labeled[i+j+on_top]]) + \n",
    "                           \", \\ntrue label: \" + str(clothes[y_test[i+j+on_top]]))\n",
    "        axs[i,j].axis('off')\n",
    "            \n",
    "fig.tight_layout()\n",
    "plt.show()"
   ]
  },
  {
   "cell_type": "markdown",
   "metadata": {},
   "source": [
    "# Conclusion"
   ]
  },
  {
   "cell_type": "markdown",
   "metadata": {},
   "source": [
    "As per findings of this coursework, the best set of the hyperparametrs and features for the image recognition problem solved by DNN with dense layers is:\n",
    "\n",
    "- Practicaly confirmed:\n",
    "\n",
    "    - Regularization:\t 0.01\n",
    "    - Learning rate:\t 0.001\n",
    "    - Momentum:\t 0.01\n",
    "    - Loss:\t\t categorical_crossentropy\n",
    "\n",
    "- Theoretically defined:\n",
    "\n",
    "    - Hidden layers:\t 2\n",
    "    - Hidden units:\t 512\n",
    "    - Activation:\t ['relu', 'softmax']\n",
    "\n",
    "\n",
    "\n",
    "- Maximum accuracy on the validation set:\t 0.89\n",
    "- Accuracy on the test set: 0.87"
   ]
  },
  {
   "cell_type": "markdown",
   "metadata": {},
   "source": [
    "The model exceed the baseline of 85% accuracy and is trained to predict with **87%** confidence. However, from the evaluation section it becomes evident that accuracies extremely vary from class to class. For Trousers, Ankle Boot, Bag and Sandal, for example, accuracy of prediction is 90-95% +, while Shirt and Pullover barely reaches 68% of confidence. None hand accuarcy of Coat prediciton is 72 %, on another - coat controbutes to Pullover misprediction.\n",
    "\n",
    "The last plot shows that for some data samples probability of prediction was as low as 39.1% for Dress predicted correctly and 68.96% for Coat predicted as Pullover. This level is unacceptable speaking of any prediction confidence and hihglights the need if dataset improvement. If I were to manage the dataset, I would definitely look into improving quality of images of Pullovers, Shirts, T-shirts and Coats, as well as increasing training samples of each. Eeven though the dataset will become less balanced after, in my opinion this will contribute to the overall preformance improvement."
   ]
  },
  {
   "cell_type": "code",
   "execution_count": null,
   "metadata": {},
   "outputs": [],
   "source": []
  }
 ],
 "metadata": {
  "kernelspec": {
   "display_name": "Python 3",
   "language": "python",
   "name": "python3"
  },
  "language_info": {
   "codemirror_mode": {
    "name": "ipython",
    "version": 3
   },
   "file_extension": ".py",
   "mimetype": "text/x-python",
   "name": "python",
   "nbconvert_exporter": "python",
   "pygments_lexer": "ipython3",
   "version": "3.7.6"
  }
 },
 "nbformat": 4,
 "nbformat_minor": 2
}
