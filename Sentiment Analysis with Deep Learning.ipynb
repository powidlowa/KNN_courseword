{
 "cells": [
  {
   "cell_type": "markdown",
   "metadata": {},
   "source": [
    "# Sentiment analysis with Deep Learning (DL)"
   ]
  },
  {
   "cell_type": "markdown",
   "metadata": {},
   "source": [
    "## Introduction"
   ]
  },
  {
   "cell_type": "markdown",
   "metadata": {},
   "source": [
    "`Intro` or why Deep Learning is important?\n",
    "\n",
    "I am Ukrainian and writing this Intro while my family, firends and colleagues are hiding in shelters or defend their cities with Molotov cocktails and bare hands. Russian government is destroying my country and kill my brothers and sisters: hospitals, kindergartens and resedential areas are **bombed**. I am phisically able to write this Intro only because I moved to Germany in August 2020. It is hard to belive that now I am going to discuss Artificila Intelligence while Russian governmant is swiftly going back to Middle Ages and try to drag my country with. \n",
    "\n",
    "*Anyway, is there link between war and Deep Learning? - one would ask. And actually - there is.* \n",
    "\n",
    "Today, 28/02/2022 it was stated that Reface (https://hey.reface.ai) - worldwide known ukrainian company that uses Deep Learning for entartainment puproses - now take advantage of their available resources to direct the power of Artificial Intelligence and Computer Vision on civilians protection. Their main task is timely detection of military equipment with the streets cameras and information of civilians.\n",
    "\n",
    "In addition to Computer Vision another important national security challange that can be addressed with Deep Learning is Natural Language Processing (NLP), - sentiment analysis and topic detection in particular. One week before everything has been started I had noticed much increased quantity of hate and \"jokes\" towards Ukraininans in one of the most popular ukrainian/russian speaking forum Pikabu (https://pikabu.ru). Later, one day before Putin has launched the war against Ukraine, it was confirmed by Pikabu administration (https://pikabu.ru/story/pikabu_i_botyi_8860371) that their website was firstly DDoS'd and then experienced abnormal registration activity. As a consequence (as per administration's comment) 'specific content' (read: hate towards ukrainians) was posted and consequently upvoted along with approving comments. Eventually, 5500 bot accounts were frozen. The same any russian-speaking person could observe on 21 - 23/02/2022 on Instagram news accounts comment sections. Actually I have experienced hate myself - they wrote they will find me in Ukraine and \"educate\" (whatever it means) because I told that what is happening in Ukraine is called a war (in Russia they call ot \"special operation\"). \n",
    "\n",
    "All things considred, I think that background semantic and sentiment analysis of textual activity on social media like Instagram and Twitter on chosen territory is a very powerful crisis preventive tool. It is not about regular detection of the content going against particualr social media pltaform rules, it is about undestanding how attitudes and narratives in given society are changing over the time. With such tools governments are able to analyze their performance as well as moods in society caused by new laws/policies. I think it gives them time to revert new laws that people don't like, cancel new policies, correct mistakes before people are so unsitisfied with government they want to burn autos and clash with police. And for sure, I guess it can't fully prevent such thing as Russian war against Ukraine. But, if one managed to spot weired activities and attempts to push some particular agenda by bots, it gives time to prepare and develop security/action plan. \n",
    "\n",
    "Described tasks require a powerfull tool for deployment, and Deep Neural Network is exactely something that can be used. In this course work I will \n",
    "\n",
    "\n",
    "`Objectives`\n",
    "\n",
    "With this courseworks I aim to:\n",
    "\n",
    "1. Study of how Deep Lerning techniques can solve Natural Language Processing (NLP) tasks.\n",
    "2. Research performance of various RNN and CNN layers for NLP classification task: Sentiment Analysis\n",
    "3. Perform operations with Data Frames containing textual data:\n",
    "    - Filtering operations\n",
    "    - Joining of two and more Data Frames together\n",
    "    - Group by operations\n",
    "    - Summarizing \n",
    "4. Reach performance of meaningful confidence (higher than 75%)\n",
    "5. Interpret results and find weak sides that can be improved\n",
    "6. Write further suggestions on model's preformance improvement \n",
    "\n",
    "\n",
    "`Baseline performance`\n",
    "\n",
    "If to assume that the data set is balanced, meaning 3 given classes (Positive, Negative and Neutral) are present in roughly the same quantity, the baseline performance can be set up to ~30%. However, the the minimum meaningful accuracy would be at least 75%.\n",
    "\n",
    "\n",
    "`Evauation techniques`\n",
    "\n",
    "As the Course Work solves classififcation task, hence the performace can be evaluated by:\n",
    "- Confusion matrix\n",
    "- Accuracy overall and per class \n",
    "- Precision\n",
    "- Recall\n",
    "- F1 score\n"
   ]
  },
  {
   "cell_type": "markdown",
   "metadata": {},
   "source": [
    "## Preparation steps"
   ]
  },
  {
   "cell_type": "markdown",
   "metadata": {},
   "source": [
    "### 1. Import libraries:"
   ]
  },
  {
   "cell_type": "code",
   "execution_count": 1,
   "metadata": {},
   "outputs": [
    {
     "name": "stderr",
     "output_type": "stream",
     "text": [
      "[nltk_data] Downloading package punkt to /Users/maria/nltk_data...\n",
      "[nltk_data]   Package punkt is already up-to-date!\n",
      "[nltk_data] Downloading package stopwords to /Users/maria/nltk_data...\n",
      "[nltk_data]   Package stopwords is already up-to-date!\n"
     ]
    }
   ],
   "source": [
    "#supportive\n",
    "import numpy as np\n",
    "import pandas as pd\n",
    "import re\n",
    "\n",
    "#nlp\n",
    "import nltk\n",
    "nltk.download('punkt')\n",
    "from nltk.corpus import stopwords\n",
    "nltk.download('stopwords')\n",
    "from nltk.stem import WordNetLemmatizer\n",
    "\n",
    "import gensim\n",
    "from gensim.models import Word2Vec\n",
    "\n",
    "#machine learning\n",
    "from sklearn.model_selection import train_test_split\n",
    "\n",
    "import tensorflow as tf\n",
    "from tensorflow import keras\n",
    "\n",
    "from keras.preprocessing.text import Tokenizer\n",
    "from keras.preprocessing.sequence import pad_sequences\n",
    "\n",
    "from keras import models\n",
    "from keras import layers\n",
    "from keras.models import Sequential\n",
    "from tensorflow.keras.optimizers import RMSprop\n",
    "\n",
    "from keras.callbacks import EarlyStopping\n",
    "\n",
    "#visualisation \n",
    "import matplotlib.pyplot as plt\n",
    "import seaborn as sns\n",
    "\n",
    "from pandas.plotting import register_matplotlib_converters\n",
    "register_matplotlib_converters()"
   ]
  },
  {
   "cell_type": "markdown",
   "metadata": {},
   "source": [
    "### 2. Load dataset and perform typecasting:\n",
    "\n",
    "\n",
    "**Dataset short description:**\n",
    "\n",
    "*The source of the dataset: https://www.kaggle.com/crowdflower/twitter-airline-sentiment*\n",
    "\n",
    "As per Kaggle: \"A sentiment analysis job about the problems of each major U.S. airline. Twitter data was scraped from February of 2015 and contributors were asked to first classify `positive`, `negative`, and `neutral` tweets\"\n",
    "\n",
    "\n",
    "Original data set contains 15 columns: \n",
    "- tweet_id, airline_sentiment, airline_sentiment_confidence, negativereason, negativereason_confidence, airline, airline_sentiment_gold, name, negativereason_gold, retweet_count, text, tweet_coord, tweet_created, tweet_location, user_timezone\n",
    "\n",
    "---\n",
    "\n",
    "`Step 1.` Load dataset:"
   ]
  },
  {
   "cell_type": "code",
   "execution_count": 2,
   "metadata": {},
   "outputs": [
    {
     "name": "stdout",
     "output_type": "stream",
     "text": [
      "> Dataset is loaded:\n",
      "\n",
      " - quantity of samples: 14640\n",
      " - quantity of columns: 15\n",
      "\n",
      "> First 5 rows:\n"
     ]
    },
    {
     "data": {
      "text/html": [
       "<div>\n",
       "<style scoped>\n",
       "    .dataframe tbody tr th:only-of-type {\n",
       "        vertical-align: middle;\n",
       "    }\n",
       "\n",
       "    .dataframe tbody tr th {\n",
       "        vertical-align: top;\n",
       "    }\n",
       "\n",
       "    .dataframe thead th {\n",
       "        text-align: right;\n",
       "    }\n",
       "</style>\n",
       "<table border=\"1\" class=\"dataframe\">\n",
       "  <thead>\n",
       "    <tr style=\"text-align: right;\">\n",
       "      <th></th>\n",
       "      <th>tweet_id</th>\n",
       "      <th>airline_sentiment</th>\n",
       "      <th>airline_sentiment_confidence</th>\n",
       "      <th>negativereason</th>\n",
       "      <th>negativereason_confidence</th>\n",
       "      <th>airline</th>\n",
       "      <th>airline_sentiment_gold</th>\n",
       "      <th>name</th>\n",
       "      <th>negativereason_gold</th>\n",
       "      <th>retweet_count</th>\n",
       "      <th>text</th>\n",
       "      <th>tweet_coord</th>\n",
       "      <th>tweet_created</th>\n",
       "      <th>tweet_location</th>\n",
       "      <th>user_timezone</th>\n",
       "    </tr>\n",
       "  </thead>\n",
       "  <tbody>\n",
       "    <tr>\n",
       "      <td>0</td>\n",
       "      <td>570306133677760513</td>\n",
       "      <td>neutral</td>\n",
       "      <td>1.0000</td>\n",
       "      <td>NaN</td>\n",
       "      <td>NaN</td>\n",
       "      <td>Virgin America</td>\n",
       "      <td>NaN</td>\n",
       "      <td>cairdin</td>\n",
       "      <td>NaN</td>\n",
       "      <td>0</td>\n",
       "      <td>@VirginAmerica What @dhepburn said.</td>\n",
       "      <td>NaN</td>\n",
       "      <td>2015-02-24 11:35:52 -0800</td>\n",
       "      <td>NaN</td>\n",
       "      <td>Eastern Time (US &amp; Canada)</td>\n",
       "    </tr>\n",
       "    <tr>\n",
       "      <td>1</td>\n",
       "      <td>570301130888122368</td>\n",
       "      <td>positive</td>\n",
       "      <td>0.3486</td>\n",
       "      <td>NaN</td>\n",
       "      <td>0.0000</td>\n",
       "      <td>Virgin America</td>\n",
       "      <td>NaN</td>\n",
       "      <td>jnardino</td>\n",
       "      <td>NaN</td>\n",
       "      <td>0</td>\n",
       "      <td>@VirginAmerica plus you've added commercials t...</td>\n",
       "      <td>NaN</td>\n",
       "      <td>2015-02-24 11:15:59 -0800</td>\n",
       "      <td>NaN</td>\n",
       "      <td>Pacific Time (US &amp; Canada)</td>\n",
       "    </tr>\n",
       "    <tr>\n",
       "      <td>2</td>\n",
       "      <td>570301083672813571</td>\n",
       "      <td>neutral</td>\n",
       "      <td>0.6837</td>\n",
       "      <td>NaN</td>\n",
       "      <td>NaN</td>\n",
       "      <td>Virgin America</td>\n",
       "      <td>NaN</td>\n",
       "      <td>yvonnalynn</td>\n",
       "      <td>NaN</td>\n",
       "      <td>0</td>\n",
       "      <td>@VirginAmerica I didn't today... Must mean I n...</td>\n",
       "      <td>NaN</td>\n",
       "      <td>2015-02-24 11:15:48 -0800</td>\n",
       "      <td>Lets Play</td>\n",
       "      <td>Central Time (US &amp; Canada)</td>\n",
       "    </tr>\n",
       "    <tr>\n",
       "      <td>3</td>\n",
       "      <td>570301031407624196</td>\n",
       "      <td>negative</td>\n",
       "      <td>1.0000</td>\n",
       "      <td>Bad Flight</td>\n",
       "      <td>0.7033</td>\n",
       "      <td>Virgin America</td>\n",
       "      <td>NaN</td>\n",
       "      <td>jnardino</td>\n",
       "      <td>NaN</td>\n",
       "      <td>0</td>\n",
       "      <td>@VirginAmerica it's really aggressive to blast...</td>\n",
       "      <td>NaN</td>\n",
       "      <td>2015-02-24 11:15:36 -0800</td>\n",
       "      <td>NaN</td>\n",
       "      <td>Pacific Time (US &amp; Canada)</td>\n",
       "    </tr>\n",
       "    <tr>\n",
       "      <td>4</td>\n",
       "      <td>570300817074462722</td>\n",
       "      <td>negative</td>\n",
       "      <td>1.0000</td>\n",
       "      <td>Can't Tell</td>\n",
       "      <td>1.0000</td>\n",
       "      <td>Virgin America</td>\n",
       "      <td>NaN</td>\n",
       "      <td>jnardino</td>\n",
       "      <td>NaN</td>\n",
       "      <td>0</td>\n",
       "      <td>@VirginAmerica and it's a really big bad thing...</td>\n",
       "      <td>NaN</td>\n",
       "      <td>2015-02-24 11:14:45 -0800</td>\n",
       "      <td>NaN</td>\n",
       "      <td>Pacific Time (US &amp; Canada)</td>\n",
       "    </tr>\n",
       "  </tbody>\n",
       "</table>\n",
       "</div>"
      ],
      "text/plain": [
       "             tweet_id airline_sentiment  airline_sentiment_confidence  \\\n",
       "0  570306133677760513           neutral                        1.0000   \n",
       "1  570301130888122368          positive                        0.3486   \n",
       "2  570301083672813571           neutral                        0.6837   \n",
       "3  570301031407624196          negative                        1.0000   \n",
       "4  570300817074462722          negative                        1.0000   \n",
       "\n",
       "  negativereason  negativereason_confidence         airline  \\\n",
       "0            NaN                        NaN  Virgin America   \n",
       "1            NaN                     0.0000  Virgin America   \n",
       "2            NaN                        NaN  Virgin America   \n",
       "3     Bad Flight                     0.7033  Virgin America   \n",
       "4     Can't Tell                     1.0000  Virgin America   \n",
       "\n",
       "  airline_sentiment_gold        name negativereason_gold  retweet_count  \\\n",
       "0                    NaN     cairdin                 NaN              0   \n",
       "1                    NaN    jnardino                 NaN              0   \n",
       "2                    NaN  yvonnalynn                 NaN              0   \n",
       "3                    NaN    jnardino                 NaN              0   \n",
       "4                    NaN    jnardino                 NaN              0   \n",
       "\n",
       "                                                text tweet_coord  \\\n",
       "0                @VirginAmerica What @dhepburn said.         NaN   \n",
       "1  @VirginAmerica plus you've added commercials t...         NaN   \n",
       "2  @VirginAmerica I didn't today... Must mean I n...         NaN   \n",
       "3  @VirginAmerica it's really aggressive to blast...         NaN   \n",
       "4  @VirginAmerica and it's a really big bad thing...         NaN   \n",
       "\n",
       "               tweet_created tweet_location               user_timezone  \n",
       "0  2015-02-24 11:35:52 -0800            NaN  Eastern Time (US & Canada)  \n",
       "1  2015-02-24 11:15:59 -0800            NaN  Pacific Time (US & Canada)  \n",
       "2  2015-02-24 11:15:48 -0800      Lets Play  Central Time (US & Canada)  \n",
       "3  2015-02-24 11:15:36 -0800            NaN  Pacific Time (US & Canada)  \n",
       "4  2015-02-24 11:14:45 -0800            NaN  Pacific Time (US & Canada)  "
      ]
     },
     "execution_count": 2,
     "metadata": {},
     "output_type": "execute_result"
    }
   ],
   "source": [
    "df_orig_tweets = pd.read_csv('Tweets.csv', encoding='latin1') #read csv to dataframe\n",
    "print(\"> Dataset is loaded:\\n\")\n",
    "print(\" - quantity of samples:\", df_orig_tweets.shape[0])\n",
    "print(\" - quantity of columns:\", df_orig_tweets.shape[1])\n",
    "\n",
    "print(\"\\n> First 5 rows:\")\n",
    "df_orig_tweets.head(5)"
   ]
  },
  {
   "cell_type": "markdown",
   "metadata": {},
   "source": [
    "**Comment**: As was mentioned before, it is evident that not each of 15 columns (features) is meaningful for exploratory data analysis (EDA) and further modelling. Majority of thw columns cariies no useful information adn hence I will go further with the subset of columns *airline_sentiment, airline, text, tweet_created*:"
   ]
  },
  {
   "cell_type": "code",
   "execution_count": 3,
   "metadata": {},
   "outputs": [
    {
     "name": "stdout",
     "output_type": "stream",
     "text": [
      "> Dimensions of the subset:\n",
      " - quantity of samples: 14640\n",
      " - quantity of columns: 4\n"
     ]
    },
    {
     "data": {
      "text/html": [
       "<div>\n",
       "<style scoped>\n",
       "    .dataframe tbody tr th:only-of-type {\n",
       "        vertical-align: middle;\n",
       "    }\n",
       "\n",
       "    .dataframe tbody tr th {\n",
       "        vertical-align: top;\n",
       "    }\n",
       "\n",
       "    .dataframe thead th {\n",
       "        text-align: right;\n",
       "    }\n",
       "</style>\n",
       "<table border=\"1\" class=\"dataframe\">\n",
       "  <thead>\n",
       "    <tr style=\"text-align: right;\">\n",
       "      <th></th>\n",
       "      <th>airline_sentiment</th>\n",
       "      <th>airline</th>\n",
       "      <th>text</th>\n",
       "      <th>tweet_created</th>\n",
       "    </tr>\n",
       "  </thead>\n",
       "  <tbody>\n",
       "    <tr>\n",
       "      <td>0</td>\n",
       "      <td>neutral</td>\n",
       "      <td>Virgin America</td>\n",
       "      <td>@VirginAmerica What @dhepburn said.</td>\n",
       "      <td>2015-02-24 11:35:52 -0800</td>\n",
       "    </tr>\n",
       "    <tr>\n",
       "      <td>1</td>\n",
       "      <td>positive</td>\n",
       "      <td>Virgin America</td>\n",
       "      <td>@VirginAmerica plus you've added commercials t...</td>\n",
       "      <td>2015-02-24 11:15:59 -0800</td>\n",
       "    </tr>\n",
       "    <tr>\n",
       "      <td>2</td>\n",
       "      <td>neutral</td>\n",
       "      <td>Virgin America</td>\n",
       "      <td>@VirginAmerica I didn't today... Must mean I n...</td>\n",
       "      <td>2015-02-24 11:15:48 -0800</td>\n",
       "    </tr>\n",
       "    <tr>\n",
       "      <td>3</td>\n",
       "      <td>negative</td>\n",
       "      <td>Virgin America</td>\n",
       "      <td>@VirginAmerica it's really aggressive to blast...</td>\n",
       "      <td>2015-02-24 11:15:36 -0800</td>\n",
       "    </tr>\n",
       "    <tr>\n",
       "      <td>4</td>\n",
       "      <td>negative</td>\n",
       "      <td>Virgin America</td>\n",
       "      <td>@VirginAmerica and it's a really big bad thing...</td>\n",
       "      <td>2015-02-24 11:14:45 -0800</td>\n",
       "    </tr>\n",
       "    <tr>\n",
       "      <td>...</td>\n",
       "      <td>...</td>\n",
       "      <td>...</td>\n",
       "      <td>...</td>\n",
       "      <td>...</td>\n",
       "    </tr>\n",
       "    <tr>\n",
       "      <td>14635</td>\n",
       "      <td>positive</td>\n",
       "      <td>American</td>\n",
       "      <td>@AmericanAir thank you we got on a different f...</td>\n",
       "      <td>2015-02-22 12:01:01 -0800</td>\n",
       "    </tr>\n",
       "    <tr>\n",
       "      <td>14636</td>\n",
       "      <td>negative</td>\n",
       "      <td>American</td>\n",
       "      <td>@AmericanAir leaving over 20 minutes Late Flig...</td>\n",
       "      <td>2015-02-22 11:59:46 -0800</td>\n",
       "    </tr>\n",
       "    <tr>\n",
       "      <td>14637</td>\n",
       "      <td>neutral</td>\n",
       "      <td>American</td>\n",
       "      <td>@AmericanAir Please bring American Airlines to...</td>\n",
       "      <td>2015-02-22 11:59:15 -0800</td>\n",
       "    </tr>\n",
       "    <tr>\n",
       "      <td>14638</td>\n",
       "      <td>negative</td>\n",
       "      <td>American</td>\n",
       "      <td>@AmericanAir you have my money, you change my ...</td>\n",
       "      <td>2015-02-22 11:59:02 -0800</td>\n",
       "    </tr>\n",
       "    <tr>\n",
       "      <td>14639</td>\n",
       "      <td>neutral</td>\n",
       "      <td>American</td>\n",
       "      <td>@AmericanAir we have 8 ppl so we need 2 know h...</td>\n",
       "      <td>2015-02-22 11:58:51 -0800</td>\n",
       "    </tr>\n",
       "  </tbody>\n",
       "</table>\n",
       "<p>14640 rows × 4 columns</p>\n",
       "</div>"
      ],
      "text/plain": [
       "      airline_sentiment         airline  \\\n",
       "0               neutral  Virgin America   \n",
       "1              positive  Virgin America   \n",
       "2               neutral  Virgin America   \n",
       "3              negative  Virgin America   \n",
       "4              negative  Virgin America   \n",
       "...                 ...             ...   \n",
       "14635          positive        American   \n",
       "14636          negative        American   \n",
       "14637           neutral        American   \n",
       "14638          negative        American   \n",
       "14639           neutral        American   \n",
       "\n",
       "                                                    text  \\\n",
       "0                    @VirginAmerica What @dhepburn said.   \n",
       "1      @VirginAmerica plus you've added commercials t...   \n",
       "2      @VirginAmerica I didn't today... Must mean I n...   \n",
       "3      @VirginAmerica it's really aggressive to blast...   \n",
       "4      @VirginAmerica and it's a really big bad thing...   \n",
       "...                                                  ...   \n",
       "14635  @AmericanAir thank you we got on a different f...   \n",
       "14636  @AmericanAir leaving over 20 minutes Late Flig...   \n",
       "14637  @AmericanAir Please bring American Airlines to...   \n",
       "14638  @AmericanAir you have my money, you change my ...   \n",
       "14639  @AmericanAir we have 8 ppl so we need 2 know h...   \n",
       "\n",
       "                   tweet_created  \n",
       "0      2015-02-24 11:35:52 -0800  \n",
       "1      2015-02-24 11:15:59 -0800  \n",
       "2      2015-02-24 11:15:48 -0800  \n",
       "3      2015-02-24 11:15:36 -0800  \n",
       "4      2015-02-24 11:14:45 -0800  \n",
       "...                          ...  \n",
       "14635  2015-02-22 12:01:01 -0800  \n",
       "14636  2015-02-22 11:59:46 -0800  \n",
       "14637  2015-02-22 11:59:15 -0800  \n",
       "14638  2015-02-22 11:59:02 -0800  \n",
       "14639  2015-02-22 11:58:51 -0800  \n",
       "\n",
       "[14640 rows x 4 columns]"
      ]
     },
     "execution_count": 3,
     "metadata": {},
     "output_type": "execute_result"
    }
   ],
   "source": [
    "columns = ['airline_sentiment', 'airline', 'text', 'tweet_created'] #reduce to 4 columns\n",
    "df_tweets = df_orig_tweets.loc[:,columns]\n",
    "\n",
    "print(\"> Dimensions of the subset:\")\n",
    "print(\" - quantity of samples:\", df_tweets.shape[0])\n",
    "print(\" - quantity of columns:\", df_tweets.shape[1])\n",
    "\n",
    "df_tweets # created subset"
   ]
  },
  {
   "cell_type": "markdown",
   "metadata": {},
   "source": [
    "`Step 2.` Typecasting the last column *tweet_created* into datetime:\n",
    "\n",
    "Before proceeding to EDA, I will make sure that chosen columns are of correct types:"
   ]
  },
  {
   "cell_type": "code",
   "execution_count": 4,
   "metadata": {},
   "outputs": [
    {
     "name": "stdout",
     "output_type": "stream",
     "text": [
      "<class 'pandas.core.frame.DataFrame'>\n",
      "RangeIndex: 14640 entries, 0 to 14639\n",
      "Data columns (total 4 columns):\n",
      "airline_sentiment    14640 non-null object\n",
      "airline              14640 non-null object\n",
      "text                 14640 non-null object\n",
      "tweet_created        14640 non-null object\n",
      "dtypes: object(4)\n",
      "memory usage: 457.6+ KB\n"
     ]
    }
   ],
   "source": [
    "df_tweets.info()"
   ]
  },
  {
   "cell_type": "markdown",
   "metadata": {},
   "source": [
    "The type of the last date column hass to be fixed before EDA:"
   ]
  },
  {
   "cell_type": "code",
   "execution_count": 5,
   "metadata": {},
   "outputs": [
    {
     "data": {
      "text/html": [
       "<div>\n",
       "<style scoped>\n",
       "    .dataframe tbody tr th:only-of-type {\n",
       "        vertical-align: middle;\n",
       "    }\n",
       "\n",
       "    .dataframe tbody tr th {\n",
       "        vertical-align: top;\n",
       "    }\n",
       "\n",
       "    .dataframe thead th {\n",
       "        text-align: right;\n",
       "    }\n",
       "</style>\n",
       "<table border=\"1\" class=\"dataframe\">\n",
       "  <thead>\n",
       "    <tr style=\"text-align: right;\">\n",
       "      <th></th>\n",
       "      <th>airline_sentiment</th>\n",
       "      <th>airline</th>\n",
       "      <th>text</th>\n",
       "      <th>tweet_created</th>\n",
       "    </tr>\n",
       "  </thead>\n",
       "  <tbody>\n",
       "    <tr>\n",
       "      <td>0</td>\n",
       "      <td>neutral</td>\n",
       "      <td>Virgin America</td>\n",
       "      <td>@VirginAmerica What @dhepburn said.</td>\n",
       "      <td>2015-02-24</td>\n",
       "    </tr>\n",
       "    <tr>\n",
       "      <td>1</td>\n",
       "      <td>positive</td>\n",
       "      <td>Virgin America</td>\n",
       "      <td>@VirginAmerica plus you've added commercials t...</td>\n",
       "      <td>2015-02-24</td>\n",
       "    </tr>\n",
       "    <tr>\n",
       "      <td>2</td>\n",
       "      <td>neutral</td>\n",
       "      <td>Virgin America</td>\n",
       "      <td>@VirginAmerica I didn't today... Must mean I n...</td>\n",
       "      <td>2015-02-24</td>\n",
       "    </tr>\n",
       "    <tr>\n",
       "      <td>3</td>\n",
       "      <td>negative</td>\n",
       "      <td>Virgin America</td>\n",
       "      <td>@VirginAmerica it's really aggressive to blast...</td>\n",
       "      <td>2015-02-24</td>\n",
       "    </tr>\n",
       "    <tr>\n",
       "      <td>4</td>\n",
       "      <td>negative</td>\n",
       "      <td>Virgin America</td>\n",
       "      <td>@VirginAmerica and it's a really big bad thing...</td>\n",
       "      <td>2015-02-24</td>\n",
       "    </tr>\n",
       "    <tr>\n",
       "      <td>...</td>\n",
       "      <td>...</td>\n",
       "      <td>...</td>\n",
       "      <td>...</td>\n",
       "      <td>...</td>\n",
       "    </tr>\n",
       "    <tr>\n",
       "      <td>14635</td>\n",
       "      <td>positive</td>\n",
       "      <td>American</td>\n",
       "      <td>@AmericanAir thank you we got on a different f...</td>\n",
       "      <td>2015-02-22</td>\n",
       "    </tr>\n",
       "    <tr>\n",
       "      <td>14636</td>\n",
       "      <td>negative</td>\n",
       "      <td>American</td>\n",
       "      <td>@AmericanAir leaving over 20 minutes Late Flig...</td>\n",
       "      <td>2015-02-22</td>\n",
       "    </tr>\n",
       "    <tr>\n",
       "      <td>14637</td>\n",
       "      <td>neutral</td>\n",
       "      <td>American</td>\n",
       "      <td>@AmericanAir Please bring American Airlines to...</td>\n",
       "      <td>2015-02-22</td>\n",
       "    </tr>\n",
       "    <tr>\n",
       "      <td>14638</td>\n",
       "      <td>negative</td>\n",
       "      <td>American</td>\n",
       "      <td>@AmericanAir you have my money, you change my ...</td>\n",
       "      <td>2015-02-22</td>\n",
       "    </tr>\n",
       "    <tr>\n",
       "      <td>14639</td>\n",
       "      <td>neutral</td>\n",
       "      <td>American</td>\n",
       "      <td>@AmericanAir we have 8 ppl so we need 2 know h...</td>\n",
       "      <td>2015-02-22</td>\n",
       "    </tr>\n",
       "  </tbody>\n",
       "</table>\n",
       "<p>14640 rows × 4 columns</p>\n",
       "</div>"
      ],
      "text/plain": [
       "      airline_sentiment         airline  \\\n",
       "0               neutral  Virgin America   \n",
       "1              positive  Virgin America   \n",
       "2               neutral  Virgin America   \n",
       "3              negative  Virgin America   \n",
       "4              negative  Virgin America   \n",
       "...                 ...             ...   \n",
       "14635          positive        American   \n",
       "14636          negative        American   \n",
       "14637           neutral        American   \n",
       "14638          negative        American   \n",
       "14639           neutral        American   \n",
       "\n",
       "                                                    text tweet_created  \n",
       "0                    @VirginAmerica What @dhepburn said.    2015-02-24  \n",
       "1      @VirginAmerica plus you've added commercials t...    2015-02-24  \n",
       "2      @VirginAmerica I didn't today... Must mean I n...    2015-02-24  \n",
       "3      @VirginAmerica it's really aggressive to blast...    2015-02-24  \n",
       "4      @VirginAmerica and it's a really big bad thing...    2015-02-24  \n",
       "...                                                  ...           ...  \n",
       "14635  @AmericanAir thank you we got on a different f...    2015-02-22  \n",
       "14636  @AmericanAir leaving over 20 minutes Late Flig...    2015-02-22  \n",
       "14637  @AmericanAir Please bring American Airlines to...    2015-02-22  \n",
       "14638  @AmericanAir you have my money, you change my ...    2015-02-22  \n",
       "14639  @AmericanAir we have 8 ppl so we need 2 know h...    2015-02-22  \n",
       "\n",
       "[14640 rows x 4 columns]"
      ]
     },
     "execution_count": 5,
     "metadata": {},
     "output_type": "execute_result"
    }
   ],
   "source": [
    "df_tweets['tweet_created'] = df_tweets['tweet_created'].apply(lambda x: x[:-15]) # take only date, without time stamp\n",
    "df_tweets['tweet_created'] = pd.to_datetime(df_tweets['tweet_created']) #covert to date type\n",
    "df_tweets"
   ]
  },
  {
   "cell_type": "markdown",
   "metadata": {},
   "source": [
    "Check the types:"
   ]
  },
  {
   "cell_type": "code",
   "execution_count": 6,
   "metadata": {},
   "outputs": [
    {
     "name": "stdout",
     "output_type": "stream",
     "text": [
      "<class 'pandas.core.frame.DataFrame'>\n",
      "RangeIndex: 14640 entries, 0 to 14639\n",
      "Data columns (total 4 columns):\n",
      "airline_sentiment    14640 non-null object\n",
      "airline              14640 non-null object\n",
      "text                 14640 non-null object\n",
      "tweet_created        14640 non-null datetime64[ns]\n",
      "dtypes: datetime64[ns](1), object(3)\n",
      "memory usage: 457.6+ KB\n"
     ]
    }
   ],
   "source": [
    "df_tweets.info()"
   ]
  },
  {
   "cell_type": "markdown",
   "metadata": {},
   "source": [
    "**Comment**: Data types are fixed."
   ]
  },
  {
   "cell_type": "markdown",
   "metadata": {},
   "source": [
    "## Data presentation and EDA\n",
    "\n",
    "### 1. Sentiments distribution\n",
    "\n",
    "I will start presenatation with exploring the ratio of sentiments. In simple terms - count how many tweet belong to each category - negative, neutral, positive."
   ]
  },
  {
   "cell_type": "markdown",
   "metadata": {},
   "source": [
    "`Step 1.` Prepare dataframe summarized by the sentiment (for presentation purposes):"
   ]
  },
  {
   "cell_type": "code",
   "execution_count": 7,
   "metadata": {},
   "outputs": [],
   "source": [
    "tweet_sent = pd.DataFrame() # create emplty dataframe\n",
    "\n",
    "# group by sentiment to calculate overall quantity of reviews beloning to each category \n",
    "tweet_sent['quantity'] = (df_tweets.groupby(['airline_sentiment'])['airline_sentiment'].count())\n",
    "\n",
    "# calculate the share of each category\n",
    "tweet_sent['ratio'] = (df_tweets.groupby(['airline_sentiment'])['airline_sentiment'].count()/len(df_tweets)).apply(lambda x: round(x,2))\n",
    "\n",
    "# append summarizing line\n",
    "tweet_sent = tweet_sent.append(tweet_sent.sum().rename('[total]'))"
   ]
  },
  {
   "cell_type": "markdown",
   "metadata": {},
   "source": [
    "`Step 2.` Initialize variables for storing data needed for plotting:"
   ]
  },
  {
   "cell_type": "code",
   "execution_count": 8,
   "metadata": {},
   "outputs": [],
   "source": [
    "sentiments = np.unique(df_tweets['airline_sentiment']) #list of sentiments\n",
    "colors = [\"#FF684C\", \"#FFDA66\", \"#8ACE7E\"] #colors for each class\n",
    "data = tweet_sent['quantity'].iloc[:-1] #quantity of samples of each class (sentiment)"
   ]
  },
  {
   "cell_type": "markdown",
   "metadata": {},
   "source": [
    "`Step 3.` Function to plot a pie chart: as arguments it takes the list of sentiments, list of colours to be used and quantity of samples per each class (sentiment)."
   ]
  },
  {
   "cell_type": "code",
   "execution_count": 9,
   "metadata": {},
   "outputs": [],
   "source": [
    "def plot_pie (sentiments, colors, data, title):\n",
    "    \n",
    "    fig, ax = plt.subplots(figsize=(10, 10), subplot_kw=dict(aspect=\"equal\"))\n",
    "    \n",
    "    # ---- code from the source: START ----\n",
    "    wedges, texts = ax.pie(data, wedgeprops=dict(width=0.5), startangle=-40, colors = colors)\n",
    "\n",
    "    bbox_props = dict(boxstyle=\"square,pad=0.3\", fc=\"w\", ec=\"k\", lw=0.72)\n",
    "    kw = dict(arrowprops=dict(arrowstyle=\"-\"),\n",
    "                  bbox=bbox_props, zorder=0, va=\"center\")\n",
    "\n",
    "    for i, p in enumerate(wedges):\n",
    "        ang = (p.theta2 - p.theta1)/2. + p.theta1\n",
    "        y = np.sin(np.deg2rad(ang))\n",
    "        x = np.cos(np.deg2rad(ang))\n",
    "        horizontalalignment = {-1: \"right\", 1: \"left\"}[int(np.sign(x))]\n",
    "        connectionstyle = \"angle,angleA=0,angleB={}\".format(ang)\n",
    "        kw[\"arrowprops\"].update({\"connectionstyle\": connectionstyle})\n",
    "        ax.annotate(sentiments[i], xy=(x, y), size = 14, xytext=(1.1*np.sign(x), 1.1*y),\n",
    "                        horizontalalignment=horizontalalignment, **kw)\n",
    "\n",
    "     # ---- code from the source: END ----\n",
    "    \n",
    "    ax.set_title(title, size = 16)\n",
    "    \n",
    "    plt.show()"
   ]
  },
  {
   "cell_type": "markdown",
   "metadata": {},
   "source": [
    "Plot itslef:"
   ]
  },
  {
   "cell_type": "code",
   "execution_count": 10,
   "metadata": {},
   "outputs": [
    {
     "data": {
      "image/png": "[encoded data removed]",
      "text/plain": [
       "<Figure size 720x720 with 1 Axes>"
      ]
     },
     "metadata": {},
     "output_type": "display_data"
    },
    {
     "data": {
      "text/html": [
       "<div>\n",
       "<style scoped>\n",
       "    .dataframe tbody tr th:only-of-type {\n",
       "        vertical-align: middle;\n",
       "    }\n",
       "\n",
       "    .dataframe tbody tr th {\n",
       "        vertical-align: top;\n",
       "    }\n",
       "\n",
       "    .dataframe thead th {\n",
       "        text-align: right;\n",
       "    }\n",
       "</style>\n",
       "<table border=\"1\" class=\"dataframe\">\n",
       "  <thead>\n",
       "    <tr style=\"text-align: right;\">\n",
       "      <th></th>\n",
       "      <th>quantity</th>\n",
       "      <th>ratio</th>\n",
       "    </tr>\n",
       "    <tr>\n",
       "      <th>airline_sentiment</th>\n",
       "      <th></th>\n",
       "      <th></th>\n",
       "    </tr>\n",
       "  </thead>\n",
       "  <tbody>\n",
       "    <tr>\n",
       "      <td>negative</td>\n",
       "      <td>9178.0</td>\n",
       "      <td>0.63</td>\n",
       "    </tr>\n",
       "    <tr>\n",
       "      <td>neutral</td>\n",
       "      <td>3099.0</td>\n",
       "      <td>0.21</td>\n",
       "    </tr>\n",
       "    <tr>\n",
       "      <td>positive</td>\n",
       "      <td>2363.0</td>\n",
       "      <td>0.16</td>\n",
       "    </tr>\n",
       "    <tr>\n",
       "      <td>[total]</td>\n",
       "      <td>14640.0</td>\n",
       "      <td>1.00</td>\n",
       "    </tr>\n",
       "  </tbody>\n",
       "</table>\n",
       "</div>"
      ],
      "text/plain": [
       "                   quantity  ratio\n",
       "airline_sentiment                 \n",
       "negative             9178.0   0.63\n",
       "neutral              3099.0   0.21\n",
       "positive             2363.0   0.16\n",
       "[total]             14640.0   1.00"
      ]
     },
     "execution_count": 10,
     "metadata": {},
     "output_type": "execute_result"
    }
   ],
   "source": [
    "plot_pie (sentiments, colors, data, \"Sentiment data distribution\")\n",
    "tweet_sent"
   ]
  },
  {
   "cell_type": "markdown",
   "metadata": {},
   "source": [
    "**Source of the pie chart code**: https://matplotlib.org/stable/gallery/pie_and_polar_charts/pie_and_donut_labels.html\n"
   ]
  },
  {
   "cell_type": "markdown",
   "metadata": {},
   "source": [
    "**Comment**: The main conclusion is: **data set is not balanced**. Majority of samples are labeled as *negative* (63%), meanwhile the least samples belong to *positive* class (16%). The class of *neutral* is acounted ofr roughly 21%. Such difference in quantites may lead to poorer recognition of least presented classes, in other words negative reviews will be recognized much better (and with higher confidence) than positive or neutral."
   ]
  },
  {
   "cell_type": "markdown",
   "metadata": {},
   "source": [
    "### 2. Distribution of tweets over the time"
   ]
  },
  {
   "cell_type": "markdown",
   "metadata": {},
   "source": [
    "Another interesting persective is ditribution of tweets over the time - when, which sentiment and how many. For this purpose I use subset of the main dataframe which contains only dates and sentiments:"
   ]
  },
  {
   "cell_type": "code",
   "execution_count": 11,
   "metadata": {},
   "outputs": [],
   "source": [
    "#subset of the main dataframe which contains only dates and sentiment \n",
    "df_date = df_tweets.loc[:,('tweet_created', 'airline_sentiment')] \n",
    "sentiments = np.unique(df_tweets['airline_sentiment']) #list of sentiments\n",
    "colors = [\"#FF684C\", \"#FFDA66\", \"#8ACE7E\"] #colors for each class\n"
   ]
  },
  {
   "cell_type": "markdown",
   "metadata": {},
   "source": [
    "Function to plot tweets from depending on the date they were posted:"
   ]
  },
  {
   "cell_type": "code",
   "execution_count": 12,
   "metadata": {},
   "outputs": [],
   "source": [
    "def plot_dates(df_date, sentiments, colors):\n",
    "    \n",
    "    fig, ax = plt.subplots(figsize=(16,8)) #size of the figure\n",
    "\n",
    "    count = 0 #counter to iterate through the colors list\n",
    "    for sent in sentiments:\n",
    "        df = df_date[df_date['airline_sentiment'] == sent]\n",
    "        df = pd.DataFrame(df.groupby('tweet_created').count())\n",
    "        sizes = df.iloc[:, 0] * 5 #reflect quantity of tweets per exact date in buble size\n",
    "        plt.scatter(df.index, df.iloc[:, 0], \n",
    "                    color = colors[count], label = sent, alpha = 0.7,\n",
    "                    s = sizes)\n",
    "        plt.legend(loc = 'upper left')\n",
    "        count = count + 1\n",
    "\n",
    "    plt.xticks(rotation=45, ha='right')\n",
    "    plt.title(\"\\nTrain dataset time distribution\\n\", size = 18)\n",
    "    plt.show()\n",
    "    "
   ]
  },
  {
   "cell_type": "code",
   "execution_count": 13,
   "metadata": {},
   "outputs": [
    {
     "data": {
      "image/png": "[encoded data removed]",
      "text/plain": [
       "<Figure size 1152x576 with 1 Axes>"
      ]
     },
     "metadata": {
      "needs_background": "light"
     },
     "output_type": "display_data"
    }
   ],
   "source": [
    "plot_dates(df_date, sentiments, colors)"
   ]
  },
  {
   "cell_type": "markdown",
   "metadata": {},
   "source": [
    "**Comment :** The data was collected on the specific dates throught the period of January-February 2015. This chart again shows that negative samples heavily outweigh positive and neutral in quantity. "
   ]
  },
  {
   "cell_type": "markdown",
   "metadata": {},
   "source": [
    "### 3. Ratio for airlines:"
   ]
  },
  {
   "cell_type": "markdown",
   "metadata": {},
   "source": [
    "Here I look into:\n",
    "1. how many reviews were collected for each airline\n",
    "2. structure of reviews for each airline"
   ]
  },
  {
   "cell_type": "markdown",
   "metadata": {},
   "source": [
    "`Perspective 1.` Shares of airlines:"
   ]
  },
  {
   "cell_type": "code",
   "execution_count": 14,
   "metadata": {},
   "outputs": [
    {
     "data": {
      "image/png": "[encoded data removed]",
      "text/plain": [
       "<Figure size 720x720 with 1 Axes>"
      ]
     },
     "metadata": {},
     "output_type": "display_data"
    },
    {
     "data": {
      "text/html": [
       "<div>\n",
       "<style scoped>\n",
       "    .dataframe tbody tr th:only-of-type {\n",
       "        vertical-align: middle;\n",
       "    }\n",
       "\n",
       "    .dataframe tbody tr th {\n",
       "        vertical-align: top;\n",
       "    }\n",
       "\n",
       "    .dataframe thead th {\n",
       "        text-align: right;\n",
       "    }\n",
       "</style>\n",
       "<table border=\"1\" class=\"dataframe\">\n",
       "  <thead>\n",
       "    <tr style=\"text-align: right;\">\n",
       "      <th></th>\n",
       "      <th>quantity</th>\n",
       "    </tr>\n",
       "    <tr>\n",
       "      <th>airline</th>\n",
       "      <th></th>\n",
       "    </tr>\n",
       "  </thead>\n",
       "  <tbody>\n",
       "    <tr>\n",
       "      <td>American</td>\n",
       "      <td>2759</td>\n",
       "    </tr>\n",
       "    <tr>\n",
       "      <td>Delta</td>\n",
       "      <td>2222</td>\n",
       "    </tr>\n",
       "    <tr>\n",
       "      <td>Southwest</td>\n",
       "      <td>2420</td>\n",
       "    </tr>\n",
       "    <tr>\n",
       "      <td>US Airways</td>\n",
       "      <td>2913</td>\n",
       "    </tr>\n",
       "    <tr>\n",
       "      <td>United</td>\n",
       "      <td>3822</td>\n",
       "    </tr>\n",
       "    <tr>\n",
       "      <td>Virgin America</td>\n",
       "      <td>504</td>\n",
       "    </tr>\n",
       "  </tbody>\n",
       "</table>\n",
       "</div>"
      ],
      "text/plain": [
       "                quantity\n",
       "airline                 \n",
       "American            2759\n",
       "Delta               2222\n",
       "Southwest           2420\n",
       "US Airways          2913\n",
       "United              3822\n",
       "Virgin America       504"
      ]
     },
     "execution_count": 14,
     "metadata": {},
     "output_type": "execute_result"
    }
   ],
   "source": [
    "#dataframe grouped by airline showing quantity of reviews (tweets)\n",
    "airlines = pd.DataFrame((df_tweets.groupby(['airline'])).count()['text']) \n",
    "airlines = airlines.rename(columns = {'text':'quantity'}) #rename column proeprly\n",
    "#plot results\n",
    "plot_pie (airlines.index, sns.cubehelix_palette(start=.5, rot=-.5), airlines['quantity'], \"\\n Shares of airlines: \\n\")\n",
    "plt.show()\n",
    "airlines"
   ]
  },
  {
   "cell_type": "markdown",
   "metadata": {},
   "source": [
    "**Comment:** Majority of reviews were left about United airlines and the least - about Virgin America airlines. US Airways, Southwest, Delta and Americat airlines poses more or less the same quantity of reviews."
   ]
  },
  {
   "cell_type": "markdown",
   "metadata": {},
   "source": [
    "`Perspective 2.` Sentiments distribution inside each airline - which reviews are more?"
   ]
  },
  {
   "cell_type": "code",
   "execution_count": 15,
   "metadata": {},
   "outputs": [],
   "source": [
    "#dataframe consolidated by ariline and sentiment, shows count of each\n",
    "airlines_sent = pd.DataFrame((df_tweets.groupby(['airline', 'airline_sentiment'])).count()['text'])\n",
    "airlines_sent = airlines_sent.rename(columns = {'text':'quantity'})\n",
    "\n",
    "airlines_ratio = []\n",
    "\n",
    "#iterate through airlines in order to calculate ration of tweets belonging to each class\n",
    "for airline in airlines.index:\n",
    "    neg_ratio = np.round(airlines_sent.loc[airline]['quantity'].loc['negative']/sum(airlines_sent.loc[airline]['quantity']), 2)\n",
    "    airlines_ratio.append(neg_ratio)\n",
    "    neu_ratio = np.round(airlines_sent.loc[airline]['quantity'].loc['neutral']/sum(airlines_sent.loc[airline]['quantity']), 2)\n",
    "    airlines_ratio.append(neu_ratio)\n",
    "    pos_ratio = np.round(airlines_sent.loc[airline]['quantity'].loc['positive']/sum(airlines_sent.loc[airline]['quantity']), 2)\n",
    "    airlines_ratio.append(pos_ratio)\n",
    "    \n",
    "airlines_sent['ratio'] = airlines_ratio #add ration column"
   ]
  },
  {
   "cell_type": "code",
   "execution_count": 16,
   "metadata": {},
   "outputs": [
    {
     "data": {
      "image/png": "[encoded data removed]",
      "text/plain": [
       "<Figure size 1080x1440 with 6 Axes>"
      ]
     },
     "metadata": {},
     "output_type": "display_data"
    },
    {
     "data": {
      "text/html": [
       "<div>\n",
       "<style scoped>\n",
       "    .dataframe tbody tr th:only-of-type {\n",
       "        vertical-align: middle;\n",
       "    }\n",
       "\n",
       "    .dataframe tbody tr th {\n",
       "        vertical-align: top;\n",
       "    }\n",
       "\n",
       "    .dataframe thead th {\n",
       "        text-align: right;\n",
       "    }\n",
       "</style>\n",
       "<table border=\"1\" class=\"dataframe\">\n",
       "  <thead>\n",
       "    <tr style=\"text-align: right;\">\n",
       "      <th></th>\n",
       "      <th></th>\n",
       "      <th>quantity</th>\n",
       "      <th>ratio</th>\n",
       "    </tr>\n",
       "    <tr>\n",
       "      <th>airline</th>\n",
       "      <th>airline_sentiment</th>\n",
       "      <th></th>\n",
       "      <th></th>\n",
       "    </tr>\n",
       "  </thead>\n",
       "  <tbody>\n",
       "    <tr>\n",
       "      <td rowspan=\"3\" valign=\"top\">American</td>\n",
       "      <td>negative</td>\n",
       "      <td>1960</td>\n",
       "      <td>0.71</td>\n",
       "    </tr>\n",
       "    <tr>\n",
       "      <td>neutral</td>\n",
       "      <td>463</td>\n",
       "      <td>0.17</td>\n",
       "    </tr>\n",
       "    <tr>\n",
       "      <td>positive</td>\n",
       "      <td>336</td>\n",
       "      <td>0.12</td>\n",
       "    </tr>\n",
       "    <tr>\n",
       "      <td rowspan=\"3\" valign=\"top\">Delta</td>\n",
       "      <td>negative</td>\n",
       "      <td>955</td>\n",
       "      <td>0.43</td>\n",
       "    </tr>\n",
       "    <tr>\n",
       "      <td>neutral</td>\n",
       "      <td>723</td>\n",
       "      <td>0.33</td>\n",
       "    </tr>\n",
       "    <tr>\n",
       "      <td>positive</td>\n",
       "      <td>544</td>\n",
       "      <td>0.24</td>\n",
       "    </tr>\n",
       "    <tr>\n",
       "      <td rowspan=\"3\" valign=\"top\">Southwest</td>\n",
       "      <td>negative</td>\n",
       "      <td>1186</td>\n",
       "      <td>0.49</td>\n",
       "    </tr>\n",
       "    <tr>\n",
       "      <td>neutral</td>\n",
       "      <td>664</td>\n",
       "      <td>0.27</td>\n",
       "    </tr>\n",
       "    <tr>\n",
       "      <td>positive</td>\n",
       "      <td>570</td>\n",
       "      <td>0.24</td>\n",
       "    </tr>\n",
       "    <tr>\n",
       "      <td rowspan=\"3\" valign=\"top\">US Airways</td>\n",
       "      <td>negative</td>\n",
       "      <td>2263</td>\n",
       "      <td>0.78</td>\n",
       "    </tr>\n",
       "    <tr>\n",
       "      <td>neutral</td>\n",
       "      <td>381</td>\n",
       "      <td>0.13</td>\n",
       "    </tr>\n",
       "    <tr>\n",
       "      <td>positive</td>\n",
       "      <td>269</td>\n",
       "      <td>0.09</td>\n",
       "    </tr>\n",
       "    <tr>\n",
       "      <td rowspan=\"3\" valign=\"top\">United</td>\n",
       "      <td>negative</td>\n",
       "      <td>2633</td>\n",
       "      <td>0.69</td>\n",
       "    </tr>\n",
       "    <tr>\n",
       "      <td>neutral</td>\n",
       "      <td>697</td>\n",
       "      <td>0.18</td>\n",
       "    </tr>\n",
       "    <tr>\n",
       "      <td>positive</td>\n",
       "      <td>492</td>\n",
       "      <td>0.13</td>\n",
       "    </tr>\n",
       "    <tr>\n",
       "      <td rowspan=\"3\" valign=\"top\">Virgin America</td>\n",
       "      <td>negative</td>\n",
       "      <td>181</td>\n",
       "      <td>0.36</td>\n",
       "    </tr>\n",
       "    <tr>\n",
       "      <td>neutral</td>\n",
       "      <td>171</td>\n",
       "      <td>0.34</td>\n",
       "    </tr>\n",
       "    <tr>\n",
       "      <td>positive</td>\n",
       "      <td>152</td>\n",
       "      <td>0.30</td>\n",
       "    </tr>\n",
       "  </tbody>\n",
       "</table>\n",
       "</div>"
      ],
      "text/plain": [
       "                                  quantity  ratio\n",
       "airline        airline_sentiment                 \n",
       "American       negative               1960   0.71\n",
       "               neutral                 463   0.17\n",
       "               positive                336   0.12\n",
       "Delta          negative                955   0.43\n",
       "               neutral                 723   0.33\n",
       "               positive                544   0.24\n",
       "Southwest      negative               1186   0.49\n",
       "               neutral                 664   0.27\n",
       "               positive                570   0.24\n",
       "US Airways     negative               2263   0.78\n",
       "               neutral                 381   0.13\n",
       "               positive                269   0.09\n",
       "United         negative               2633   0.69\n",
       "               neutral                 697   0.18\n",
       "               positive                492   0.13\n",
       "Virgin America negative                181   0.36\n",
       "               neutral                 171   0.34\n",
       "               positive                152   0.30"
      ]
     },
     "execution_count": 16,
     "metadata": {},
     "output_type": "execute_result"
    }
   ],
   "source": [
    "\n",
    "fig, ax = plt.subplots(3,2, figsize=(15, 20), subplot_kw=dict(aspect=\"equal\"))   \n",
    "\n",
    "count = 0\n",
    "\n",
    "for k in range(3):\n",
    "    for j in range (2):\n",
    "    \n",
    "        data = airlines_sent.loc[airlines.index[count]]['quantity']\n",
    "     \n",
    "        wedges, texts = ax[k, j].pie(data, wedgeprops=dict(width=0.5), startangle=-40, colors = colors)\n",
    "        bbox_props = dict(boxstyle=\"square,pad=0.3\", fc=\"w\", ec=\"k\", lw=0.72)\n",
    "        kw = dict(arrowprops=dict(arrowstyle=\"-\"),\n",
    "                  bbox=bbox_props, zorder=0, va=\"center\")\n",
    "\n",
    "        for i, p in enumerate(wedges):\n",
    "            ang = (p.theta2 - p.theta1)/2. + p.theta1\n",
    "            y = np.sin(np.deg2rad(ang))\n",
    "            x = np.cos(np.deg2rad(ang))\n",
    "            horizontalalignment = {-1: \"right\", 1: \"left\"}[int(np.sign(x))]\n",
    "            connectionstyle = \"angle,angleA=0,angleB={}\".format(ang)\n",
    "            kw[\"arrowprops\"].update({\"connectionstyle\": connectionstyle})\n",
    "            ax[k, j].annotate(sentiments[i], xy=(x, y), size = 14, xytext=(1.1*np.sign(x), 1.1*y),\n",
    "                        horizontalalignment=horizontalalignment, **kw)\n",
    "\n",
    "        ax[k, j].set_title(airlines.index[count], size = 16)\n",
    "        count = count + 1\n",
    "\n",
    "plt.show()\n",
    "airlines_sent"
   ]
  },
  {
   "cell_type": "markdown",
   "metadata": {},
   "source": [
    "**Comment:** Among all airlines, the biggest quantity of negative reviews belongs to United airlines and the least negative reviews has Virgin America airlines. Yet, it does not mean that the first is the worst and the latter is the best. The explanation is that the dataset is not balanced both in terms of sentiments and in terms of airlines.Science the difference in review is significant. it worths to evaluate each airline onlywhithin itself in percent. This way, the biggest share of negative reviews in percent belongs to US Airways (neraly 78%), while the least belongs to Virgin America (nearly 38%). The same airline has the biggest she of positive reviews - 30%. "
   ]
  },
  {
   "cell_type": "markdown",
   "metadata": {},
   "source": [
    "## Cleaning data"
   ]
  },
  {
   "cell_type": "markdown",
   "metadata": {},
   "source": [
    "Cleaning data  is crucial for the model's performance. In order to distinguish between the classes, representative of each has to have special traits and somehow differ from another, e.g. words 'good', 'joy', 'amazing' are more likely to be met in positive review rather than in negative. So word 'good' becomes kind of a trait of positive review while 'bad' becomes a trait of negative one. But, raw tweets contain a lot of tokens, not all of them are so concrete as 'good' or 'bad'. There are a lot of bottlenecks and here is how I address it:\n",
    "\n",
    "1. Since machines read charachters by their ASCII code, 'c' and 'C' are undestood as different symbols for the machine. And hence, word 'Good' and 'good' will be undestood as different tokens. To prevent it, first step is turn all word into lower case.\n",
    "\n",
    "2. What about words that can be met in all types of reviews like 'I', 'only', 'before' or non-alpha charachters like '@', '?' or '.' ? Those words and charachters are misleading, even human cannot say if those are signs of bad or good review. Hence, all those have to be removed, as they carry next to zero information about the possbile sentiment.\n",
    "\n",
    "3. The same word may take different linguistic froms, it depends on the context but do not change the sense. In order to group these various forms of the word together and treat them as a sigle term, I use lammatization. This is a text normalization technique which resolves words to their linguistic roots, and subsequently helps to increase recognition of the sentiment and hence, - improve performance."
   ]
  },
  {
   "cell_type": "markdown",
   "metadata": {},
   "source": [
    "**1. Lower**: Change to lower case all samples."
   ]
  },
  {
   "cell_type": "markdown",
   "metadata": {},
   "source": [
    "This step is needed to treat \"Good\" and \"good\" as the same word."
   ]
  },
  {
   "cell_type": "code",
   "execution_count": 17,
   "metadata": {
    "scrolled": true
   },
   "outputs": [],
   "source": [
    "df_tweets['text'] = df_tweets['text'].str.lower()"
   ]
  },
  {
   "cell_type": "markdown",
   "metadata": {},
   "source": [
    "**2. Removing confusing tokens and empty tweets**"
   ]
  },
  {
   "cell_type": "markdown",
   "metadata": {},
   "source": [
    "- Stopwords and punctuation\n",
    "\n",
    "List of english stopwords contain "
   ]
  },
  {
   "cell_type": "code",
   "execution_count": 18,
   "metadata": {},
   "outputs": [],
   "source": [
    "stopwords_list = list(stopwords.words('english'))"
   ]
  },
  {
   "cell_type": "code",
   "execution_count": 19,
   "metadata": {},
   "outputs": [],
   "source": [
    "df_tweets['text'] = df_tweets['text'].apply(lambda x: \" \".join([word for word in x.split() if word not in stopwords_list and word.isalpha()]))"
   ]
  },
  {
   "cell_type": "markdown",
   "metadata": {},
   "source": [
    "- Various low-meaningful tokens: non-unicode, URL, @tagging, e-mail"
   ]
  },
  {
   "cell_type": "code",
   "execution_count": 20,
   "metadata": {},
   "outputs": [],
   "source": [
    "pattern0 = r\"[^\\x00-\\x7F]+\\ *(?:[^\\x00-\\x7F]| )*\" #non-unicode\n",
    "\n",
    "#URL\n",
    "pattern1 = r\"(https?:\\/\\/)?(www\\.)?[-a-zA-Z0-9@:%._\\+~#=]{1,256}\\.[a-zA-Z0-9()]{1,6}\\b([-a-zA-Z0-9()@:%_\\+.~#?&//=]*)\" \n",
    "\n",
    "pattern2 = r\"(^|\\W)@\\b([-a-zA-Z0-9._]{3,25})\\b\" #tagging\n",
    "\n",
    "#e-mail\n",
    "pattern3 = r\"[a-z0-9!#$%&'*+/=?^_`{|}~-]+(?:\\.[a-z0-9!#$%&'*+/=?^_`{|}~-]+)*@(?:[a-z0-9](?:[a-z0-9-]*[a-z0-9])?\\.)+[a-z0-9](?:[a-z0-9-]*[a-z0-9])?\"\n",
    "\n",
    "patterns = [pattern0, pattern1, pattern2, pattern3]\n",
    "\n",
    "\n",
    "for pattern in patterns:\n",
    "    df_tweets['text'] = df_tweets['text'].apply(lambda x: re.sub(pattern, \" \", x))\n",
    "\n"
   ]
  },
  {
   "cell_type": "markdown",
   "metadata": {},
   "source": [
    "- Empty tweets:"
   ]
  },
  {
   "cell_type": "code",
   "execution_count": 21,
   "metadata": {},
   "outputs": [],
   "source": [
    "df_tweets = df_tweets[df_tweets['text'].str.len()>0]"
   ]
  },
  {
   "cell_type": "code",
   "execution_count": 22,
   "metadata": {},
   "outputs": [
    {
     "data": {
      "text/html": [
       "<div>\n",
       "<style scoped>\n",
       "    .dataframe tbody tr th:only-of-type {\n",
       "        vertical-align: middle;\n",
       "    }\n",
       "\n",
       "    .dataframe tbody tr th {\n",
       "        vertical-align: top;\n",
       "    }\n",
       "\n",
       "    .dataframe thead th {\n",
       "        text-align: right;\n",
       "    }\n",
       "</style>\n",
       "<table border=\"1\" class=\"dataframe\">\n",
       "  <thead>\n",
       "    <tr style=\"text-align: right;\">\n",
       "      <th></th>\n",
       "      <th>airline_sentiment</th>\n",
       "      <th>airline</th>\n",
       "      <th>text</th>\n",
       "      <th>tweet_created</th>\n",
       "    </tr>\n",
       "  </thead>\n",
       "  <tbody>\n",
       "    <tr>\n",
       "      <td>1</td>\n",
       "      <td>positive</td>\n",
       "      <td>Virgin America</td>\n",
       "      <td>plus added commercials</td>\n",
       "      <td>2015-02-24</td>\n",
       "    </tr>\n",
       "    <tr>\n",
       "      <td>2</td>\n",
       "      <td>neutral</td>\n",
       "      <td>Virgin America</td>\n",
       "      <td>must mean need take another</td>\n",
       "      <td>2015-02-24</td>\n",
       "    </tr>\n",
       "    <tr>\n",
       "      <td>3</td>\n",
       "      <td>negative</td>\n",
       "      <td>Virgin America</td>\n",
       "      <td>really aggressive blast obnoxious faces little...</td>\n",
       "      <td>2015-02-24</td>\n",
       "    </tr>\n",
       "    <tr>\n",
       "      <td>4</td>\n",
       "      <td>negative</td>\n",
       "      <td>Virgin America</td>\n",
       "      <td>really big bad thing</td>\n",
       "      <td>2015-02-24</td>\n",
       "    </tr>\n",
       "    <tr>\n",
       "      <td>5</td>\n",
       "      <td>negative</td>\n",
       "      <td>Virgin America</td>\n",
       "      <td>seriously would pay flight seats really bad th...</td>\n",
       "      <td>2015-02-24</td>\n",
       "    </tr>\n",
       "    <tr>\n",
       "      <td>6</td>\n",
       "      <td>positive</td>\n",
       "      <td>Virgin America</td>\n",
       "      <td>nearly every time fly vx go away</td>\n",
       "      <td>2015-02-24</td>\n",
       "    </tr>\n",
       "    <tr>\n",
       "      <td>7</td>\n",
       "      <td>neutral</td>\n",
       "      <td>Virgin America</td>\n",
       "      <td>really missed prime opportunity men without hats</td>\n",
       "      <td>2015-02-24</td>\n",
       "    </tr>\n",
       "    <tr>\n",
       "      <td>9</td>\n",
       "      <td>positive</td>\n",
       "      <td>Virgin America</td>\n",
       "      <td>arrived hour good</td>\n",
       "      <td>2015-02-24</td>\n",
       "    </tr>\n",
       "    <tr>\n",
       "      <td>10</td>\n",
       "      <td>neutral</td>\n",
       "      <td>Virgin America</td>\n",
       "      <td>know suicide second leading cause death among ...</td>\n",
       "      <td>2015-02-24</td>\n",
       "    </tr>\n",
       "    <tr>\n",
       "      <td>11</td>\n",
       "      <td>positive</td>\n",
       "      <td>Virgin America</td>\n",
       "      <td>pretty much better minimal</td>\n",
       "      <td>2015-02-24</td>\n",
       "    </tr>\n",
       "  </tbody>\n",
       "</table>\n",
       "</div>"
      ],
      "text/plain": [
       "   airline_sentiment         airline  \\\n",
       "1           positive  Virgin America   \n",
       "2            neutral  Virgin America   \n",
       "3           negative  Virgin America   \n",
       "4           negative  Virgin America   \n",
       "5           negative  Virgin America   \n",
       "6           positive  Virgin America   \n",
       "7            neutral  Virgin America   \n",
       "9           positive  Virgin America   \n",
       "10           neutral  Virgin America   \n",
       "11          positive  Virgin America   \n",
       "\n",
       "                                                 text tweet_created  \n",
       "1                              plus added commercials    2015-02-24  \n",
       "2                         must mean need take another    2015-02-24  \n",
       "3   really aggressive blast obnoxious faces little...    2015-02-24  \n",
       "4                                really big bad thing    2015-02-24  \n",
       "5   seriously would pay flight seats really bad th...    2015-02-24  \n",
       "6                    nearly every time fly vx go away    2015-02-24  \n",
       "7    really missed prime opportunity men without hats    2015-02-24  \n",
       "9                                   arrived hour good    2015-02-24  \n",
       "10  know suicide second leading cause death among ...    2015-02-24  \n",
       "11                         pretty much better minimal    2015-02-24  "
      ]
     },
     "execution_count": 22,
     "metadata": {},
     "output_type": "execute_result"
    }
   ],
   "source": [
    "df_tweets.head(10)"
   ]
  },
  {
   "cell_type": "markdown",
   "metadata": {},
   "source": [
    "**3. Text normalization**"
   ]
  },
  {
   "cell_type": "markdown",
   "metadata": {},
   "source": [
    "Text normalization is done with the help of lemmatization. This is the technique which helps to group various forms of the word together and treat them as a sigle term. Here it is implemeted throught resolving words to their linguistic roots, and subsequently helps to increase recognition of the sentiment and hence, - improve performance."
   ]
  },
  {
   "cell_type": "code",
   "execution_count": 23,
   "metadata": {},
   "outputs": [],
   "source": [
    "wnl = WordNetLemmatizer() # Lemmatizer from nltk"
   ]
  },
  {
   "cell_type": "code",
   "execution_count": 24,
   "metadata": {},
   "outputs": [
    {
     "name": "stderr",
     "output_type": "stream",
     "text": [
      "/Users/maria/opt/anaconda3/lib/python3.7/site-packages/ipykernel_launcher.py:1: SettingWithCopyWarning: \n",
      "A value is trying to be set on a copy of a slice from a DataFrame.\n",
      "Try using .loc[row_indexer,col_indexer] = value instead\n",
      "\n",
      "See the caveats in the documentation: http://pandas.pydata.org/pandas-docs/stable/user_guide/indexing.html#returning-a-view-versus-a-copy\n",
      "  \"\"\"Entry point for launching an IPython kernel.\n",
      "/Users/maria/opt/anaconda3/lib/python3.7/site-packages/ipykernel_launcher.py:2: SettingWithCopyWarning: \n",
      "A value is trying to be set on a copy of a slice from a DataFrame.\n",
      "Try using .loc[row_indexer,col_indexer] = value instead\n",
      "\n",
      "See the caveats in the documentation: http://pandas.pydata.org/pandas-docs/stable/user_guide/indexing.html#returning-a-view-versus-a-copy\n",
      "  \n"
     ]
    }
   ],
   "source": [
    "df_tweets[\"text\"] = df_tweets[\"text\"].apply(lambda x: nltk.word_tokenize(x))\n",
    "df_tweets[\"text\"] = df_tweets[\"text\"].apply(lambda x: \" \".join([wnl.lemmatize(w) for w in x]))"
   ]
  },
  {
   "cell_type": "code",
   "execution_count": 25,
   "metadata": {},
   "outputs": [
    {
     "data": {
      "text/html": [
       "<div>\n",
       "<style scoped>\n",
       "    .dataframe tbody tr th:only-of-type {\n",
       "        vertical-align: middle;\n",
       "    }\n",
       "\n",
       "    .dataframe tbody tr th {\n",
       "        vertical-align: top;\n",
       "    }\n",
       "\n",
       "    .dataframe thead th {\n",
       "        text-align: right;\n",
       "    }\n",
       "</style>\n",
       "<table border=\"1\" class=\"dataframe\">\n",
       "  <thead>\n",
       "    <tr style=\"text-align: right;\">\n",
       "      <th></th>\n",
       "      <th>airline_sentiment</th>\n",
       "      <th>airline</th>\n",
       "      <th>text</th>\n",
       "      <th>tweet_created</th>\n",
       "    </tr>\n",
       "  </thead>\n",
       "  <tbody>\n",
       "    <tr>\n",
       "      <td>1</td>\n",
       "      <td>positive</td>\n",
       "      <td>Virgin America</td>\n",
       "      <td>plus added commercial</td>\n",
       "      <td>2015-02-24</td>\n",
       "    </tr>\n",
       "    <tr>\n",
       "      <td>2</td>\n",
       "      <td>neutral</td>\n",
       "      <td>Virgin America</td>\n",
       "      <td>must mean need take another</td>\n",
       "      <td>2015-02-24</td>\n",
       "    </tr>\n",
       "    <tr>\n",
       "      <td>3</td>\n",
       "      <td>negative</td>\n",
       "      <td>Virgin America</td>\n",
       "      <td>really aggressive blast obnoxious face little ...</td>\n",
       "      <td>2015-02-24</td>\n",
       "    </tr>\n",
       "    <tr>\n",
       "      <td>4</td>\n",
       "      <td>negative</td>\n",
       "      <td>Virgin America</td>\n",
       "      <td>really big bad thing</td>\n",
       "      <td>2015-02-24</td>\n",
       "    </tr>\n",
       "    <tr>\n",
       "      <td>5</td>\n",
       "      <td>negative</td>\n",
       "      <td>Virgin America</td>\n",
       "      <td>seriously would pay flight seat really bad thi...</td>\n",
       "      <td>2015-02-24</td>\n",
       "    </tr>\n",
       "  </tbody>\n",
       "</table>\n",
       "</div>"
      ],
      "text/plain": [
       "  airline_sentiment         airline  \\\n",
       "1          positive  Virgin America   \n",
       "2           neutral  Virgin America   \n",
       "3          negative  Virgin America   \n",
       "4          negative  Virgin America   \n",
       "5          negative  Virgin America   \n",
       "\n",
       "                                                text tweet_created  \n",
       "1                              plus added commercial    2015-02-24  \n",
       "2                        must mean need take another    2015-02-24  \n",
       "3  really aggressive blast obnoxious face little ...    2015-02-24  \n",
       "4                               really big bad thing    2015-02-24  \n",
       "5  seriously would pay flight seat really bad thi...    2015-02-24  "
      ]
     },
     "execution_count": 25,
     "metadata": {},
     "output_type": "execute_result"
    }
   ],
   "source": [
    "df_tweets.head()"
   ]
  },
  {
   "cell_type": "markdown",
   "metadata": {},
   "source": [
    "**Comment :** Cleaning is done"
   ]
  },
  {
   "cell_type": "markdown",
   "metadata": {},
   "source": [
    "## Building, Hypertuning Training Neural Network model"
   ]
  },
  {
   "cell_type": "markdown",
   "metadata": {},
   "source": [
    "### Methodology\n"
   ]
  },
  {
   "cell_type": "markdown",
   "metadata": {},
   "source": [
    "\n",
    "**`Step 1: Prepare tweets`**\n",
    "\n",
    "1. Tokenize tweets to the word level with the help of \n",
    "Vocab (Vocabluary) is the array of all unique features (words) from the whole dataset that remained after cleaning. These words are keys and values are indecies of these words incremented by one: \n",
    "\n",
    ">*If the list of all words woule be  ['I', 'love', 'you', ...], than the vocabluary would be {'I':1, 'love':2, 'you':3, ....}*\n",
    "\n",
    "---\n",
    "\n",
    "**`Step 2: Develop and run Neural Network bulding class`**\n",
    "\n",
    "The class has ro perform the follwoing tasks:\n",
    "1. Encode textual data samples as numbers - X\n",
    "2. Encode lables (sentiments) as numbers - Y\n",
    "3. Split X and Y on test and training sets\n",
    "4. Build neural network as per given para,etrs and architectire\n",
    "5. Fit model on training data\n",
    "6. Predict on test data\n",
    "\n",
    "This class helps to create Neural Network entity of Keras. The main idea here is to save time during hyperparametrs tunning and support work with friendly interface through the methods which help to reduce typos and discrepencies.\n",
    "Before defining fields and methods this class would consist of, it is crucial to:\n",
    "\n",
    "- decide on the type of Neural Network\n",
    "- pre-develop architecture of the model\n",
    "\n",
    "To do the first, one need to consider type of the problem, this one includes text seuqneces (natural language), and hence, the optimal options would be RNN (Recurrent Neural Network) and/or CNN (Convolutional Neural Network). For this course work I will implement the model combined of CNN and RNN layers. \n",
    "\n",
    "While CNN offer only 1 possible sutiable option for the text sequence problem:\n",
    "- 1D convolutional layer followed by MaxPooling layer\n",
    "\n",
    "RNN can offer several options of layers for the task of NLP, e.g. \n",
    "- simple RNN layer\n",
    "- layer with gated recurrent units - GRU\n",
    "- layer with technique long short-term memory - LSTM\n",
    "- bidirectional variations of recurrent layers (both LSTM and GRU) \n",
    "\n",
    "Choosing one of the last 4 options (GRU, LSTM, biderectional GRU, biderctinoal LSTM) would be the part of hypeparametrs tunning process. Hence, the possible architectures are the following:\n",
    "\n",
    "|Layer type   ||Option 1       |Option 2       |Option 3       |Option 4       |\n",
    "|:------------||:--------------|:--------------|:--------------|:--------------|      \n",
    "|**Input**    ||Embedding layer|Embedding layer|Embedding layer|Embedding layer|\n",
    "|             ||               |               |               |               |\n",
    "|**Hidden**   ||Conv1D         |Conv1D         |Conv1D         |Conv1D         |\n",
    "|             ||MaxPooling     |MaxPooling     |MaxPooling     |MaxPooling     |\n",
    "|             ||GRU            |LSTM           |bi_GRU         |bi_LSTM        |\n",
    "|             ||               |               |               |               |\n",
    "|**Output**   ||Dense          |Dense          |Dense          |Dense          |\n",
    "\n",
    "\n",
    "\n",
    "In order to create NN models with proposed architectures, NN building class should have the following:\n",
    "\n",
    "- **Fields**:\n",
    "    \n",
    "|Field|Description|\n",
    "|:----|:----|\n",
    "|**X, Y**|store data (X) and respective labels (Y) accordingly|\n",
    "|**X_train, y_train, X_test, y_test**| X and Y both split into test and training sets|\n",
    "|**y_pred**| field to store decoded predictions (labels 0, 1 or 2)|\n",
    "|**y_pred_probs**|field to store prediction probabilities of each class ( e.g. [0.1, 0.2, 0.7] -> predicted label is 2 with confidence 70%)|\n",
    "|**model**|field to store model|\n",
    "|**sentiments**|list of sentiments (= class labels)|\n",
    "|**max_features**|number of words to consider as features|\n",
    "|**maxlen**|cut texts after this number of words|\n",
    "|**encode_dict**|dictionary with encoded sentiments if the form {sentiment:index}, where index = 0,1 or 2|\n",
    "|**words**|tokenized data frame (word level)|\n",
    "|**self_history**|initialize field for keras history object|\n",
    "\n",
    "    \n",
    "- **Methods**:\n",
    "\n",
    "|Method|Description short|\n",
    "|:---|:---|\n",
    "|**Initialization**|Initialize all fields of the class|\n",
    "|**Encode and split**|Encodes data samples and respective lables (sentiments) as numbers|\n",
    "|**Build model**|Takes hyperparametrs and other guiding variables as input and build respective NN model|\n",
    "|**Fit**|Fit built model on training data|\n",
    "|**Predict**|Return already decoded preidctions|\n",
    "\n",
    "Detailed description of the methods is further.\n",
    "\n",
    "---\n",
    "\n",
    "**`Step 3: Tune hyperparametrs`**\n",
    "\n",
    "Overall there are the following hyperparametrs:\n",
    "\n",
    "- `Network level`:\n",
    "    - quantity and type of hidden layers\n",
    "   \n",
    "- `Layer level`:\n",
    "    - quantity of hidden units\n",
    "    - quantity of filters\n",
    "    - activation function\n",
    "    - recurrent activation function\n",
    "    - dropout rate\n",
    "    - recurrent dropout rate\n",
    "    \n",
    "    \n",
    "- `Compilation stage`:\n",
    "    - learning rate\n",
    "    - momentum\n",
    "\n",
    "\n",
    "Out the mentioned above hypreparametrs, the following will be hypertuned: \n",
    "\n",
    "- `Network level`:\n",
    "    - type of layers: [GRU, LSTM, biderectional GRU, biderctinoal LSTM]\n",
    "- `Layer level`:\n",
    "    - quantity of hidden units: [32, until converge)\n",
    "    - quantity of filters: [2, until converge)\n",
    "    - dropout rate: [0.1, 0.15, 0.2, 0.25, 0.3, 0.35, 0.4, 0.45]\n",
    "    - recurrent dropout rate: [0.1, 0.15, 0.2, 0.25, 0.3, 0.35, 0.4, 0.45]\n",
    "\n",
    "And the rest will be set up as follows:\n",
    "\n",
    "**Hyperparametrs**\n",
    "- activation function: default 'tahn'\n",
    "- recurrent activation function: default 'sigmoid'\n",
    "- learning rate: default value\n",
    "- momentum: default value\n",
    "\n",
    "**Strategy**    \n",
    "- `Optimizer`: RMSprop (root mean squared propagation)\n",
    "- `Loss`: sparse categorical crossentropy\n",
    "\n",
    "\n",
    "**Other**\n",
    "- epochs: \n",
    "    - 10 epochs for hypertunning with early breake after 1 epoch with hihger loss\n",
    "    - for final model will be found heuristically\n",
    "- batch_size: 32 samples"
   ]
  },
  {
   "cell_type": "markdown",
   "metadata": {},
   "source": [
    "#### 1. Prepare tweets"
   ]
  },
  {
   "cell_type": "markdown",
   "metadata": {},
   "source": [
    "In the future, not the whole vocabluarry might be used. In order to ensure the best performance, I use nltk frequency distribution function that creates the from the text the list of tuples of form (word, frequency). This helps to sort all unique words (read all fetures) in desceding order starting from the most popular. This allows to use top N words in the future for the training purposes: "
   ]
  },
  {
   "cell_type": "code",
   "execution_count": 26,
   "metadata": {},
   "outputs": [],
   "source": [
    "words = np.array(df_tweets['text'].apply(lambda x: nltk.word_tokenize(x))) #tokenize tweets to the words level\n",
    "tweet_lens = [len(i) for i in words]#array to store lengths of each tweet (in quantity of words)\n",
    "\n",
    "words_str = nltk.FreqDist(nltk.word_tokenize(\" \".join(df_tweets[\"text\"]))).most_common() #tupels (word, frequency)\n",
    "unique_words = [i[0] for i in words_str]#array to store all unique words\n",
    "vocab = {k:v for k,v in zip(unique_words, np.arange(1, len(unique_words)))}  #create vocabluary       \n",
    "vocab_size = len(vocab) #size of the vocabluary"
   ]
  },
  {
   "cell_type": "markdown",
   "metadata": {},
   "source": [
    "#### 2. NN_builder class"
   ]
  },
  {
   "cell_type": "markdown",
   "metadata": {},
   "source": [
    "#### Detailed description of the methods:\n",
    "\n",
    "***Initialization***:\n",
    "\n",
    "Initialize all fields of the class. Method is called automatically once the instance of the class is created and takes as input:\n",
    "\n",
    "- `maxlen` - integer, standard length for all tweets (defined heuristically) - longer tweets will be cut off and shorter will be extended with zeros to the defined length. \n",
    "- `max_features` - integer, in simple terms it is the size of vocabluary to be used for NN,This value is arbitrary and can differ from actual quantity of unique terms used in corpora.\n",
    "- `words` - tensor with shape (max_len, n) containing tokenized to words level tweets, where n - quantity of samples \n",
    "- `sentiments` - tensor containing unique sentiments of shape (n,), where n - quantity of sentiments\n",
    "\n",
    "---\n",
    "\n",
    "***Encode and split***:\n",
    "\n",
    "This method performs the following:\n",
    "1. encoding tweets as numerical vecotrs:\n",
    "    - creates an instance of Keras Tokenizer with respect to max_features\n",
    "    - fits instance on the tokenized data\n",
    "    - encodes textual tweets as numerical vecors of fixed magnitude max_len\n",
    "2. encoding labels as numbers:\n",
    "    - e.g. negative as 0, nutral as 1 and positive as 2\n",
    "3. splitting dataset and respective labels on training and testing subsets\n",
    "\n",
    "---\n",
    "\n",
    "***Build model***:\n",
    "\n",
    "This method takes as input name(type) of the RNN layer, number of units for hidden layers, dropout rate, recurrent dropout rate, number of filters for CNN layer. Unpon the input it builds a keras NN model as per architecture described above and passed type of the RNN layer.\n",
    "\n",
    "---\n",
    "\n",
    "***Fit***:\n",
    "\n",
    "Compiles and fits model on the data. As input it takes number epochs, flag that defines to return history object or not (set as False by dafault), number of epochs after the epoch with worse validation loss, after which running is interrupted.  \n",
    "\n",
    "---\n",
    "***Predict***:\n",
    "\n",
    "Returns prediction of the model in form of 1D tensor with sentiments encoded as numbers. \n",
    "\n",
    "---\n"
   ]
  },
  {
   "cell_type": "markdown",
   "metadata": {},
   "source": [
    "The class itself:"
   ]
  },
  {
   "cell_type": "code",
   "execution_count": 27,
   "metadata": {},
   "outputs": [],
   "source": [
    "class NN_assistant (object):\n",
    "    \n",
    "    \n",
    "    \"\"\"\n",
    "    Initialization method\n",
    "    \"\"\"\n",
    "    \n",
    "    def __init__(self, words, max_features, maxlen, sentiments):\n",
    "     \n",
    "        # initialize X and Y\n",
    "        self.X = None\n",
    "        self.y = None\n",
    "        \n",
    "        # initialize train and test subsetst for each\n",
    "        self.X_train = None\n",
    "        self.X_test = None \n",
    "        self.y_train = None\n",
    "        self.y_test = None\n",
    "        \n",
    "        # field to store prediction\n",
    "        self.y_pred = []\n",
    "        \n",
    "        # field to store prediction probabilities of each class\n",
    "        self.y_pred_probs = None\n",
    "        \n",
    "        # field to store model\n",
    "        self.model = None\n",
    "\n",
    "        # list of sentiments (= class labels)\n",
    "        self.sentiments = sentiments\n",
    "        \n",
    "        # Number of words to consider as features\n",
    "        self.max_features = max_features\n",
    "        \n",
    "        # Cut texts after this number of words \n",
    "        self.maxlen = maxlen\n",
    "        \n",
    "        # Dictionary with encoded sentiments if the form {sentiment:index}, where index = 0,1 or 2\n",
    "        self.encode_dict = {k:v for k,v in zip(self.sentiments, np.arange(len(self.sentiments)))}\n",
    "        \n",
    "        # Tokenized data frame (word level)\n",
    "        self.words = words\n",
    "        \n",
    "        # Initialize field for keras history object\n",
    "        self_history = None\n",
    "    \n",
    "    \n",
    "    \"\"\"\n",
    "    Encode labels and samples; split data and lables into trainit and test subsets\n",
    "    \"\"\"\n",
    "    \n",
    "    def encode_n_split (self):\n",
    "\n",
    "        # Transforms text to a sequence of integers\n",
    "        tokenizer = Tokenizer(num_words = self.max_features, lower = True, split = ' ') # init tokenizer\n",
    "        tokenizer.fit_on_texts(self.words) # fit on data\n",
    "        self.X = tokenizer.texts_to_sequences(self.words) # tokrnization process itself\n",
    "        \n",
    "        # Pad sequences to the same length\n",
    "        self.X = pad_sequences(self.X, padding='pre', maxlen = self.maxlen)\n",
    "        self.y = np.array([self.encode_dict[sent] for sent in list(df_tweets['airline_sentiment'])])\n",
    "    \n",
    "        #split training set\n",
    "        self.X_train, self.X_test, self.y_train, self.y_test = train_test_split(self.X, self.y, test_size=0.2, \n",
    "                                                                                random_state=42)\n",
    "    \n",
    "    \"\"\"\n",
    "    Model initialization and bulding (adding layers)\n",
    "    \"\"\"\n",
    "    \n",
    "    # build model\n",
    "    def build_model(self, option, units, dropout, recurrent_dropout, filter_):\n",
    "        \n",
    "        self.model = Sequential()\n",
    "        \n",
    "        self.model.add(layers.Embedding(self.max_features, units, input_length = self.maxlen))\n",
    "        self.model.add(layers.Conv1D(units, kernel_size = filter_, padding ='same', activation = 'relu'))\n",
    "        self.model.add(layers.MaxPooling1D(pool_size = filter_))\n",
    "        \n",
    "        # add layer depending on chosen option of the hidden layer\n",
    "        \n",
    "        if option == 'GRU':\n",
    "            self.model.add(layers.GRU(units, dropout = dropout,\n",
    "                                      recurrent_dropout = recurrent_dropout))\n",
    "        if option == 'LSTM':\n",
    "            self.model.add(layers.LSTM(units, dropout = dropout,\n",
    "                                       recurrent_dropout = recurrent_dropout))\n",
    "        if option == 'bi_GRU':\n",
    "            self.model.add(layers.Bidirectional(layers.GRU(units, dropout = dropout,\n",
    "                                                           recurrent_dropout = recurrent_dropout)))\n",
    "        if option == 'bi_LSTM':\n",
    "            self.model.add(layers.Bidirectional(layers.LSTM(units, dropout = dropout,\n",
    "                                                            recurrent_dropout = recurrent_dropout)))\n",
    "        \n",
    "        self.model.add(layers.Dense(3, activation = 'sigmoid'))\n",
    "\n",
    "    \n",
    "    \"\"\"\n",
    "    Compile and fit model onto data\n",
    "    \"\"\"\n",
    "    def fit_mod(self, epochs, history_flag = False, patience = 1): #add patiens as parametr\n",
    "        \n",
    "        self.model.compile(optimizer = 'rmsprop', loss = 'sparse_categorical_crossentropy', metrics = ['acc'])\n",
    "        \n",
    "        if history_flag:\n",
    "            self.history = self.model.fit(self.X_train, self.y_train,\n",
    "                      epochs = epochs,\n",
    "                      batch_size = 32,\n",
    "                      validation_split = 0.2,\n",
    "                      callbacks = [EarlyStopping(monitor = 'val_loss', patience = patience)])\n",
    "            \n",
    "            return self.history\n",
    "        \n",
    "        else:\n",
    "            self.model.fit(self.X_train, self.y_train,\n",
    "                           epochs = epochs,\n",
    "                           batch_size = 32,\n",
    "                           validation_split = 0.2,\n",
    "                           callbacks = [EarlyStopping(monitor = 'val_loss', patience = patience)])\n",
    "    \n",
    "    \n",
    "    \"\"\"\n",
    "    Predict\n",
    "    \"\"\"\n",
    "    def predict(self):\n",
    "        self.y_pred_probs = self.model.predict(self.X_test)\n",
    "        \n",
    "        for probs in self.y_pred_probs:\n",
    "            self.y_pred.append(np.argmax(probs))\n",
    "        \n",
    "        return self.y_pred"
   ]
  },
  {
   "cell_type": "markdown",
   "metadata": {},
   "source": [
    "Here is the helper function for the quick NN model building with the use of NN_assistant class:"
   ]
  },
  {
   "cell_type": "code",
   "execution_count": 28,
   "metadata": {},
   "outputs": [],
   "source": [
    "def quick_build (words, features, max_len, sentiments, layer, units, dropout, recurrent_dropout, filter_, epochs, save_history, patience):\n",
    "    \n",
    "    my_NN = NN_assistant(words, features, max_len, sentiments)\n",
    "    my_NN.encode_n_split()\n",
    "    my_NN.build_model(layer, units, dropout, recurrent_dropout, filter_)\n",
    "    history = my_NN.fit_mod(epochs, save_history, patience = patience)\n",
    "    \n",
    "    return my_NN, history"
   ]
  },
  {
   "cell_type": "markdown",
   "metadata": {},
   "source": [
    "#### 3. Tune hyperparametrs\n",
    "\n",
    "During this step I hypertune:\n",
    "- type of the layer: GRU, LSTM, bi_GRU or bi_LSTM\n",
    "- number of units in hidden CNN and RNN layers\n",
    "- number of filetrs for CNN layer\n",
    "- dropout rate- recurrent dropout rate"
   ]
  },
  {
   "cell_type": "markdown",
   "metadata": {},
   "source": [
    "- 3.1. Hypertunning of type of the `RNN layer`, `units` and `filters`:"
   ]
  },
  {
   "cell_type": "code",
   "execution_count": 29,
   "metadata": {},
   "outputs": [],
   "source": [
    "def tune_NN(words, epoch, layers_set, units_set, filters_set, features, max_len):\n",
    "    \n",
    "    \n",
    "    \"\"\"\n",
    "    Step 0: define initial values of the hyperparams and others\n",
    "    \"\"\"\n",
    "    \n",
    "    #hyperparams\n",
    "    units = units_set['start'] #units in hidden layers\n",
    "    filter_ = filters_set['start'] #filters in hidden layer\n",
    "    \n",
    "    #orhers\n",
    "    #features = features_set['start'] #overall quantiy of fetures (unique words)\n",
    "    #max_len = lengths_set['start'] # maximal lenght of the sample (quntity pf words after which review id cut off)\n",
    "    \n",
    "    \n",
    "    \"\"\"\n",
    "    Step 1: initialize network, encode X and Y, split data\n",
    "    \"\"\"\n",
    "    \n",
    "    #initialize network entity\n",
    "    my_NN = NN_assistant(words, features, max_len, sentiments)\n",
    "    #encode X and Y and split data into train and test\n",
    "    my_NN.encode_n_split()  \n",
    "    \n",
    "    \"\"\"\n",
    "    Step 2: helping variables\n",
    "    \"\"\"\n",
    "    \n",
    "    # dictionary with key as layer and value as another dictionary with respective params and validation loss \n",
    "    history_dict = {}\n",
    "    \n",
    "    # variables to track in loss improves\n",
    "    old_loss = 0\n",
    "    new_loss = 0\n",
    "    \n",
    "    \"\"\"\n",
    "    Step 3: Nested loops\n",
    "    \n",
    "    Outer loop: through layer (fixed amount of options)\n",
    "    Middle loop: through units options (unitl converge)\n",
    "    Inner loop: through filter options (until converge)\n",
    "    \"\"\"\n",
    "    dropout = 0\n",
    "    recurrent_dropout = 0 \n",
    "    \n",
    "    # outer loop\n",
    "    for layer in layers_set:\n",
    "        \n",
    "        # each layer starts optimization from the initial units and filters values\n",
    "        units = units_set['start'] \n",
    "        filter_ = filters_set['start']\n",
    "        \n",
    "        print(\"\\n Layer: \", layer, '\\t Units: ', units, '\\t Filter: ', filter_, \"\\n\")\n",
    "        \n",
    "        # build model\n",
    "        my_NN.build_model(layer, units, dropout, recurrent_dropout, filter_)\n",
    "        # fit model onto data and store history object\n",
    "        history = my_NN.fit_mod(epoch, True)\n",
    "        # define onl\n",
    "        old_loss = np.min(history.history['val_loss'])\n",
    "        \n",
    "        optimized_units = False\n",
    "        optimized_filter = False\n",
    "        \n",
    "        \n",
    "        # middle loop\n",
    "        while not optimized_units:\n",
    "            \n",
    "            units = units + units_set['step']\n",
    "            \n",
    "            print(\"\\n Layer: \", layer, '\\t Units: ', units, '\\t Filter: ', filter_, \"\\n\")\n",
    "            \n",
    "            my_NN.build_model(layer, units, dropout, recurrent_dropout, filter_)\n",
    "            history = my_NN.fit_mod(epoch, True)\n",
    "            new_loss = np.min(history.history['val_loss'])\n",
    "            \n",
    "            if old_loss < new_loss:\n",
    "                optimized_units = True\n",
    "                units = units - units_set['step']\n",
    "                \n",
    "                # inner loop\n",
    "                while not optimized_filter:\n",
    "                    \n",
    "                    print(\"\\n Layer: \", layer, '\\t Units: ', units, '\\t Filter: ', filter_, \"\\n\")\n",
    "                    \n",
    "                    filter_ = filter_ + filters_set['step']\n",
    "                    \n",
    "                    my_NN.build_model(layer, units, dropout, recurrent_dropout, filter_)\n",
    "                    history = my_NN.fit_mod(epoch, True)\n",
    "                    new_loss = np.min(history.history['val_loss'])\n",
    "                    \n",
    "                    if old_loss < new_loss:\n",
    "                        optimized_filter = True\n",
    "                        filter_ = filter_ - filters_set['step']\n",
    "                        \n",
    "                        history_dict[layer] = {'units' : units, 'filter' : filter_, 'loss' : np.min(history.history['val_loss'])}\n",
    "                        \n",
    "                    else:\n",
    "                        old_loss = new_loss\n",
    "                \n",
    "            else:\n",
    "                old_loss = new_loss\n",
    "                \n",
    "        \n",
    "    return history_dict   \n",
    "    "
   ]
  },
  {
   "cell_type": "markdown",
   "metadata": {},
   "source": [
    "Before jumping into building and hypertunning a real model, the last step twould be defining up the `number of unique features` and the standrad `length` for all vectors (encoded tweets).\n",
    "\n",
    "Here is some metrics to take into consideration beofre difining the values:"
   ]
  },
  {
   "cell_type": "code",
   "execution_count": 30,
   "metadata": {},
   "outputs": [
    {
     "name": "stdout",
     "output_type": "stream",
     "text": [
      "Vocab size: \t\t 7585\n",
      "Mean tweet length: \t 6\n",
      "Max tweet length: \t 20\n"
     ]
    }
   ],
   "source": [
    "print(\"Vocab size: \\t\\t\", vocab_size)\n",
    "print(\"Mean tweet length: \\t\", int(np.mean(tweet_lens)))\n",
    "print(\"Max tweet length: \\t\", int(np.mean(tweet_lens)*3))\n"
   ]
  },
  {
   "cell_type": "markdown",
   "metadata": {},
   "source": [
    "Respectively:"
   ]
  },
  {
   "cell_type": "code",
   "execution_count": 31,
   "metadata": {},
   "outputs": [],
   "source": [
    "#additional\n",
    "features = 7500 #7500 most frequent terms\n",
    "max_len = 20 #unpon max tweet length"
   ]
  },
  {
   "cell_type": "markdown",
   "metadata": {},
   "source": [
    "Initialization of discussed earlier options:"
   ]
  },
  {
   "cell_type": "code",
   "execution_count": 32,
   "metadata": {},
   "outputs": [],
   "source": [
    "layers_set = ['LSTM', 'GRU', \"bi_LSTM\", \"bi_GRU\"] #options for RNN layer\n",
    "units_set = {'start':32,'step':32} #option for hidden units: start from 32 and increase by 32 until converge\n",
    "filters_set = {'start':2, 'step':1} #option for CNN layer filters: start from 2 and increase by 1 until converge\n",
    "\n",
    "epochs = 10"
   ]
  },
  {
   "cell_type": "markdown",
   "metadata": {},
   "source": [
    "Now all is set set up to start hypertunning process:"
   ]
  },
  {
   "cell_type": "code",
   "execution_count": 33,
   "metadata": {},
   "outputs": [
    {
     "name": "stdout",
     "output_type": "stream",
     "text": [
      "\n",
      " Layer:  LSTM \t Units:  32 \t Filter:  2 \n",
      "\n",
      "Epoch 1/10\n",
      "287/287 [==============================] - 7s 14ms/step - loss: 0.7894 - acc: 0.6630 - val_loss: 0.6729 - val_acc: 0.7127\n",
      "Epoch 2/10\n",
      "287/287 [==============================] - 3s 10ms/step - loss: 0.6297 - acc: 0.7433 - val_loss: 0.6115 - val_acc: 0.7493\n",
      "Epoch 3/10\n",
      "287/287 [==============================] - 3s 10ms/step - loss: 0.5681 - acc: 0.7712 - val_loss: 0.5905 - val_acc: 0.7572\n",
      "Epoch 4/10\n",
      "287/287 [==============================] - 3s 10ms/step - loss: 0.5159 - acc: 0.7968 - val_loss: 0.5642 - val_acc: 0.7646\n",
      "Epoch 5/10\n",
      "287/287 [==============================] - 3s 10ms/step - loss: 0.4635 - acc: 0.8189 - val_loss: 0.5745 - val_acc: 0.7646\n",
      "\n",
      " Layer:  LSTM \t Units:  64 \t Filter:  2 \n",
      "\n",
      "Epoch 1/10\n",
      "287/287 [==============================] - 7s 15ms/step - loss: 0.7465 - acc: 0.6821 - val_loss: 0.6512 - val_acc: 0.7376\n",
      "Epoch 2/10\n",
      "287/287 [==============================] - 4s 14ms/step - loss: 0.5741 - acc: 0.7668 - val_loss: 0.6453 - val_acc: 0.7145\n",
      "Epoch 3/10\n",
      "287/287 [==============================] - 4s 13ms/step - loss: 0.4936 - acc: 0.8026 - val_loss: 0.5621 - val_acc: 0.7637\n",
      "Epoch 4/10\n",
      "287/287 [==============================] - 4s 15ms/step - loss: 0.4404 - acc: 0.8311 - val_loss: 0.5823 - val_acc: 0.7663\n",
      "\n",
      " Layer:  LSTM \t Units:  96 \t Filter:  2 \n",
      "\n",
      "Epoch 1/10\n",
      "287/287 [==============================] - 9s 21ms/step - loss: 0.7327 - acc: 0.6924 - val_loss: 0.6327 - val_acc: 0.7467\n",
      "Epoch 2/10\n",
      "287/287 [==============================] - 5s 19ms/step - loss: 0.5636 - acc: 0.7699 - val_loss: 0.5810 - val_acc: 0.7659\n",
      "Epoch 3/10\n",
      "287/287 [==============================] - 6s 20ms/step - loss: 0.4841 - acc: 0.8086 - val_loss: 0.5726 - val_acc: 0.7624\n",
      "Epoch 4/10\n",
      "287/287 [==============================] - 6s 19ms/step - loss: 0.4274 - acc: 0.8333 - val_loss: 0.6063 - val_acc: 0.7694\n",
      "\n",
      " Layer:  LSTM \t Units:  64 \t Filter:  2 \n",
      "\n",
      "Epoch 1/10\n",
      "287/287 [==============================] - 7s 16ms/step - loss: 0.7984 - acc: 0.6472 - val_loss: 0.7328 - val_acc: 0.6595\n",
      "Epoch 2/10\n",
      "287/287 [==============================] - 3s 12ms/step - loss: 0.6749 - acc: 0.7111 - val_loss: 0.6727 - val_acc: 0.7071\n",
      "Epoch 3/10\n",
      "287/287 [==============================] - 4s 13ms/step - loss: 0.5806 - acc: 0.7595 - val_loss: 0.6275 - val_acc: 0.7267\n",
      "Epoch 4/10\n",
      "287/287 [==============================] - 3s 12ms/step - loss: 0.5108 - acc: 0.7935 - val_loss: 0.6602 - val_acc: 0.7201\n",
      "\n",
      " Layer:  GRU \t Units:  32 \t Filter:  2 \n",
      "\n",
      "Epoch 1/10\n",
      "287/287 [==============================] - 6s 13ms/step - loss: 0.7621 - acc: 0.6811 - val_loss: 0.6624 - val_acc: 0.7206\n",
      "Epoch 2/10\n",
      "287/287 [==============================] - 3s 11ms/step - loss: 0.6068 - acc: 0.7547 - val_loss: 0.6007 - val_acc: 0.7559\n",
      "Epoch 3/10\n",
      "287/287 [==============================] - 3s 11ms/step - loss: 0.5412 - acc: 0.7846 - val_loss: 0.5761 - val_acc: 0.7642\n",
      "Epoch 4/10\n",
      "287/287 [==============================] - 3s 11ms/step - loss: 0.4800 - acc: 0.8118 - val_loss: 0.5913 - val_acc: 0.7668\n",
      "\n",
      " Layer:  GRU \t Units:  64 \t Filter:  2 \n",
      "\n",
      "Epoch 1/10\n",
      "287/287 [==============================] - 7s 16ms/step - loss: 0.7358 - acc: 0.6922 - val_loss: 0.6261 - val_acc: 0.7376\n",
      "Epoch 2/10\n",
      "287/287 [==============================] - 4s 14ms/step - loss: 0.5806 - acc: 0.7640 - val_loss: 0.5805 - val_acc: 0.7650\n",
      "Epoch 3/10\n",
      "287/287 [==============================] - 4s 14ms/step - loss: 0.4938 - acc: 0.8060 - val_loss: 0.5631 - val_acc: 0.7703\n",
      "Epoch 4/10\n",
      "287/287 [==============================] - 4s 14ms/step - loss: 0.4368 - acc: 0.8316 - val_loss: 0.5805 - val_acc: 0.7637\n",
      "\n",
      " Layer:  GRU \t Units:  96 \t Filter:  2 \n",
      "\n",
      "Epoch 1/10\n",
      "287/287 [==============================] - 9s 21ms/step - loss: 0.7270 - acc: 0.6949 - val_loss: 0.6235 - val_acc: 0.7450\n",
      "Epoch 2/10\n",
      "287/287 [==============================] - 5s 18ms/step - loss: 0.5556 - acc: 0.7770 - val_loss: 0.5720 - val_acc: 0.7581\n",
      "Epoch 3/10\n",
      "287/287 [==============================] - 5s 18ms/step - loss: 0.4742 - acc: 0.8149 - val_loss: 0.5650 - val_acc: 0.7642\n",
      "Epoch 4/10\n",
      "287/287 [==============================] - 5s 18ms/step - loss: 0.4188 - acc: 0.8380 - val_loss: 0.6384 - val_acc: 0.7319\n",
      "\n",
      " Layer:  GRU \t Units:  64 \t Filter:  2 \n",
      "\n",
      "Epoch 1/10\n",
      "287/287 [==============================] - 6s 13ms/step - loss: 0.7834 - acc: 0.6532 - val_loss: 0.6964 - val_acc: 0.7044\n",
      "Epoch 2/10\n",
      "287/287 [==============================] - 3s 11ms/step - loss: 0.6388 - acc: 0.7355 - val_loss: 0.6583 - val_acc: 0.7123\n",
      "Epoch 3/10\n",
      "287/287 [==============================] - 3s 11ms/step - loss: 0.5523 - acc: 0.7722 - val_loss: 0.6338 - val_acc: 0.7293\n",
      "Epoch 4/10\n",
      "287/287 [==============================] - 3s 10ms/step - loss: 0.4823 - acc: 0.8077 - val_loss: 0.6529 - val_acc: 0.7262\n",
      "\n",
      " Layer:  bi_LSTM \t Units:  32 \t Filter:  2 \n",
      "\n",
      "Epoch 1/10\n",
      "287/287 [==============================] - 9s 15ms/step - loss: 0.7883 - acc: 0.6628 - val_loss: 0.6802 - val_acc: 0.7267\n",
      "Epoch 2/10\n",
      "287/287 [==============================] - 3s 12ms/step - loss: 0.6252 - acc: 0.7445 - val_loss: 0.6276 - val_acc: 0.7323\n",
      "Epoch 3/10\n",
      "287/287 [==============================] - 3s 12ms/step - loss: 0.5555 - acc: 0.7803 - val_loss: 0.5727 - val_acc: 0.7672\n",
      "Epoch 4/10\n",
      "287/287 [==============================] - 3s 12ms/step - loss: 0.4906 - acc: 0.8060 - val_loss: 0.5654 - val_acc: 0.7711\n",
      "Epoch 5/10\n",
      "287/287 [==============================] - 3s 12ms/step - loss: 0.4393 - acc: 0.8316 - val_loss: 0.5832 - val_acc: 0.7650\n",
      "\n",
      " Layer:  bi_LSTM \t Units:  64 \t Filter:  2 \n",
      "\n",
      "Epoch 1/10\n",
      "287/287 [==============================] - 10s 20ms/step - loss: 0.7529 - acc: 0.6728 - val_loss: 0.6428 - val_acc: 0.7411\n",
      "Epoch 2/10\n",
      "287/287 [==============================] - 5s 17ms/step - loss: 0.5903 - acc: 0.7620 - val_loss: 0.5827 - val_acc: 0.7550\n",
      "Epoch 3/10\n",
      "287/287 [==============================] - 5s 17ms/step - loss: 0.5040 - acc: 0.7990 - val_loss: 0.5835 - val_acc: 0.7746\n",
      "\n",
      " Layer:  bi_LSTM \t Units:  32 \t Filter:  2 \n",
      "\n",
      "Epoch 1/10\n",
      "287/287 [==============================] - 8s 13ms/step - loss: 0.8085 - acc: 0.6431 - val_loss: 0.7386 - val_acc: 0.6548\n",
      "Epoch 2/10\n",
      "287/287 [==============================] - 3s 9ms/step - loss: 0.7041 - acc: 0.6846 - val_loss: 0.7052 - val_acc: 0.6648\n",
      "Epoch 3/10\n",
      "287/287 [==============================] - 3s 9ms/step - loss: 0.6424 - acc: 0.7264 - val_loss: 0.6829 - val_acc: 0.7018\n",
      "Epoch 4/10\n",
      "287/287 [==============================] - 3s 10ms/step - loss: 0.5966 - acc: 0.7525 - val_loss: 0.6667 - val_acc: 0.7140\n",
      "Epoch 5/10\n",
      "287/287 [==============================] - 3s 9ms/step - loss: 0.5562 - acc: 0.7752 - val_loss: 0.6676 - val_acc: 0.7188\n",
      "\n",
      " Layer:  bi_GRU \t Units:  32 \t Filter:  2 \n",
      "\n",
      "Epoch 1/10\n",
      "287/287 [==============================] - 9s 16ms/step - loss: 0.7898 - acc: 0.6656 - val_loss: 0.6589 - val_acc: 0.7258\n",
      "Epoch 2/10\n",
      "287/287 [==============================] - 4s 13ms/step - loss: 0.6028 - acc: 0.7581 - val_loss: 0.5936 - val_acc: 0.7524\n",
      "Epoch 3/10\n",
      "287/287 [==============================] - 4s 12ms/step - loss: 0.5198 - acc: 0.7900 - val_loss: 0.5671 - val_acc: 0.7659\n",
      "Epoch 4/10\n",
      "287/287 [==============================] - 4s 12ms/step - loss: 0.4607 - acc: 0.8213 - val_loss: 0.5729 - val_acc: 0.7690\n",
      "\n",
      " Layer:  bi_GRU \t Units:  64 \t Filter:  2 \n",
      "\n",
      "Epoch 1/10\n",
      "287/287 [==============================] - 10s 20ms/step - loss: 0.7505 - acc: 0.6839 - val_loss: 0.6417 - val_acc: 0.7319\n",
      "Epoch 2/10\n",
      "287/287 [==============================] - 5s 16ms/step - loss: 0.5803 - acc: 0.7676 - val_loss: 0.5728 - val_acc: 0.7616\n",
      "Epoch 3/10\n",
      "287/287 [==============================] - 5s 17ms/step - loss: 0.4947 - acc: 0.8052 - val_loss: 0.5650 - val_acc: 0.7685\n",
      "Epoch 4/10\n",
      "287/287 [==============================] - 5s 16ms/step - loss: 0.4400 - acc: 0.8292 - val_loss: 0.5876 - val_acc: 0.7663\n",
      "\n",
      " Layer:  bi_GRU \t Units:  96 \t Filter:  2 \n",
      "\n",
      "Epoch 1/10\n",
      "287/287 [==============================] - 12s 29ms/step - loss: 0.7232 - acc: 0.6907 - val_loss: 0.6187 - val_acc: 0.7380\n",
      "Epoch 2/10\n",
      "287/287 [==============================] - 7s 23ms/step - loss: 0.5504 - acc: 0.7783 - val_loss: 0.5797 - val_acc: 0.7524\n",
      "Epoch 3/10\n",
      "287/287 [==============================] - 7s 23ms/step - loss: 0.4698 - acc: 0.8170 - val_loss: 0.5787 - val_acc: 0.7659\n"
     ]
    },
    {
     "name": "stdout",
     "output_type": "stream",
     "text": [
      "Epoch 4/10\n",
      "287/287 [==============================] - 6s 22ms/step - loss: 0.4121 - acc: 0.8401 - val_loss: 0.6025 - val_acc: 0.7642\n",
      "\n",
      " Layer:  bi_GRU \t Units:  64 \t Filter:  2 \n",
      "\n",
      "Epoch 1/10\n",
      "287/287 [==============================] - 8s 15ms/step - loss: 0.7766 - acc: 0.6598 - val_loss: 0.6844 - val_acc: 0.7018\n",
      "Epoch 2/10\n",
      "287/287 [==============================] - 3s 12ms/step - loss: 0.6360 - acc: 0.7354 - val_loss: 0.6435 - val_acc: 0.7223\n",
      "Epoch 3/10\n",
      "287/287 [==============================] - 4s 13ms/step - loss: 0.5539 - acc: 0.7722 - val_loss: 0.6308 - val_acc: 0.7302\n",
      "Epoch 4/10\n",
      "287/287 [==============================] - 4s 12ms/step - loss: 0.4782 - acc: 0.8040 - val_loss: 0.6520 - val_acc: 0.7306\n"
     ]
    }
   ],
   "source": [
    "history_dict = tune_NN(words, epochs, layers_set, units_set, filters_set, features, max_len)"
   ]
  },
  {
   "cell_type": "markdown",
   "metadata": {},
   "source": [
    "As a result of tunning, below is the set of best hyperparametrs for each layer type. The metric for defining the best set was the lowest validation loss."
   ]
  },
  {
   "cell_type": "code",
   "execution_count": 34,
   "metadata": {},
   "outputs": [
    {
     "data": {
      "text/html": [
       "<div>\n",
       "<style scoped>\n",
       "    .dataframe tbody tr th:only-of-type {\n",
       "        vertical-align: middle;\n",
       "    }\n",
       "\n",
       "    .dataframe tbody tr th {\n",
       "        vertical-align: top;\n",
       "    }\n",
       "\n",
       "    .dataframe thead th {\n",
       "        text-align: right;\n",
       "    }\n",
       "</style>\n",
       "<table border=\"1\" class=\"dataframe\">\n",
       "  <thead>\n",
       "    <tr style=\"text-align: right;\">\n",
       "      <th></th>\n",
       "      <th>units</th>\n",
       "      <th>filter</th>\n",
       "      <th>loss</th>\n",
       "    </tr>\n",
       "  </thead>\n",
       "  <tbody>\n",
       "    <tr>\n",
       "      <td>LSTM</td>\n",
       "      <td>64.0</td>\n",
       "      <td>2.0</td>\n",
       "      <td>0.627508</td>\n",
       "    </tr>\n",
       "    <tr>\n",
       "      <td>GRU</td>\n",
       "      <td>64.0</td>\n",
       "      <td>2.0</td>\n",
       "      <td>0.633785</td>\n",
       "    </tr>\n",
       "    <tr>\n",
       "      <td>bi_LSTM</td>\n",
       "      <td>32.0</td>\n",
       "      <td>2.0</td>\n",
       "      <td>0.666721</td>\n",
       "    </tr>\n",
       "    <tr>\n",
       "      <td>bi_GRU</td>\n",
       "      <td>64.0</td>\n",
       "      <td>2.0</td>\n",
       "      <td>0.630767</td>\n",
       "    </tr>\n",
       "  </tbody>\n",
       "</table>\n",
       "</div>"
      ],
      "text/plain": [
       "         units  filter      loss\n",
       "LSTM      64.0     2.0  0.627508\n",
       "GRU       64.0     2.0  0.633785\n",
       "bi_LSTM   32.0     2.0  0.666721\n",
       "bi_GRU    64.0     2.0  0.630767"
      ]
     },
     "execution_count": 34,
     "metadata": {},
     "output_type": "execute_result"
    }
   ],
   "source": [
    "results_tunned = pd.DataFrame.from_dict(history_dict).T\n",
    "results_tunned"
   ]
  },
  {
   "cell_type": "markdown",
   "metadata": {},
   "source": [
    "The best option out of four is:"
   ]
  },
  {
   "cell_type": "code",
   "execution_count": 35,
   "metadata": {},
   "outputs": [
    {
     "data": {
      "text/html": [
       "<div>\n",
       "<style scoped>\n",
       "    .dataframe tbody tr th:only-of-type {\n",
       "        vertical-align: middle;\n",
       "    }\n",
       "\n",
       "    .dataframe tbody tr th {\n",
       "        vertical-align: top;\n",
       "    }\n",
       "\n",
       "    .dataframe thead th {\n",
       "        text-align: right;\n",
       "    }\n",
       "</style>\n",
       "<table border=\"1\" class=\"dataframe\">\n",
       "  <thead>\n",
       "    <tr style=\"text-align: right;\">\n",
       "      <th></th>\n",
       "      <th>units</th>\n",
       "      <th>filter</th>\n",
       "      <th>loss</th>\n",
       "    </tr>\n",
       "  </thead>\n",
       "  <tbody>\n",
       "    <tr>\n",
       "      <td>LSTM</td>\n",
       "      <td>64.0</td>\n",
       "      <td>2.0</td>\n",
       "      <td>0.627508</td>\n",
       "    </tr>\n",
       "  </tbody>\n",
       "</table>\n",
       "</div>"
      ],
      "text/plain": [
       "      units  filter      loss\n",
       "LSTM   64.0     2.0  0.627508"
      ]
     },
     "execution_count": 35,
     "metadata": {},
     "output_type": "execute_result"
    }
   ],
   "source": [
    "best_option = results_tunned[results_tunned['loss'] == min(results_tunned['loss'])]\n",
    "best_option"
   ]
  },
  {
   "cell_type": "markdown",
   "metadata": {},
   "source": [
    "Now I train NN with best option to see if adding higher regularization parameter is needed:"
   ]
  },
  {
   "cell_type": "code",
   "execution_count": 36,
   "metadata": {},
   "outputs": [
    {
     "name": "stdout",
     "output_type": "stream",
     "text": [
      "Epoch 1/10\n",
      "287/287 [==============================] - 7s 15ms/step - loss: 0.7554 - acc: 0.6748 - val_loss: 0.6292 - val_acc: 0.7441\n",
      "Epoch 2/10\n",
      "287/287 [==============================] - 4s 13ms/step - loss: 0.5799 - acc: 0.7685 - val_loss: 0.5808 - val_acc: 0.7616\n",
      "Epoch 3/10\n",
      "287/287 [==============================] - 4s 13ms/step - loss: 0.4979 - acc: 0.8026 - val_loss: 0.5674 - val_acc: 0.7611\n",
      "Epoch 4/10\n",
      "287/287 [==============================] - 4s 13ms/step - loss: 0.4432 - acc: 0.8324 - val_loss: 0.5950 - val_acc: 0.7642\n",
      "Epoch 5/10\n",
      "287/287 [==============================] - 4s 12ms/step - loss: 0.4025 - acc: 0.8466 - val_loss: 0.6067 - val_acc: 0.7650\n",
      "Epoch 6/10\n",
      "287/287 [==============================] - 4s 13ms/step - loss: 0.3709 - acc: 0.8582 - val_loss: 0.6474 - val_acc: 0.7620\n",
      "Epoch 7/10\n",
      "287/287 [==============================] - 4s 13ms/step - loss: 0.3433 - acc: 0.8698 - val_loss: 0.7038 - val_acc: 0.7302\n",
      "Epoch 8/10\n",
      "287/287 [==============================] - 4s 13ms/step - loss: 0.3136 - acc: 0.8813 - val_loss: 0.6871 - val_acc: 0.7537\n",
      "Epoch 9/10\n",
      "287/287 [==============================] - 4s 12ms/step - loss: 0.2918 - acc: 0.8927 - val_loss: 0.7218 - val_acc: 0.7463\n",
      "Epoch 10/10\n",
      "287/287 [==============================] - 4s 13ms/step - loss: 0.2681 - acc: 0.9023 - val_loss: 0.7948 - val_acc: 0.7367\n"
     ]
    }
   ],
   "source": [
    "my_NN, history = quick_build (words, features, max_len, sentiments, layer = best_option.index, \n",
    "                              units = int(best_option['units']), dropout = 0, recurrent_dropout = 0, \n",
    "                              filter_ = int(best_option['filter']), epochs = 10, \n",
    "                              save_history = True, patience = 10)"
   ]
  },
  {
   "cell_type": "markdown",
   "metadata": {},
   "source": [
    "Helper plot function:"
   ]
  },
  {
   "cell_type": "code",
   "execution_count": 37,
   "metadata": {},
   "outputs": [],
   "source": [
    "def plot_results (y_list, y_labels, epochs, title):    \n",
    "    \n",
    "    plt.figure(figsize = (12,6))\n",
    "    \n",
    "    x =  range(1, epochs + 1)\n",
    "    \n",
    "    for i in range(len(y_list)):\n",
    "        plt.plot(x, y_list[i], label = y_labels[i], linewidth = 3)\n",
    "        \n",
    "    plt.xlabel('Epochs')\n",
    "    plt.title(title)\n",
    "    plt.legend()\n",
    "    plt.show()"
   ]
  },
  {
   "cell_type": "markdown",
   "metadata": {},
   "source": [
    "Plot results:"
   ]
  },
  {
   "cell_type": "code",
   "execution_count": 38,
   "metadata": {},
   "outputs": [
    {
     "data": {
      "image/png": "[encoded data removed]",
      "text/plain": [
       "<Figure size 864x432 with 1 Axes>"
      ]
     },
     "metadata": {
      "needs_background": "light"
     },
     "output_type": "display_data"
    }
   ],
   "source": [
    "y1 = history.history['val_acc']\n",
    "y1_label = 'Validation accuracy'\n",
    "\n",
    "y2 = history.history['acc']\n",
    "y2_label = 'Training accuracy'\n",
    "\n",
    "plot_results ([y1, y2],[y1_label, y2_label], 10, \"Accuracies on validation and training sets\\n\")"
   ]
  },
  {
   "cell_type": "markdown",
   "metadata": {},
   "source": [
    "**Comment :** Evidently, there is a slight overfitting. Feedforward dropout and recurrent dropout tunning should be introduced."
   ]
  },
  {
   "cell_type": "markdown",
   "metadata": {},
   "source": [
    "- 3.2 Tunning of `dropout`"
   ]
  },
  {
   "cell_type": "code",
   "execution_count": 39,
   "metadata": {},
   "outputs": [
    {
     "name": "stdout",
     "output_type": "stream",
     "text": [
      "\n",
      " Dropout: 0.1 \n",
      "\n",
      "Epoch 1/10\n",
      "287/287 [==============================] - 7s 15ms/step - loss: 0.7524 - acc: 0.6780 - val_loss: 0.6266 - val_acc: 0.7371\n",
      "Epoch 2/10\n",
      "287/287 [==============================] - 4s 13ms/step - loss: 0.5928 - acc: 0.7577 - val_loss: 0.5783 - val_acc: 0.7611\n",
      "Epoch 3/10\n",
      "287/287 [==============================] - 4s 13ms/step - loss: 0.5112 - acc: 0.7986 - val_loss: 0.6066 - val_acc: 0.7589\n",
      "Epoch 4/10\n",
      "287/287 [==============================] - 4s 13ms/step - loss: 0.4576 - acc: 0.8249 - val_loss: 0.5893 - val_acc: 0.7585\n",
      "Epoch 5/10\n",
      "287/287 [==============================] - 4s 13ms/step - loss: 0.4177 - acc: 0.8394 - val_loss: 0.5881 - val_acc: 0.7655\n",
      "Epoch 6/10\n",
      "287/287 [==============================] - 4s 13ms/step - loss: 0.3834 - acc: 0.8526 - val_loss: 0.5991 - val_acc: 0.7659\n",
      "Epoch 7/10\n",
      "287/287 [==============================] - 4s 13ms/step - loss: 0.3557 - acc: 0.8673 - val_loss: 0.6565 - val_acc: 0.7533\n",
      "Epoch 8/10\n",
      "287/287 [==============================] - 4s 13ms/step - loss: 0.3273 - acc: 0.8765 - val_loss: 0.6723 - val_acc: 0.7437\n",
      "Epoch 9/10\n",
      "287/287 [==============================] - 4s 13ms/step - loss: 0.3010 - acc: 0.8885 - val_loss: 0.6993 - val_acc: 0.7594\n",
      "Epoch 10/10\n",
      "287/287 [==============================] - 4s 13ms/step - loss: 0.2792 - acc: 0.8957 - val_loss: 0.7551 - val_acc: 0.7581\n",
      "\n",
      " Dropout: 0.15000000000000002 \n",
      "\n",
      "Epoch 1/10\n",
      "287/287 [==============================] - 7s 15ms/step - loss: 0.7589 - acc: 0.6767 - val_loss: 0.6337 - val_acc: 0.7472\n",
      "Epoch 2/10\n",
      "287/287 [==============================] - 4s 13ms/step - loss: 0.5933 - acc: 0.7575 - val_loss: 0.5760 - val_acc: 0.7646\n",
      "Epoch 3/10\n",
      "287/287 [==============================] - 4s 12ms/step - loss: 0.5117 - acc: 0.7983 - val_loss: 0.5619 - val_acc: 0.7724\n",
      "Epoch 4/10\n",
      "287/287 [==============================] - 4s 12ms/step - loss: 0.4543 - acc: 0.8273 - val_loss: 0.5739 - val_acc: 0.7681\n",
      "Epoch 5/10\n",
      "287/287 [==============================] - 4s 12ms/step - loss: 0.4120 - acc: 0.8432 - val_loss: 0.5901 - val_acc: 0.7642\n",
      "Epoch 6/10\n",
      "287/287 [==============================] - 4s 12ms/step - loss: 0.3795 - acc: 0.8552 - val_loss: 0.6279 - val_acc: 0.7537\n",
      "Epoch 7/10\n",
      "287/287 [==============================] - 4s 13ms/step - loss: 0.3498 - acc: 0.8674 - val_loss: 0.6409 - val_acc: 0.7485\n",
      "Epoch 8/10\n",
      "287/287 [==============================] - 4s 13ms/step - loss: 0.3244 - acc: 0.8804 - val_loss: 0.6885 - val_acc: 0.7428\n",
      "Epoch 9/10\n",
      "287/287 [==============================] - 4s 13ms/step - loss: 0.2998 - acc: 0.8903 - val_loss: 0.7402 - val_acc: 0.7358\n",
      "Epoch 10/10\n",
      "287/287 [==============================] - 4s 13ms/step - loss: 0.2778 - acc: 0.8974 - val_loss: 0.7770 - val_acc: 0.7328\n",
      "\n",
      " Dropout: 0.2 \n",
      "\n",
      "Epoch 1/10\n",
      "287/287 [==============================] - 7s 15ms/step - loss: 0.7658 - acc: 0.6719 - val_loss: 0.6368 - val_acc: 0.7354\n",
      "Epoch 2/10\n",
      "287/287 [==============================] - 4s 15ms/step - loss: 0.5902 - acc: 0.7583 - val_loss: 0.5695 - val_acc: 0.7650\n",
      "Epoch 3/10\n",
      "287/287 [==============================] - 4s 14ms/step - loss: 0.5069 - acc: 0.7989 - val_loss: 0.5702 - val_acc: 0.7698\n",
      "Epoch 4/10\n",
      "287/287 [==============================] - 4s 14ms/step - loss: 0.4563 - acc: 0.8266 - val_loss: 0.5685 - val_acc: 0.7677\n",
      "Epoch 5/10\n",
      "287/287 [==============================] - 5s 16ms/step - loss: 0.4139 - acc: 0.8441 - val_loss: 0.5988 - val_acc: 0.7650\n",
      "Epoch 6/10\n",
      "287/287 [==============================] - 4s 15ms/step - loss: 0.3813 - acc: 0.8545 - val_loss: 0.6284 - val_acc: 0.7663\n",
      "Epoch 7/10\n",
      "287/287 [==============================] - 5s 19ms/step - loss: 0.3533 - acc: 0.8672 - val_loss: 0.6417 - val_acc: 0.7655\n",
      "Epoch 8/10\n",
      "287/287 [==============================] - 4s 15ms/step - loss: 0.3265 - acc: 0.8801 - val_loss: 0.6602 - val_acc: 0.7559\n",
      "Epoch 9/10\n",
      "287/287 [==============================] - 7s 25ms/step - loss: 0.3076 - acc: 0.8851 - val_loss: 0.6928 - val_acc: 0.7463\n",
      "Epoch 10/10\n",
      "287/287 [==============================] - 6s 20ms/step - loss: 0.2872 - acc: 0.8946 - val_loss: 0.7503 - val_acc: 0.7498\n",
      "\n",
      " Dropout: 0.25 \n",
      "\n",
      "Epoch 1/10\n",
      "287/287 [==============================] - 8s 17ms/step - loss: 0.7722 - acc: 0.6641 - val_loss: 0.6804 - val_acc: 0.7271\n",
      "Epoch 2/10\n",
      "287/287 [==============================] - 5s 16ms/step - loss: 0.6171 - acc: 0.7457 - val_loss: 0.5950 - val_acc: 0.7533\n",
      "Epoch 3/10\n",
      "287/287 [==============================] - 4s 15ms/step - loss: 0.5316 - acc: 0.7882 - val_loss: 0.5778 - val_acc: 0.7659\n",
      "Epoch 4/10\n",
      "287/287 [==============================] - 4s 15ms/step - loss: 0.4756 - acc: 0.8140 - val_loss: 0.5680 - val_acc: 0.7672\n",
      "Epoch 5/10\n",
      "287/287 [==============================] - 4s 14ms/step - loss: 0.4259 - acc: 0.8306 - val_loss: 0.6117 - val_acc: 0.7690\n",
      "Epoch 6/10\n",
      "287/287 [==============================] - 4s 14ms/step - loss: 0.3961 - acc: 0.8474 - val_loss: 0.6042 - val_acc: 0.7642\n",
      "Epoch 7/10\n",
      "287/287 [==============================] - 4s 15ms/step - loss: 0.3642 - acc: 0.8605 - val_loss: 0.6342 - val_acc: 0.7537\n",
      "Epoch 8/10\n",
      "287/287 [==============================] - 4s 16ms/step - loss: 0.3379 - acc: 0.8735 - val_loss: 0.6404 - val_acc: 0.7524\n",
      "Epoch 9/10\n",
      "287/287 [==============================] - 4s 15ms/step - loss: 0.3126 - acc: 0.8828 - val_loss: 0.7077 - val_acc: 0.7406\n",
      "Epoch 10/10\n",
      "287/287 [==============================] - 5s 18ms/step - loss: 0.2930 - acc: 0.8927 - val_loss: 0.6943 - val_acc: 0.7502\n",
      "\n",
      " Dropout: 0.3 \n",
      "\n",
      "Epoch 1/10\n",
      "287/287 [==============================] - 9s 18ms/step - loss: 0.7658 - acc: 0.6721 - val_loss: 0.6563 - val_acc: 0.7315\n",
      "Epoch 2/10\n",
      "287/287 [==============================] - 5s 17ms/step - loss: 0.6015 - acc: 0.7566 - val_loss: 0.5790 - val_acc: 0.7650\n",
      "Epoch 3/10\n",
      "287/287 [==============================] - 5s 16ms/step - loss: 0.5210 - acc: 0.7915 - val_loss: 0.5623 - val_acc: 0.7794\n",
      "Epoch 4/10\n",
      "287/287 [==============================] - 5s 16ms/step - loss: 0.4647 - acc: 0.8169 - val_loss: 0.5902 - val_acc: 0.7537\n",
      "Epoch 5/10\n",
      "287/287 [==============================] - 5s 18ms/step - loss: 0.4239 - acc: 0.8381 - val_loss: 0.5843 - val_acc: 0.7663\n",
      "Epoch 6/10\n",
      "287/287 [==============================] - 5s 16ms/step - loss: 0.3853 - acc: 0.8515 - val_loss: 0.5962 - val_acc: 0.7677\n",
      "Epoch 7/10\n",
      "287/287 [==============================] - 6s 19ms/step - loss: 0.3606 - acc: 0.8623 - val_loss: 0.6406 - val_acc: 0.7677\n",
      "Epoch 8/10\n",
      "287/287 [==============================] - 5s 19ms/step - loss: 0.3410 - acc: 0.8720 - val_loss: 0.6686 - val_acc: 0.7581\n",
      "Epoch 9/10\n",
      "287/287 [==============================] - 5s 17ms/step - loss: 0.3117 - acc: 0.8812 - val_loss: 0.7794 - val_acc: 0.7127\n",
      "Epoch 10/10\n",
      "287/287 [==============================] - 5s 18ms/step - loss: 0.2933 - acc: 0.8912 - val_loss: 0.7247 - val_acc: 0.7489\n",
      "\n",
      " Dropout: 0.35 \n",
      "\n",
      "Epoch 1/10\n",
      "287/287 [==============================] - 8s 19ms/step - loss: 0.7508 - acc: 0.6797 - val_loss: 0.6279 - val_acc: 0.7380\n",
      "Epoch 2/10\n",
      "287/287 [==============================] - 5s 16ms/step - loss: 0.5938 - acc: 0.7544 - val_loss: 0.5751 - val_acc: 0.7541\n",
      "Epoch 3/10\n",
      "287/287 [==============================] - 5s 16ms/step - loss: 0.5150 - acc: 0.7944 - val_loss: 0.5708 - val_acc: 0.7650\n",
      "Epoch 4/10\n",
      "287/287 [==============================] - 5s 16ms/step - loss: 0.4633 - acc: 0.8201 - val_loss: 0.5673 - val_acc: 0.7672\n",
      "Epoch 5/10\n",
      "287/287 [==============================] - 4s 16ms/step - loss: 0.4199 - acc: 0.8402 - val_loss: 0.5870 - val_acc: 0.7642\n",
      "Epoch 6/10\n",
      "287/287 [==============================] - 5s 16ms/step - loss: 0.3915 - acc: 0.8510 - val_loss: 0.6038 - val_acc: 0.7646\n",
      "Epoch 7/10\n",
      "287/287 [==============================] - 5s 16ms/step - loss: 0.3593 - acc: 0.8641 - val_loss: 0.6431 - val_acc: 0.7472\n",
      "Epoch 8/10\n",
      "287/287 [==============================] - 5s 16ms/step - loss: 0.3394 - acc: 0.8731 - val_loss: 0.6761 - val_acc: 0.7476\n",
      "Epoch 9/10\n",
      "287/287 [==============================] - 4s 16ms/step - loss: 0.3183 - acc: 0.8807 - val_loss: 0.7302 - val_acc: 0.7284\n",
      "Epoch 10/10\n",
      "287/287 [==============================] - 4s 15ms/step - loss: 0.2977 - acc: 0.8908 - val_loss: 0.7552 - val_acc: 0.7568\n",
      "\n",
      " Dropout: 0.39999999999999997 \n",
      "\n",
      "Epoch 1/10\n"
     ]
    },
    {
     "name": "stdout",
     "output_type": "stream",
     "text": [
      "287/287 [==============================] - 7s 16ms/step - loss: 0.7645 - acc: 0.6706 - val_loss: 0.6555 - val_acc: 0.7432\n",
      "Epoch 2/10\n",
      "287/287 [==============================] - 4s 14ms/step - loss: 0.6126 - acc: 0.7502 - val_loss: 0.5957 - val_acc: 0.7550\n",
      "Epoch 3/10\n",
      "287/287 [==============================] - 4s 14ms/step - loss: 0.5364 - acc: 0.7884 - val_loss: 0.5650 - val_acc: 0.7677\n",
      "Epoch 4/10\n",
      "287/287 [==============================] - 4s 14ms/step - loss: 0.4819 - acc: 0.8116 - val_loss: 0.5614 - val_acc: 0.7646\n",
      "Epoch 5/10\n",
      "287/287 [==============================] - 4s 14ms/step - loss: 0.4415 - acc: 0.8318 - val_loss: 0.5770 - val_acc: 0.7672\n",
      "Epoch 6/10\n",
      "287/287 [==============================] - 5s 16ms/step - loss: 0.4036 - acc: 0.8475 - val_loss: 0.6165 - val_acc: 0.7637\n",
      "Epoch 7/10\n",
      "287/287 [==============================] - 5s 16ms/step - loss: 0.3790 - acc: 0.8580 - val_loss: 0.6062 - val_acc: 0.7663\n",
      "Epoch 8/10\n",
      "287/287 [==============================] - 4s 14ms/step - loss: 0.3563 - acc: 0.8642 - val_loss: 0.6309 - val_acc: 0.7594\n",
      "Epoch 9/10\n",
      "287/287 [==============================] - 4s 14ms/step - loss: 0.3314 - acc: 0.8766 - val_loss: 0.6548 - val_acc: 0.7507\n",
      "Epoch 10/10\n",
      "287/287 [==============================] - 4s 14ms/step - loss: 0.3169 - acc: 0.8830 - val_loss: 0.7297 - val_acc: 0.7258\n",
      "\n",
      " Dropout: 0.44999999999999996 \n",
      "\n",
      "Epoch 1/10\n",
      "287/287 [==============================] - 8s 18ms/step - loss: 0.7710 - acc: 0.6690 - val_loss: 0.6390 - val_acc: 0.7380\n",
      "Epoch 2/10\n",
      "287/287 [==============================] - 4s 15ms/step - loss: 0.6093 - acc: 0.7510 - val_loss: 0.5856 - val_acc: 0.7507\n",
      "Epoch 3/10\n",
      "287/287 [==============================] - 4s 15ms/step - loss: 0.5340 - acc: 0.7893 - val_loss: 0.5609 - val_acc: 0.7729\n",
      "Epoch 4/10\n",
      "287/287 [==============================] - 4s 15ms/step - loss: 0.4815 - acc: 0.8121 - val_loss: 0.5795 - val_acc: 0.7655\n",
      "Epoch 5/10\n",
      "287/287 [==============================] - 5s 17ms/step - loss: 0.4425 - acc: 0.8298 - val_loss: 0.5753 - val_acc: 0.7733\n",
      "Epoch 6/10\n",
      "287/287 [==============================] - 6s 20ms/step - loss: 0.4130 - acc: 0.8445 - val_loss: 0.5914 - val_acc: 0.7711\n",
      "Epoch 7/10\n",
      "287/287 [==============================] - 5s 18ms/step - loss: 0.3820 - acc: 0.8569 - val_loss: 0.6169 - val_acc: 0.7633\n",
      "Epoch 8/10\n",
      "287/287 [==============================] - 4s 15ms/step - loss: 0.3606 - acc: 0.8633 - val_loss: 0.6294 - val_acc: 0.7677\n",
      "Epoch 9/10\n",
      "287/287 [==============================] - 4s 15ms/step - loss: 0.3434 - acc: 0.8737 - val_loss: 0.6471 - val_acc: 0.7572\n",
      "Epoch 10/10\n",
      "287/287 [==============================] - 4s 15ms/step - loss: 0.3189 - acc: 0.8811 - val_loss: 0.6867 - val_acc: 0.7524\n"
     ]
    }
   ],
   "source": [
    "history_dict = {}\n",
    "\n",
    "dropout_set = {'start':0.1, 'step':0.05, 'max':0.45}\n",
    "\n",
    "my_NN = NN_assistant(words, features, max_len, sentiments)\n",
    "my_NN.encode_n_split()\n",
    "\n",
    "\n",
    "dropout = dropout_set['start']\n",
    "\n",
    "while dropout <= dropout_set['max']:\n",
    "    \n",
    "    print(\"\\n Dropout:\", dropout, \"\\n\")\n",
    "    \n",
    "    my_NN, history = quick_build (words, features, max_len, sentiments, layer = best_option.index, \n",
    "                                  units = int(best_option['units']), dropout = dropout, recurrent_dropout = 0,\n",
    "                                  filter_ = int(best_option['filter']), epochs = 10, \n",
    "                                  save_history = True, patience = 10)\n",
    "    history_dict[dropout] = history.history\n",
    "    dropout = dropout + dropout_set['step']\n",
    "    "
   ]
  },
  {
   "cell_type": "markdown",
   "metadata": {},
   "source": [
    "Plot results:"
   ]
  },
  {
   "cell_type": "code",
   "execution_count": 40,
   "metadata": {},
   "outputs": [],
   "source": [
    "val_acc_list = []\n",
    "acc_list = []\n",
    "\n",
    "for option in history_dict:\n",
    "    val_acc_list.append(history_dict[option]['val_acc'])\n",
    "    acc_list.append(history_dict[option]['acc'])"
   ]
  },
  {
   "cell_type": "code",
   "execution_count": 41,
   "metadata": {},
   "outputs": [
    {
     "data": {
      "image/png": "[encoded data removed]",
      "text/plain": [
       "<Figure size 1080x1440 with 8 Axes>"
      ]
     },
     "metadata": {
      "needs_background": "light"
     },
     "output_type": "display_data"
    }
   ],
   "source": [
    "fig, ax = plt.subplots(4, 2, figsize=(15, 20))\n",
    "\n",
    "x = range(1, 10 + 1)\n",
    "\n",
    "count = 0\n",
    "\n",
    "for i in range(4):\n",
    "    for j in range(2):\n",
    "        \n",
    "        ax[i][j].plot(x, val_acc_list[count], label = list(history_dict.keys())[count], linewidth = 3)\n",
    "        ax[i][j].plot(x, acc_list[count], label = list(history_dict.keys())[count], linewidth = 3)\n",
    "        dropout_rate = np.round(list(history_dict.keys())[count], 2)\n",
    "        dropout_str = \" Dropout rate \" + str(dropout_rate)\n",
    "        ax[i][j].set_title(dropout_str)\n",
    "        count = count + 1"
   ]
  },
  {
   "cell_type": "markdown",
   "metadata": {},
   "source": [
    "**Comment**: As per charts above, the best option is dropout rate would be 0.45 - the smoothest validation accuracy curve:"
   ]
  },
  {
   "cell_type": "code",
   "execution_count": 42,
   "metadata": {},
   "outputs": [
    {
     "name": "stderr",
     "output_type": "stream",
     "text": [
      "/Users/maria/opt/anaconda3/lib/python3.7/site-packages/pandas/core/indexing.py:376: SettingWithCopyWarning: \n",
      "A value is trying to be set on a copy of a slice from a DataFrame.\n",
      "Try using .loc[row_indexer,col_indexer] = value instead\n",
      "\n",
      "See the caveats in the documentation: http://pandas.pydata.org/pandas-docs/stable/user_guide/indexing.html#returning-a-view-versus-a-copy\n",
      "  self.obj[key] = _infer_fill_value(value)\n",
      "/Users/maria/opt/anaconda3/lib/python3.7/site-packages/pandas/core/indexing.py:381: SettingWithCopyWarning: \n",
      "A value is trying to be set on a copy of a slice from a DataFrame\n",
      "\n",
      "See the caveats in the documentation: http://pandas.pydata.org/pandas-docs/stable/user_guide/indexing.html#returning-a-view-versus-a-copy\n",
      "  self._setitem_with_indexer(new_indexer, value)\n",
      "/Users/maria/opt/anaconda3/lib/python3.7/site-packages/pandas/core/indexing.py:205: SettingWithCopyWarning: \n",
      "A value is trying to be set on a copy of a slice from a DataFrame\n",
      "\n",
      "See the caveats in the documentation: http://pandas.pydata.org/pandas-docs/stable/user_guide/indexing.html#returning-a-view-versus-a-copy\n",
      "  self._setitem_with_indexer(indexer, value)\n"
     ]
    },
    {
     "data": {
      "text/html": [
       "<div>\n",
       "<style scoped>\n",
       "    .dataframe tbody tr th:only-of-type {\n",
       "        vertical-align: middle;\n",
       "    }\n",
       "\n",
       "    .dataframe tbody tr th {\n",
       "        vertical-align: top;\n",
       "    }\n",
       "\n",
       "    .dataframe thead th {\n",
       "        text-align: right;\n",
       "    }\n",
       "</style>\n",
       "<table border=\"1\" class=\"dataframe\">\n",
       "  <thead>\n",
       "    <tr style=\"text-align: right;\">\n",
       "      <th></th>\n",
       "      <th>units</th>\n",
       "      <th>filter</th>\n",
       "      <th>loss</th>\n",
       "      <th>dropout</th>\n",
       "    </tr>\n",
       "  </thead>\n",
       "  <tbody>\n",
       "    <tr>\n",
       "      <td>LSTM</td>\n",
       "      <td>64.0</td>\n",
       "      <td>2.0</td>\n",
       "      <td>0.627508</td>\n",
       "      <td>0.45</td>\n",
       "    </tr>\n",
       "  </tbody>\n",
       "</table>\n",
       "</div>"
      ],
      "text/plain": [
       "      units  filter      loss  dropout\n",
       "LSTM   64.0     2.0  0.627508     0.45"
      ]
     },
     "execution_count": 42,
     "metadata": {},
     "output_type": "execute_result"
    }
   ],
   "source": [
    "layer_name = str(best_option.index[0])\n",
    "best_option.loc[layer_name,'dropout'] = 0.45\n",
    "best_option"
   ]
  },
  {
   "cell_type": "markdown",
   "metadata": {},
   "source": [
    "- 3.3. Tunning of `recurrent dropout`:"
   ]
  },
  {
   "cell_type": "code",
   "execution_count": 43,
   "metadata": {},
   "outputs": [
    {
     "name": "stdout",
     "output_type": "stream",
     "text": [
      "\n",
      " Recurrent dropout: 0.1 \n",
      "\n",
      "Epoch 1/10\n",
      "287/287 [==============================] - 10s 24ms/step - loss: 0.7733 - acc: 0.6690 - val_loss: 0.6503 - val_acc: 0.7384\n",
      "Epoch 2/10\n",
      "287/287 [==============================] - 7s 24ms/step - loss: 0.6142 - acc: 0.7486 - val_loss: 0.6180 - val_acc: 0.7424\n",
      "Epoch 3/10\n",
      "287/287 [==============================] - 7s 23ms/step - loss: 0.5340 - acc: 0.7851 - val_loss: 0.5654 - val_acc: 0.7681\n",
      "Epoch 4/10\n",
      "287/287 [==============================] - 6s 21ms/step - loss: 0.4807 - acc: 0.8139 - val_loss: 0.5722 - val_acc: 0.7620\n",
      "Epoch 5/10\n",
      "287/287 [==============================] - 6s 21ms/step - loss: 0.4373 - acc: 0.8322 - val_loss: 0.5829 - val_acc: 0.7624\n",
      "Epoch 6/10\n",
      "287/287 [==============================] - 6s 22ms/step - loss: 0.4057 - acc: 0.8466 - val_loss: 0.5935 - val_acc: 0.7616\n",
      "Epoch 7/10\n",
      "287/287 [==============================] - 6s 21ms/step - loss: 0.3784 - acc: 0.8576 - val_loss: 0.6193 - val_acc: 0.7616\n",
      "Epoch 8/10\n",
      "287/287 [==============================] - 6s 21ms/step - loss: 0.3556 - acc: 0.8654 - val_loss: 0.6490 - val_acc: 0.7568\n",
      "Epoch 9/10\n",
      "287/287 [==============================] - 6s 22ms/step - loss: 0.3336 - acc: 0.8744 - val_loss: 0.6748 - val_acc: 0.7533\n",
      "Epoch 10/10\n",
      "287/287 [==============================] - 6s 23ms/step - loss: 0.3148 - acc: 0.8848 - val_loss: 0.6869 - val_acc: 0.7485\n",
      "\n",
      " Recurrent dropout: 0.15000000000000002 \n",
      "\n",
      "Epoch 1/10\n",
      "287/287 [==============================] - 11s 23ms/step - loss: 0.7740 - acc: 0.6699 - val_loss: 0.6469 - val_acc: 0.7393\n",
      "Epoch 2/10\n",
      "287/287 [==============================] - 6s 21ms/step - loss: 0.6146 - acc: 0.7489 - val_loss: 0.5978 - val_acc: 0.7576\n",
      "Epoch 3/10\n",
      "287/287 [==============================] - 7s 23ms/step - loss: 0.5386 - acc: 0.7824 - val_loss: 0.5952 - val_acc: 0.7698\n",
      "Epoch 4/10\n",
      "287/287 [==============================] - 7s 24ms/step - loss: 0.4832 - acc: 0.8123 - val_loss: 0.5648 - val_acc: 0.7607\n",
      "Epoch 5/10\n",
      "287/287 [==============================] - 7s 24ms/step - loss: 0.4394 - acc: 0.8331 - val_loss: 0.5749 - val_acc: 0.7681\n",
      "Epoch 6/10\n",
      "287/287 [==============================] - 7s 23ms/step - loss: 0.4090 - acc: 0.8456 - val_loss: 0.6111 - val_acc: 0.7655\n",
      "Epoch 7/10\n",
      "287/287 [==============================] - 7s 23ms/step - loss: 0.3832 - acc: 0.8573 - val_loss: 0.6119 - val_acc: 0.7546\n",
      "Epoch 8/10\n",
      "287/287 [==============================] - 7s 25ms/step - loss: 0.3548 - acc: 0.8648 - val_loss: 0.6395 - val_acc: 0.7524\n",
      "Epoch 9/10\n",
      "287/287 [==============================] - 7s 23ms/step - loss: 0.3321 - acc: 0.8756 - val_loss: 0.7112 - val_acc: 0.7315\n",
      "Epoch 10/10\n",
      "287/287 [==============================] - 6s 22ms/step - loss: 0.3124 - acc: 0.8837 - val_loss: 0.6919 - val_acc: 0.7524\n",
      "\n",
      " Recurrent dropout: 0.2 \n",
      "\n",
      "Epoch 1/10\n",
      "287/287 [==============================] - 10s 24ms/step - loss: 0.7716 - acc: 0.6610 - val_loss: 0.6784 - val_acc: 0.7271\n",
      "Epoch 2/10\n",
      "287/287 [==============================] - 8s 26ms/step - loss: 0.6255 - acc: 0.7489 - val_loss: 0.6056 - val_acc: 0.7533\n",
      "Epoch 3/10\n",
      "287/287 [==============================] - 6s 22ms/step - loss: 0.5559 - acc: 0.7775 - val_loss: 0.5752 - val_acc: 0.7650\n",
      "Epoch 4/10\n",
      "287/287 [==============================] - 6s 22ms/step - loss: 0.4886 - acc: 0.8091 - val_loss: 0.5868 - val_acc: 0.7642\n",
      "Epoch 5/10\n",
      "287/287 [==============================] - 8s 26ms/step - loss: 0.4477 - acc: 0.8283 - val_loss: 0.5883 - val_acc: 0.7594\n",
      "Epoch 6/10\n",
      "287/287 [==============================] - 6s 22ms/step - loss: 0.4102 - acc: 0.8413 - val_loss: 0.5910 - val_acc: 0.7646\n",
      "Epoch 7/10\n",
      "287/287 [==============================] - 7s 24ms/step - loss: 0.3847 - acc: 0.8523 - val_loss: 0.6116 - val_acc: 0.7550\n",
      "Epoch 8/10\n",
      "287/287 [==============================] - 6s 21ms/step - loss: 0.3606 - acc: 0.8641 - val_loss: 0.6696 - val_acc: 0.7498\n",
      "Epoch 9/10\n",
      "287/287 [==============================] - 6s 20ms/step - loss: 0.3381 - acc: 0.8745 - val_loss: 0.6798 - val_acc: 0.7616\n",
      "Epoch 10/10\n",
      "287/287 [==============================] - 5s 19ms/step - loss: 0.3191 - acc: 0.8811 - val_loss: 0.7146 - val_acc: 0.7350\n",
      "\n",
      " Recurrent dropout: 0.25 \n",
      "\n",
      "Epoch 1/10\n",
      "287/287 [==============================] - 10s 22ms/step - loss: 0.7711 - acc: 0.6655 - val_loss: 0.6593 - val_acc: 0.7389\n",
      "Epoch 2/10\n",
      "287/287 [==============================] - 6s 21ms/step - loss: 0.6212 - acc: 0.7425 - val_loss: 0.5996 - val_acc: 0.7533\n",
      "Epoch 3/10\n",
      "287/287 [==============================] - 6s 21ms/step - loss: 0.5494 - acc: 0.7810 - val_loss: 0.5755 - val_acc: 0.7589\n",
      "Epoch 4/10\n",
      "287/287 [==============================] - 6s 22ms/step - loss: 0.4932 - acc: 0.8064 - val_loss: 0.5741 - val_acc: 0.7694\n",
      "Epoch 5/10\n",
      "287/287 [==============================] - 7s 23ms/step - loss: 0.4484 - acc: 0.8262 - val_loss: 0.5638 - val_acc: 0.7724\n",
      "Epoch 6/10\n",
      "287/287 [==============================] - 6s 22ms/step - loss: 0.4153 - acc: 0.8418 - val_loss: 0.5836 - val_acc: 0.7677\n",
      "Epoch 7/10\n",
      "287/287 [==============================] - 7s 25ms/step - loss: 0.3886 - acc: 0.8533 - val_loss: 0.6148 - val_acc: 0.7720\n",
      "Epoch 8/10\n",
      "287/287 [==============================] - 6s 20ms/step - loss: 0.3608 - acc: 0.8620 - val_loss: 0.6705 - val_acc: 0.7419\n",
      "Epoch 9/10\n",
      "287/287 [==============================] - 6s 20ms/step - loss: 0.3426 - acc: 0.8722 - val_loss: 0.6513 - val_acc: 0.7677\n",
      "Epoch 10/10\n",
      "287/287 [==============================] - 6s 19ms/step - loss: 0.3225 - acc: 0.8805 - val_loss: 0.6777 - val_acc: 0.7524\n",
      "\n",
      " Recurrent dropout: 0.3 \n",
      "\n",
      "Epoch 1/10\n",
      "287/287 [==============================] - 9s 21ms/step - loss: 0.7649 - acc: 0.6730 - val_loss: 0.6417 - val_acc: 0.7393\n",
      "Epoch 2/10\n",
      "287/287 [==============================] - 6s 19ms/step - loss: 0.5960 - acc: 0.7575 - val_loss: 0.5760 - val_acc: 0.7642\n",
      "Epoch 3/10\n",
      "287/287 [==============================] - 6s 19ms/step - loss: 0.5236 - acc: 0.7917 - val_loss: 0.5826 - val_acc: 0.7642\n",
      "Epoch 4/10\n",
      "287/287 [==============================] - 6s 19ms/step - loss: 0.4687 - acc: 0.8182 - val_loss: 0.5922 - val_acc: 0.7568\n",
      "Epoch 5/10\n",
      "287/287 [==============================] - 6s 19ms/step - loss: 0.4308 - acc: 0.8310 - val_loss: 0.5983 - val_acc: 0.7611\n",
      "Epoch 6/10\n",
      "287/287 [==============================] - 6s 19ms/step - loss: 0.4011 - acc: 0.8485 - val_loss: 0.6051 - val_acc: 0.7668\n",
      "Epoch 7/10\n",
      "287/287 [==============================] - 6s 19ms/step - loss: 0.3721 - acc: 0.8585 - val_loss: 0.6366 - val_acc: 0.7659\n",
      "Epoch 8/10\n",
      "287/287 [==============================] - 6s 19ms/step - loss: 0.3487 - acc: 0.8694 - val_loss: 0.6793 - val_acc: 0.7602\n",
      "Epoch 9/10\n",
      "287/287 [==============================] - 6s 19ms/step - loss: 0.3305 - acc: 0.8743 - val_loss: 0.7139 - val_acc: 0.7341\n",
      "Epoch 10/10\n",
      "287/287 [==============================] - 6s 19ms/step - loss: 0.3098 - acc: 0.8846 - val_loss: 0.7037 - val_acc: 0.7428\n",
      "\n",
      " Recurrent dropout: 0.35 \n",
      "\n",
      "Epoch 1/10\n",
      "287/287 [==============================] - 9s 21ms/step - loss: 0.7673 - acc: 0.6692 - val_loss: 0.6744 - val_acc: 0.7236\n",
      "Epoch 2/10\n",
      "287/287 [==============================] - 6s 20ms/step - loss: 0.6105 - acc: 0.7495 - val_loss: 0.5896 - val_acc: 0.7589\n",
      "Epoch 3/10\n",
      "287/287 [==============================] - 6s 19ms/step - loss: 0.5399 - acc: 0.7904 - val_loss: 0.5689 - val_acc: 0.7668\n",
      "Epoch 4/10\n",
      "287/287 [==============================] - 6s 19ms/step - loss: 0.4817 - acc: 0.8131 - val_loss: 0.5710 - val_acc: 0.7711\n",
      "Epoch 5/10\n",
      "287/287 [==============================] - 6s 20ms/step - loss: 0.4454 - acc: 0.8292 - val_loss: 0.5886 - val_acc: 0.7698\n",
      "Epoch 6/10\n",
      "287/287 [==============================] - 6s 19ms/step - loss: 0.4099 - acc: 0.8427 - val_loss: 0.6065 - val_acc: 0.7629\n",
      "Epoch 7/10\n",
      "287/287 [==============================] - 6s 20ms/step - loss: 0.3807 - acc: 0.8565 - val_loss: 0.6289 - val_acc: 0.7616\n",
      "Epoch 8/10\n",
      "287/287 [==============================] - 6s 19ms/step - loss: 0.3602 - acc: 0.8617 - val_loss: 0.6397 - val_acc: 0.7602\n",
      "Epoch 9/10\n",
      "287/287 [==============================] - 6s 19ms/step - loss: 0.3351 - acc: 0.8759 - val_loss: 0.6742 - val_acc: 0.7541\n",
      "Epoch 10/10\n",
      "287/287 [==============================] - 6s 19ms/step - loss: 0.3182 - acc: 0.8813 - val_loss: 0.7035 - val_acc: 0.7607\n",
      "\n",
      " Recurrent dropout: 0.39999999999999997 \n",
      "\n"
     ]
    },
    {
     "name": "stdout",
     "output_type": "stream",
     "text": [
      "Epoch 1/10\n",
      "287/287 [==============================] - 10s 21ms/step - loss: 0.7759 - acc: 0.6629 - val_loss: 0.6731 - val_acc: 0.7297\n",
      "Epoch 2/10\n",
      "287/287 [==============================] - 6s 21ms/step - loss: 0.6243 - acc: 0.7493 - val_loss: 0.5918 - val_acc: 0.7537\n",
      "Epoch 3/10\n",
      "287/287 [==============================] - 6s 20ms/step - loss: 0.5480 - acc: 0.7774 - val_loss: 0.6329 - val_acc: 0.7302\n",
      "Epoch 4/10\n",
      "287/287 [==============================] - 6s 19ms/step - loss: 0.4892 - acc: 0.8074 - val_loss: 0.5732 - val_acc: 0.7685\n",
      "Epoch 5/10\n",
      "287/287 [==============================] - 6s 19ms/step - loss: 0.4479 - acc: 0.8247 - val_loss: 0.5980 - val_acc: 0.7598\n",
      "Epoch 6/10\n",
      "287/287 [==============================] - 6s 19ms/step - loss: 0.4147 - acc: 0.8411 - val_loss: 0.5966 - val_acc: 0.7716\n",
      "Epoch 7/10\n",
      "287/287 [==============================] - 6s 19ms/step - loss: 0.3886 - acc: 0.8533 - val_loss: 0.6141 - val_acc: 0.7620\n",
      "Epoch 8/10\n",
      "287/287 [==============================] - 6s 19ms/step - loss: 0.3678 - acc: 0.8583 - val_loss: 0.6491 - val_acc: 0.7493\n",
      "Epoch 9/10\n",
      "287/287 [==============================] - 5s 19ms/step - loss: 0.3397 - acc: 0.8711 - val_loss: 0.6674 - val_acc: 0.7624\n",
      "Epoch 10/10\n",
      "287/287 [==============================] - 5s 19ms/step - loss: 0.3249 - acc: 0.8757 - val_loss: 0.6864 - val_acc: 0.7437\n",
      "\n",
      " Recurrent dropout: 0.44999999999999996 \n",
      "\n",
      "Epoch 1/10\n",
      "287/287 [==============================] - 9s 21ms/step - loss: 0.7769 - acc: 0.6654 - val_loss: 0.6703 - val_acc: 0.7079\n",
      "Epoch 2/10\n",
      "287/287 [==============================] - 6s 20ms/step - loss: 0.6275 - acc: 0.7432 - val_loss: 0.6003 - val_acc: 0.7511\n",
      "Epoch 3/10\n",
      "287/287 [==============================] - 6s 19ms/step - loss: 0.5507 - acc: 0.7788 - val_loss: 0.5733 - val_acc: 0.7751\n",
      "Epoch 4/10\n",
      "287/287 [==============================] - 6s 19ms/step - loss: 0.4939 - acc: 0.8065 - val_loss: 0.5644 - val_acc: 0.7694\n",
      "Epoch 5/10\n",
      "287/287 [==============================] - 6s 19ms/step - loss: 0.4491 - acc: 0.8244 - val_loss: 0.5728 - val_acc: 0.7663\n",
      "Epoch 6/10\n",
      "287/287 [==============================] - 6s 19ms/step - loss: 0.4136 - acc: 0.8406 - val_loss: 0.5926 - val_acc: 0.7690\n",
      "Epoch 7/10\n",
      "287/287 [==============================] - 6s 19ms/step - loss: 0.3868 - acc: 0.8488 - val_loss: 0.6221 - val_acc: 0.7493\n",
      "Epoch 8/10\n",
      "287/287 [==============================] - 6s 19ms/step - loss: 0.3624 - acc: 0.8614 - val_loss: 0.6771 - val_acc: 0.7629\n",
      "Epoch 9/10\n",
      "287/287 [==============================] - 6s 19ms/step - loss: 0.3416 - acc: 0.8706 - val_loss: 0.6523 - val_acc: 0.7554\n",
      "Epoch 10/10\n",
      "287/287 [==============================] - 6s 19ms/step - loss: 0.3226 - acc: 0.8768 - val_loss: 0.6985 - val_acc: 0.7563\n"
     ]
    }
   ],
   "source": [
    "history_dict = {}\n",
    "\n",
    "recurrent_dropout_set = {'start':0.1, 'step':0.05, 'max':0.45}\n",
    "\n",
    "my_NN = NN_assistant(words, features, max_len, sentiments)\n",
    "my_NN.encode_n_split()\n",
    "\n",
    "\n",
    "recurrent_dropout = recurrent_dropout_set['start']\n",
    "\n",
    "while recurrent_dropout <= recurrent_dropout_set['max']:\n",
    "    \n",
    "    print(\"\\n Recurrent dropout:\", recurrent_dropout, \"\\n\")\n",
    "    \n",
    "    my_NN, history = quick_build (words, features, max_len, sentiments, layer = best_option.index, \n",
    "                                  units = int(best_option['units']), dropout = float(best_option [\"dropout\"]), \n",
    "                                  recurrent_dropout = recurrent_dropout,\n",
    "                                  filter_ = int(best_option['filter']), epochs = 10, \n",
    "                                  save_history = True, patience = 10)\n",
    "    history_dict[recurrent_dropout] = history.history\n",
    "    recurrent_dropout = recurrent_dropout + recurrent_dropout_set['step']"
   ]
  },
  {
   "cell_type": "code",
   "execution_count": 44,
   "metadata": {},
   "outputs": [],
   "source": [
    "val_acc_list = []\n",
    "acc_list = []\n",
    "\n",
    "for option in history_dict:\n",
    "    val_acc_list.append(history_dict[option]['val_acc'])\n",
    "    acc_list.append(history_dict[option]['acc'])"
   ]
  },
  {
   "cell_type": "code",
   "execution_count": 45,
   "metadata": {},
   "outputs": [
    {
     "data": {
      "image/png": "[encoded data removed]",
      "text/plain": [
       "<Figure size 1080x1440 with 8 Axes>"
      ]
     },
     "metadata": {
      "needs_background": "light"
     },
     "output_type": "display_data"
    }
   ],
   "source": [
    "fig, ax = plt.subplots(4, 2, figsize=(15, 20))\n",
    "\n",
    "x = range(1, 10 + 1)\n",
    "\n",
    "count = 0\n",
    "\n",
    "for i in range(4):\n",
    "    for j in range(2):\n",
    "        \n",
    "        ax[i][j].plot(x, val_acc_list[count], label = list(history_dict.keys())[count], linewidth = 3)\n",
    "        ax[i][j].plot(x, acc_list[count], label = list(history_dict.keys())[count], linewidth = 3)\n",
    "        dropout_rate = np.round(list(history_dict.keys())[count], 2)\n",
    "        dropout_str = \" Recurrent dropout rate \" + str(dropout_rate)\n",
    "        ax[i][j].set_title(dropout_str)\n",
    "        count = count + 1"
   ]
  },
  {
   "cell_type": "markdown",
   "metadata": {},
   "source": [
    "**Comment:** Recurrent dropout 0.3 shows the best result, as per charts above. Another important point here  - find the best quantity of epochs. Evidently, the best oprion is 4 epochs, after that model shows great overfitting."
   ]
  },
  {
   "cell_type": "code",
   "execution_count": 46,
   "metadata": {},
   "outputs": [
    {
     "data": {
      "text/html": [
       "<div>\n",
       "<style scoped>\n",
       "    .dataframe tbody tr th:only-of-type {\n",
       "        vertical-align: middle;\n",
       "    }\n",
       "\n",
       "    .dataframe tbody tr th {\n",
       "        vertical-align: top;\n",
       "    }\n",
       "\n",
       "    .dataframe thead th {\n",
       "        text-align: right;\n",
       "    }\n",
       "</style>\n",
       "<table border=\"1\" class=\"dataframe\">\n",
       "  <thead>\n",
       "    <tr style=\"text-align: right;\">\n",
       "      <th></th>\n",
       "      <th>units</th>\n",
       "      <th>filter</th>\n",
       "      <th>loss</th>\n",
       "      <th>dropout</th>\n",
       "      <th>recurrent_dropout</th>\n",
       "      <th>epochs</th>\n",
       "    </tr>\n",
       "  </thead>\n",
       "  <tbody>\n",
       "    <tr>\n",
       "      <td>LSTM</td>\n",
       "      <td>64.0</td>\n",
       "      <td>2.0</td>\n",
       "      <td>0.627508</td>\n",
       "      <td>0.45</td>\n",
       "      <td>0.3</td>\n",
       "      <td>4.0</td>\n",
       "    </tr>\n",
       "  </tbody>\n",
       "</table>\n",
       "</div>"
      ],
      "text/plain": [
       "      units  filter      loss  dropout  recurrent_dropout  epochs\n",
       "LSTM   64.0     2.0  0.627508     0.45                0.3     4.0"
      ]
     },
     "execution_count": 46,
     "metadata": {},
     "output_type": "execute_result"
    }
   ],
   "source": [
    "layer_name = str(best_option.index[0])\n",
    "best_option.loc[layer_name,'recurrent_dropout'] = 0.3\n",
    "best_option.loc[layer_name,'epochs'] = 4\n",
    "best_option"
   ]
  },
  {
   "cell_type": "markdown",
   "metadata": {},
   "source": [
    "**Comment:** In section 3 of this course work, the best set of parametrs was found. Using the parametrs printed above, I will train the NN model and make respective predictions."
   ]
  },
  {
   "cell_type": "markdown",
   "metadata": {},
   "source": [
    "## Results:"
   ]
  },
  {
   "cell_type": "markdown",
   "metadata": {},
   "source": [
    "Here is trainning of the model built up on the best found set of parametrs and respective prediction:"
   ]
  },
  {
   "cell_type": "code",
   "execution_count": 47,
   "metadata": {},
   "outputs": [
    {
     "name": "stdout",
     "output_type": "stream",
     "text": [
      "Epoch 1/4\n",
      "287/287 [==============================] - 9s 21ms/step - loss: 0.7657 - acc: 0.6714 - val_loss: 0.6320 - val_acc: 0.7467\n",
      "Epoch 2/4\n",
      "287/287 [==============================] - 6s 20ms/step - loss: 0.5946 - acc: 0.7617 - val_loss: 0.6220 - val_acc: 0.7384\n",
      "Epoch 3/4\n",
      "287/287 [==============================] - 6s 20ms/step - loss: 0.5246 - acc: 0.7924 - val_loss: 0.5849 - val_acc: 0.7690\n",
      "Epoch 4/4\n",
      "287/287 [==============================] - 6s 20ms/step - loss: 0.4732 - acc: 0.8157 - val_loss: 0.6018 - val_acc: 0.7563\n"
     ]
    }
   ],
   "source": [
    "my_NN, history = quick_build (words, features, max_len, sentiments, layer = best_option.index, \n",
    "                              units = int(best_option['units']), dropout = float(best_option['dropout']), \n",
    "                              recurrent_dropout = float(best_option['recurrent_dropout']),\n",
    "                              filter_ = int(best_option['filter']), epochs = int(best_option['epochs']), \n",
    "                              save_history = True, patience = 6)\n",
    "y_pred = my_NN.predict()\n",
    "y_test = my_NN.y_test"
   ]
  },
  {
   "cell_type": "markdown",
   "metadata": {},
   "source": [
    "### Evaluation"
   ]
  },
  {
   "cell_type": "markdown",
   "metadata": {},
   "source": [
    "**`Metric 1.` Accuracy**: overall and per class."
   ]
  },
  {
   "cell_type": "code",
   "execution_count": 48,
   "metadata": {},
   "outputs": [],
   "source": [
    "# helper functiom that returns iverall test accuracy, dictionary of form {class:accuracy} adn\n",
    "def accuracies(y_test, y_pred, labels):\n",
    "    \n",
    "    values, counts = np.unique(y_test, return_counts = True)\n",
    "    test_dict = {k:v for k,v in zip(values,counts)}\n",
    "    \n",
    "    counters = np.zeros((len(labels)))\n",
    "    correct_pred_dict = {k:v for k,v in zip(labels,counters)}\n",
    "    \n",
    "    for i in range(len(y_test)):\n",
    "        for j in labels:\n",
    "            if y_test[i] == j and y_pred[i] == j:\n",
    "                correct_pred_dict[j] = correct_pred_dict[j] + 1\n",
    "    \n",
    "    accuracy_per_class = {}\n",
    "    for i in correct_pred_dict:\n",
    "        accuracy_per_class[i] =  np.round((correct_pred_dict[i]/test_dict[i]),2)\n",
    "        \n",
    "    accuracy = np.round(sum(correct_pred_dict.values())/len(y_test), 2)\n",
    "    \n",
    "    return accuracy, accuracy_per_class, correct_pred_dict\n",
    "    "
   ]
  },
  {
   "cell_type": "code",
   "execution_count": 49,
   "metadata": {},
   "outputs": [
    {
     "name": "stdout",
     "output_type": "stream",
     "text": [
      "\n",
      "Overall accuracy is : 0.75 \n",
      "\n",
      "Accuracy of class 0 or negative 0.85\n",
      "Accuracy of class 1 or neutral 0.6\n",
      "Accuracy of class 2 or positive 0.56\n"
     ]
    }
   ],
   "source": [
    "labels = np.unique(y_test)\n",
    "accuracy, accuracy_per_class, correct_pred_dict = accuracies(y_test, y_pred, labels)\n",
    "\n",
    "encode_dict = my_NN.encode_dict\n",
    "\n",
    "\n",
    "print (\"\\nOverall accuracy is :\", accuracy, \"\\n\")\n",
    "\n",
    "count = 0\n",
    "\n",
    "for i in accuracy_per_class:\n",
    "    print (\"Accuracy of class\", i, \"or\", list(encode_dict.keys())[count], accuracy_per_class[i])\n",
    "    count = count + 1\n"
   ]
  },
  {
   "cell_type": "markdown",
   "metadata": {},
   "source": [
    "**Comment :** Overall, performance of the model reached planned level of confidence - `75%`. It is important to notice that accuracies per classes are pretty different. The best accuracy is shown by negative class (0) - `85%`, which is much higher than for neutral class (`60%`) and positive class (`56%`). The most likely, it is caused by severe imbalance of the dataset, as it was shown in the first part of the course work. Quantity of negative samples heavily outweigh positive and neutral. Another reason might be presence of neutral class. I think it is quite complicated even for human to distinguish between neutral and positive classes, so it makes the task even more difficult. Neutral class is not only difficult to spot itself, it also contributes to worser positive class reocgnition. My assumption is that if the task were to classify only among 2 classes, performace would way better."
   ]
  },
  {
   "cell_type": "markdown",
   "metadata": {},
   "source": [
    "- Precision, recall and F1"
   ]
  },
  {
   "cell_type": "code",
   "execution_count": 50,
   "metadata": {},
   "outputs": [],
   "source": [
    "def precision_recall_f1 (y_pred, y_test, cls, correct_pred_dict):\n",
    "    \n",
    "    precision = 0\n",
    "    recall = 0\n",
    "    correctly_predicted_all = correct_pred_dict [cls]\n",
    "    predicted_overall = 0\n",
    "    overall_qty = 0\n",
    "    \n",
    "    for i in range(len(y_pred)):\n",
    "        if y_pred[i] == cls:\n",
    "            predicted_overall = predicted_overall + 1\n",
    "        if y_test[i] == cls:\n",
    "            overall_qty = overall_qty + 1\n",
    "    \n",
    "    precision = correctly_predicted_all/predicted_overall\n",
    "    recall = correctly_predicted_all/overall_qty\n",
    "    f1 = 2*(precision * recall)/(precision + recall)\n",
    "    \n",
    "    return np.round(precision, 3), np.round(recall, 3), np.round(f1, 3)"
   ]
  },
  {
   "cell_type": "code",
   "execution_count": 51,
   "metadata": {},
   "outputs": [
    {
     "data": {
      "text/html": [
       "<div>\n",
       "<style scoped>\n",
       "    .dataframe tbody tr th:only-of-type {\n",
       "        vertical-align: middle;\n",
       "    }\n",
       "\n",
       "    .dataframe tbody tr th {\n",
       "        vertical-align: top;\n",
       "    }\n",
       "\n",
       "    .dataframe thead th {\n",
       "        text-align: right;\n",
       "    }\n",
       "</style>\n",
       "<table border=\"1\" class=\"dataframe\">\n",
       "  <thead>\n",
       "    <tr style=\"text-align: right;\">\n",
       "      <th></th>\n",
       "      <th>Sentiment</th>\n",
       "      <th>Precision</th>\n",
       "      <th>Recall</th>\n",
       "      <th>F1</th>\n",
       "    </tr>\n",
       "  </thead>\n",
       "  <tbody>\n",
       "    <tr>\n",
       "      <td>0</td>\n",
       "      <td>negative</td>\n",
       "      <td>0.838</td>\n",
       "      <td>0.849</td>\n",
       "      <td>0.844</td>\n",
       "    </tr>\n",
       "    <tr>\n",
       "      <td>1</td>\n",
       "      <td>neutral</td>\n",
       "      <td>0.521</td>\n",
       "      <td>0.599</td>\n",
       "      <td>0.557</td>\n",
       "    </tr>\n",
       "    <tr>\n",
       "      <td>2</td>\n",
       "      <td>positive</td>\n",
       "      <td>0.755</td>\n",
       "      <td>0.565</td>\n",
       "      <td>0.646</td>\n",
       "    </tr>\n",
       "  </tbody>\n",
       "</table>\n",
       "</div>"
      ],
      "text/plain": [
       "  Sentiment  Precision  Recall     F1\n",
       "0  negative      0.838   0.849  0.844\n",
       "1   neutral      0.521   0.599  0.557\n",
       "2  positive      0.755   0.565  0.646"
      ]
     },
     "execution_count": 51,
     "metadata": {},
     "output_type": "execute_result"
    }
   ],
   "source": [
    "prec_recall_arr = []\n",
    "\n",
    "for i in encode_dict:\n",
    "    tmp = (i, \n",
    "           precision_recall_f1(y_pred, y_test, encode_dict[i], correct_pred_dict)[0], \n",
    "           precision_recall_f1(y_pred, y_test, encode_dict[i], correct_pred_dict)[1],\n",
    "           precision_recall_f1(y_pred, y_test, encode_dict[i], correct_pred_dict)[2])\n",
    "    prec_recall_arr.append(tmp)\n",
    "\n",
    "rec_prec = pd.DataFrame(prec_recall_arr, columns = [\"Sentiment\", \"Precision\", \"Recall\", \"F1\"])\n",
    "rec_prec"
   ]
  },
  {
   "cell_type": "markdown",
   "metadata": {},
   "source": [
    "**Comment:** \n",
    "\n",
    "*Precision* shows how many data points labeled as particular class really belong to this class. It means that almost `84%` of labels predicted as negative are really negative. The lowest precision is observed for neutral class - roughly only each second label predicted as neutral is really neutral. This figure again confirms that neutral class is quite complicated task and plays a difining role in model performance - somewhat less than half of neutral prediction is actually other classes. \n",
    "\n",
    "*Recall* figures shows that positive and negative classes to some extent may be affected by the neutral class low precsion - only `52%` of positives are recognized corretly and `84%` of negatives are predicted correctly. \n",
    "\n",
    "*F1 score* is said to be somethis in between recall and precision (https://towardsdatascience.com/multi-class-metrics-made-simple-part-ii-the-f1-score-ebe8b2c2ca1) and it indeed is."
   ]
  },
  {
   "cell_type": "markdown",
   "metadata": {},
   "source": [
    "- Confusion matrix"
   ]
  },
  {
   "cell_type": "code",
   "execution_count": 52,
   "metadata": {},
   "outputs": [
    {
     "name": "stdout",
     "output_type": "stream",
     "text": [
      "\n",
      "\n",
      "Confusion matrix: \n",
      "\n"
     ]
    },
    {
     "data": {
      "text/plain": [
       "<matplotlib.axes._subplots.AxesSubplot at 0x1a6a5d1610>"
      ]
     },
     "execution_count": 52,
     "metadata": {},
     "output_type": "execute_result"
    },
    {
     "data": {
      "image/png": "[encoded data removed]",
      "text/plain": [
       "<Figure size 720x576 with 2 Axes>"
      ]
     },
     "metadata": {
      "needs_background": "light"
     },
     "output_type": "display_data"
    }
   ],
   "source": [
    "# confusion matrix\n",
    "conf_matrix = tf.math.confusion_matrix(y_test, y_pred, num_classes=3, weights=None, \n",
    "                                       dtype=tf.dtypes.int32, name=None)\n",
    "\n",
    "\n",
    "fig, ax = plt.subplots(figsize=(10,8))\n",
    "print(\"\\n\\nConfusion matrix: \\n\")\n",
    "sns.heatmap(conf_matrix, annot = conf_matrix, fmt = 'd')"
   ]
  },
  {
   "cell_type": "markdown",
   "metadata": {},
   "source": [
    "**Comment**: Scince the dataset is very imbalanced, confusion matrix in absoluite values is quite hard to interpret. So, I will use confusion matrix in percents for analytics:"
   ]
  },
  {
   "cell_type": "code",
   "execution_count": 53,
   "metadata": {},
   "outputs": [
    {
     "name": "stdout",
     "output_type": "stream",
     "text": [
      "\n",
      "\n",
      "New confusion matrix in per-cent: \n",
      "\n"
     ]
    },
    {
     "data": {
      "text/plain": [
       "<matplotlib.axes._subplots.AxesSubplot at 0x1a69ccd610>"
      ]
     },
     "execution_count": 53,
     "metadata": {},
     "output_type": "execute_result"
    },
    {
     "data": {
      "image/png": "[encoded data removed]",
      "text/plain": [
       "<Figure size 720x576 with 2 Axes>"
      ]
     },
     "metadata": {
      "needs_background": "light"
     },
     "output_type": "display_data"
    }
   ],
   "source": [
    "line_sum = 0\n",
    "new_conf_matrix = np.zeros((3,3))\n",
    "\n",
    "for i in range(3):\n",
    "    line_sum = int(sum(conf_matrix[i]))\n",
    "    for j in range(3):\n",
    "        new_conf_matrix[i,j] = np.round(int(conf_matrix[i,j])/line_sum, 2)\n",
    "\n",
    "        \n",
    "fig, ax = plt.subplots(figsize=(10,8))\n",
    "print(\"\\n\\nNew confusion matrix in per-cent: \\n\")\n",
    "sns.heatmap(new_conf_matrix, annot = new_conf_matrix, fmt = '.2g')"
   ]
  },
  {
   "cell_type": "markdown",
   "metadata": {},
   "source": [
    "**Comment:** This confusion matrix is quite different from the first one. Per-cent confusion matrix is more accurate as it is not influenced by the imbalance of the dataset. The first thing which caught my eye is that neutral class is actually more frequently predicted as negative (34% of neutral tweets are predicted as negative) while only 6% were mispredicted as positive. Postitive reviews themselves in 21% of cases are mispredicted as negative and only 3% of negative reviews are mispredicted as positive, which again shows the high influence of quantity of data samples belonging to each class."
   ]
  },
  {
   "cell_type": "markdown",
   "metadata": {},
   "source": [
    "### Conclusion"
   ]
  },
  {
   "cell_type": "markdown",
   "metadata": {},
   "source": [
    "The best hyperparameters set is:"
   ]
  },
  {
   "cell_type": "code",
   "execution_count": 54,
   "metadata": {},
   "outputs": [
    {
     "name": "stdout",
     "output_type": "stream",
     "text": [
      "Tunned hyperparametrs:\n"
     ]
    },
    {
     "data": {
      "text/html": [
       "<div>\n",
       "<style scoped>\n",
       "    .dataframe tbody tr th:only-of-type {\n",
       "        vertical-align: middle;\n",
       "    }\n",
       "\n",
       "    .dataframe tbody tr th {\n",
       "        vertical-align: top;\n",
       "    }\n",
       "\n",
       "    .dataframe thead th {\n",
       "        text-align: right;\n",
       "    }\n",
       "</style>\n",
       "<table border=\"1\" class=\"dataframe\">\n",
       "  <thead>\n",
       "    <tr style=\"text-align: right;\">\n",
       "      <th></th>\n",
       "      <th>units</th>\n",
       "      <th>filter</th>\n",
       "      <th>loss</th>\n",
       "      <th>dropout</th>\n",
       "      <th>recurrent_dropout</th>\n",
       "      <th>epochs</th>\n",
       "    </tr>\n",
       "  </thead>\n",
       "  <tbody>\n",
       "    <tr>\n",
       "      <td>LSTM</td>\n",
       "      <td>64.0</td>\n",
       "      <td>2.0</td>\n",
       "      <td>0.627508</td>\n",
       "      <td>0.45</td>\n",
       "      <td>0.3</td>\n",
       "      <td>4.0</td>\n",
       "    </tr>\n",
       "  </tbody>\n",
       "</table>\n",
       "</div>"
      ],
      "text/plain": [
       "      units  filter      loss  dropout  recurrent_dropout  epochs\n",
       "LSTM   64.0     2.0  0.627508     0.45                0.3     4.0"
      ]
     },
     "execution_count": 54,
     "metadata": {},
     "output_type": "execute_result"
    }
   ],
   "source": [
    "print(\"Tunned hyperparametrs:\")\n",
    "best_option"
   ]
  },
  {
   "cell_type": "markdown",
   "metadata": {},
   "source": [
    "The acrhitecture of the final model:\n",
    "\n",
    "|Layer type   ||Option 1       |\n",
    "|:------------||:--------------|\n",
    "|**Input**    ||Embedding layer|\n",
    "|             ||               |\n",
    "|**Hidden**   ||Conv1D         |\n",
    "|             ||MaxPooling     |\n",
    "|             ||LSTM           |\n",
    "|             ||               |\n",
    "|**Output**   ||Dense          |\n",
    "\n"
   ]
  },
  {
   "cell_type": "markdown",
   "metadata": {},
   "source": [
    "The model reached 75% accuracy and satisfied baseline accuracy that was set up in the first section of the coursework. Apparently, for real life applications this level of confidence is not enough. At the same time, in my opinion real life tasks ancticipate better data: balanced and overall bigger. \n",
    "\n",
    "I think, that if the task was to distinguish only between positive and negative reviews, accuracy would be much higher. Negative recall is anyway quite high, but this may potentially improve recall of the positive class.\n",
    "\n",
    "Even though dropout rates were intriduced, all models showed ovefitting, which means: (a) no more complicated decision borders are required; (b) we need to get more data.\n",
    "\n",
    "Not only hyperparametrs influence on the model performance in NLP. Another inportant meber is actually the way data was prepared: how it was cleaned, how it was encoded, which length of vocabluary you used, which length of vecoters."
   ]
  },
  {
   "cell_type": "markdown",
   "metadata": {},
   "source": [
    "And hence, here is the follwing suggestions:\n",
    "\n",
    "1. Balance dataset by providing more tweets with neutral and positive reviews.\n",
    "2. Make sure neutral reviews are marked correctly and really are not negative.\n",
    "3. Try pre-trained word-embeddings or other tokenizers istead of keras tokenizer.\n",
    "4. Play with length of dictionary and encoded vectors: e.g. try to use only top 75% used tokens, deacrease length of the vecotr, etc."
   ]
  },
  {
   "cell_type": "code",
   "execution_count": null,
   "metadata": {},
   "outputs": [],
   "source": []
  }
 ],
 "metadata": {
  "kernelspec": {
   "display_name": "Python 3",
   "language": "python",
   "name": "python3"
  },
  "language_info": {
   "codemirror_mode": {
    "name": "ipython",
    "version": 3
   },
   "file_extension": ".py",
   "mimetype": "text/x-python",
   "name": "python",
   "nbconvert_exporter": "python",
   "pygments_lexer": "ipython3",
   "version": "3.7.4"
  }
 },
 "nbformat": 4,
 "nbformat_minor": 2
}
